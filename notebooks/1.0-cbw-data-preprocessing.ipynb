{
 "nbformat": 4,
 "nbformat_minor": 5,
 "metadata": {
  "colab": {
   "name": "temp.ipynb",
   "provenance": [],
   "collapsed_sections": []
  },
  "language_info": {
   "name": "python"
  },
  "kernelspec": {
   "name": "python3",
   "language": "python",
   "display_name": "Python 3 (ipykernel)"
  }
 },
 "cells": [
  {
   "cell_type": "markdown",
   "metadata": {
    "gradient": {
     "editing": false
    },
    "id": "1a069376-2802-477e-ae22-8192da45be11"
   },
   "source": [
    "# Data preprocessing"
   ],
   "id": "1a069376-2802-477e-ae22-8192da45be11"
  },
  {
   "cell_type": "code",
   "metadata": {
    "id": "J44Q8wLcBs7W"
   },
   "source": [
    "import pandas as pd\n",
    "import numpy as np\n",
    "from sklearn.impute import SimpleImputer\n",
    "from sklearn.preprocessing import LabelEncoder\n",
    "from sklearn.preprocessing import StandardScaler"
   ],
   "id": "J44Q8wLcBs7W",
   "execution_count": 1,
   "outputs": []
  },
  {
   "cell_type": "markdown",
   "metadata": {
    "id": "oYngGJuJABAl"
   },
   "source": [
    "## Obtaining base train and test dataframes"
   ],
   "id": "oYngGJuJABAl"
  },
  {
   "cell_type": "markdown",
   "metadata": {
    "gradient": {
     "editing": false
    },
    "id": "39d2ae9c-7e40-4baa-9c72-cdd5d912bb04"
   },
   "source": [
    "### Creating train and test dataframes"
   ],
   "id": "39d2ae9c-7e40-4baa-9c72-cdd5d912bb04"
  },
  {
   "cell_type": "code",
   "metadata": {
    "id": "iFDLQubNVQtP"
   },
   "source": [
    "def get_dataframes():\n",
    "  \"\"\"Return a tuple containing train and test dataframes.\"\"\"\n",
    "  train = pd.read_csv('../../data/external/application_train.csv')\n",
    "  test = pd.read_csv('../../data/external/application_test.csv')\n",
    "  return train, test"
   ],
   "id": "iFDLQubNVQtP",
   "execution_count": 2,
   "outputs": []
  },
  {
   "cell_type": "code",
   "execution_count": 3,
   "outputs": [],
   "source": [
    "(train, test) = get_dataframes()"
   ],
   "metadata": {
    "collapsed": false,
    "pycharm": {
     "name": "#%%\n"
    }
   }
  },
  {
   "cell_type": "code",
   "execution_count": 4,
   "outputs": [
    {
     "data": {
      "text/plain": "   SK_ID_CURR  TARGET NAME_CONTRACT_TYPE CODE_GENDER FLAG_OWN_CAR  \\\n0      100002       1         Cash loans           M            N   \n1      100003       0         Cash loans           F            N   \n2      100004       0    Revolving loans           M            Y   \n3      100006       0         Cash loans           F            N   \n4      100007       0         Cash loans           M            N   \n\n  FLAG_OWN_REALTY  CNT_CHILDREN  AMT_INCOME_TOTAL  AMT_CREDIT  AMT_ANNUITY  \\\n0               Y             0          202500.0    406597.5      24700.5   \n1               N             0          270000.0   1293502.5      35698.5   \n2               Y             0           67500.0    135000.0       6750.0   \n3               Y             0          135000.0    312682.5      29686.5   \n4               Y             0          121500.0    513000.0      21865.5   \n\n   ...  FLAG_DOCUMENT_18 FLAG_DOCUMENT_19 FLAG_DOCUMENT_20 FLAG_DOCUMENT_21  \\\n0  ...                 0                0                0                0   \n1  ...                 0                0                0                0   \n2  ...                 0                0                0                0   \n3  ...                 0                0                0                0   \n4  ...                 0                0                0                0   \n\n  AMT_REQ_CREDIT_BUREAU_HOUR AMT_REQ_CREDIT_BUREAU_DAY  \\\n0                        0.0                       0.0   \n1                        0.0                       0.0   \n2                        0.0                       0.0   \n3                        NaN                       NaN   \n4                        0.0                       0.0   \n\n   AMT_REQ_CREDIT_BUREAU_WEEK  AMT_REQ_CREDIT_BUREAU_MON  \\\n0                         0.0                        0.0   \n1                         0.0                        0.0   \n2                         0.0                        0.0   \n3                         NaN                        NaN   \n4                         0.0                        0.0   \n\n   AMT_REQ_CREDIT_BUREAU_QRT  AMT_REQ_CREDIT_BUREAU_YEAR  \n0                        0.0                         1.0  \n1                        0.0                         0.0  \n2                        0.0                         0.0  \n3                        NaN                         NaN  \n4                        0.0                         0.0  \n\n[5 rows x 122 columns]",
      "text/html": "<div>\n<style scoped>\n    .dataframe tbody tr th:only-of-type {\n        vertical-align: middle;\n    }\n\n    .dataframe tbody tr th {\n        vertical-align: top;\n    }\n\n    .dataframe thead th {\n        text-align: right;\n    }\n</style>\n<table border=\"1\" class=\"dataframe\">\n  <thead>\n    <tr style=\"text-align: right;\">\n      <th></th>\n      <th>SK_ID_CURR</th>\n      <th>TARGET</th>\n      <th>NAME_CONTRACT_TYPE</th>\n      <th>CODE_GENDER</th>\n      <th>FLAG_OWN_CAR</th>\n      <th>FLAG_OWN_REALTY</th>\n      <th>CNT_CHILDREN</th>\n      <th>AMT_INCOME_TOTAL</th>\n      <th>AMT_CREDIT</th>\n      <th>AMT_ANNUITY</th>\n      <th>...</th>\n      <th>FLAG_DOCUMENT_18</th>\n      <th>FLAG_DOCUMENT_19</th>\n      <th>FLAG_DOCUMENT_20</th>\n      <th>FLAG_DOCUMENT_21</th>\n      <th>AMT_REQ_CREDIT_BUREAU_HOUR</th>\n      <th>AMT_REQ_CREDIT_BUREAU_DAY</th>\n      <th>AMT_REQ_CREDIT_BUREAU_WEEK</th>\n      <th>AMT_REQ_CREDIT_BUREAU_MON</th>\n      <th>AMT_REQ_CREDIT_BUREAU_QRT</th>\n      <th>AMT_REQ_CREDIT_BUREAU_YEAR</th>\n    </tr>\n  </thead>\n  <tbody>\n    <tr>\n      <th>0</th>\n      <td>100002</td>\n      <td>1</td>\n      <td>Cash loans</td>\n      <td>M</td>\n      <td>N</td>\n      <td>Y</td>\n      <td>0</td>\n      <td>202500.0</td>\n      <td>406597.5</td>\n      <td>24700.5</td>\n      <td>...</td>\n      <td>0</td>\n      <td>0</td>\n      <td>0</td>\n      <td>0</td>\n      <td>0.0</td>\n      <td>0.0</td>\n      <td>0.0</td>\n      <td>0.0</td>\n      <td>0.0</td>\n      <td>1.0</td>\n    </tr>\n    <tr>\n      <th>1</th>\n      <td>100003</td>\n      <td>0</td>\n      <td>Cash loans</td>\n      <td>F</td>\n      <td>N</td>\n      <td>N</td>\n      <td>0</td>\n      <td>270000.0</td>\n      <td>1293502.5</td>\n      <td>35698.5</td>\n      <td>...</td>\n      <td>0</td>\n      <td>0</td>\n      <td>0</td>\n      <td>0</td>\n      <td>0.0</td>\n      <td>0.0</td>\n      <td>0.0</td>\n      <td>0.0</td>\n      <td>0.0</td>\n      <td>0.0</td>\n    </tr>\n    <tr>\n      <th>2</th>\n      <td>100004</td>\n      <td>0</td>\n      <td>Revolving loans</td>\n      <td>M</td>\n      <td>Y</td>\n      <td>Y</td>\n      <td>0</td>\n      <td>67500.0</td>\n      <td>135000.0</td>\n      <td>6750.0</td>\n      <td>...</td>\n      <td>0</td>\n      <td>0</td>\n      <td>0</td>\n      <td>0</td>\n      <td>0.0</td>\n      <td>0.0</td>\n      <td>0.0</td>\n      <td>0.0</td>\n      <td>0.0</td>\n      <td>0.0</td>\n    </tr>\n    <tr>\n      <th>3</th>\n      <td>100006</td>\n      <td>0</td>\n      <td>Cash loans</td>\n      <td>F</td>\n      <td>N</td>\n      <td>Y</td>\n      <td>0</td>\n      <td>135000.0</td>\n      <td>312682.5</td>\n      <td>29686.5</td>\n      <td>...</td>\n      <td>0</td>\n      <td>0</td>\n      <td>0</td>\n      <td>0</td>\n      <td>NaN</td>\n      <td>NaN</td>\n      <td>NaN</td>\n      <td>NaN</td>\n      <td>NaN</td>\n      <td>NaN</td>\n    </tr>\n    <tr>\n      <th>4</th>\n      <td>100007</td>\n      <td>0</td>\n      <td>Cash loans</td>\n      <td>M</td>\n      <td>N</td>\n      <td>Y</td>\n      <td>0</td>\n      <td>121500.0</td>\n      <td>513000.0</td>\n      <td>21865.5</td>\n      <td>...</td>\n      <td>0</td>\n      <td>0</td>\n      <td>0</td>\n      <td>0</td>\n      <td>0.0</td>\n      <td>0.0</td>\n      <td>0.0</td>\n      <td>0.0</td>\n      <td>0.0</td>\n      <td>0.0</td>\n    </tr>\n  </tbody>\n</table>\n<p>5 rows × 122 columns</p>\n</div>"
     },
     "execution_count": 4,
     "metadata": {},
     "output_type": "execute_result"
    }
   ],
   "source": [
    "train.head()"
   ],
   "metadata": {
    "collapsed": false,
    "pycharm": {
     "name": "#%%\n"
    }
   }
  },
  {
   "cell_type": "code",
   "execution_count": 5,
   "outputs": [
    {
     "data": {
      "text/plain": "   SK_ID_CURR NAME_CONTRACT_TYPE CODE_GENDER FLAG_OWN_CAR FLAG_OWN_REALTY  \\\n0      100001         Cash loans           F            N               Y   \n1      100005         Cash loans           M            N               Y   \n2      100013         Cash loans           M            Y               Y   \n3      100028         Cash loans           F            N               Y   \n4      100038         Cash loans           M            Y               N   \n\n   CNT_CHILDREN  AMT_INCOME_TOTAL  AMT_CREDIT  AMT_ANNUITY  AMT_GOODS_PRICE  \\\n0             0          135000.0    568800.0      20560.5         450000.0   \n1             0           99000.0    222768.0      17370.0         180000.0   \n2             0          202500.0    663264.0      69777.0         630000.0   \n3             2          315000.0   1575000.0      49018.5        1575000.0   \n4             1          180000.0    625500.0      32067.0         625500.0   \n\n   ... FLAG_DOCUMENT_18 FLAG_DOCUMENT_19 FLAG_DOCUMENT_20 FLAG_DOCUMENT_21  \\\n0  ...                0                0                0                0   \n1  ...                0                0                0                0   \n2  ...                0                0                0                0   \n3  ...                0                0                0                0   \n4  ...                0                0                0                0   \n\n  AMT_REQ_CREDIT_BUREAU_HOUR  AMT_REQ_CREDIT_BUREAU_DAY  \\\n0                        0.0                        0.0   \n1                        0.0                        0.0   \n2                        0.0                        0.0   \n3                        0.0                        0.0   \n4                        NaN                        NaN   \n\n   AMT_REQ_CREDIT_BUREAU_WEEK  AMT_REQ_CREDIT_BUREAU_MON  \\\n0                         0.0                        0.0   \n1                         0.0                        0.0   \n2                         0.0                        0.0   \n3                         0.0                        0.0   \n4                         NaN                        NaN   \n\n   AMT_REQ_CREDIT_BUREAU_QRT  AMT_REQ_CREDIT_BUREAU_YEAR  \n0                        0.0                         0.0  \n1                        0.0                         3.0  \n2                        1.0                         4.0  \n3                        0.0                         3.0  \n4                        NaN                         NaN  \n\n[5 rows x 121 columns]",
      "text/html": "<div>\n<style scoped>\n    .dataframe tbody tr th:only-of-type {\n        vertical-align: middle;\n    }\n\n    .dataframe tbody tr th {\n        vertical-align: top;\n    }\n\n    .dataframe thead th {\n        text-align: right;\n    }\n</style>\n<table border=\"1\" class=\"dataframe\">\n  <thead>\n    <tr style=\"text-align: right;\">\n      <th></th>\n      <th>SK_ID_CURR</th>\n      <th>NAME_CONTRACT_TYPE</th>\n      <th>CODE_GENDER</th>\n      <th>FLAG_OWN_CAR</th>\n      <th>FLAG_OWN_REALTY</th>\n      <th>CNT_CHILDREN</th>\n      <th>AMT_INCOME_TOTAL</th>\n      <th>AMT_CREDIT</th>\n      <th>AMT_ANNUITY</th>\n      <th>AMT_GOODS_PRICE</th>\n      <th>...</th>\n      <th>FLAG_DOCUMENT_18</th>\n      <th>FLAG_DOCUMENT_19</th>\n      <th>FLAG_DOCUMENT_20</th>\n      <th>FLAG_DOCUMENT_21</th>\n      <th>AMT_REQ_CREDIT_BUREAU_HOUR</th>\n      <th>AMT_REQ_CREDIT_BUREAU_DAY</th>\n      <th>AMT_REQ_CREDIT_BUREAU_WEEK</th>\n      <th>AMT_REQ_CREDIT_BUREAU_MON</th>\n      <th>AMT_REQ_CREDIT_BUREAU_QRT</th>\n      <th>AMT_REQ_CREDIT_BUREAU_YEAR</th>\n    </tr>\n  </thead>\n  <tbody>\n    <tr>\n      <th>0</th>\n      <td>100001</td>\n      <td>Cash loans</td>\n      <td>F</td>\n      <td>N</td>\n      <td>Y</td>\n      <td>0</td>\n      <td>135000.0</td>\n      <td>568800.0</td>\n      <td>20560.5</td>\n      <td>450000.0</td>\n      <td>...</td>\n      <td>0</td>\n      <td>0</td>\n      <td>0</td>\n      <td>0</td>\n      <td>0.0</td>\n      <td>0.0</td>\n      <td>0.0</td>\n      <td>0.0</td>\n      <td>0.0</td>\n      <td>0.0</td>\n    </tr>\n    <tr>\n      <th>1</th>\n      <td>100005</td>\n      <td>Cash loans</td>\n      <td>M</td>\n      <td>N</td>\n      <td>Y</td>\n      <td>0</td>\n      <td>99000.0</td>\n      <td>222768.0</td>\n      <td>17370.0</td>\n      <td>180000.0</td>\n      <td>...</td>\n      <td>0</td>\n      <td>0</td>\n      <td>0</td>\n      <td>0</td>\n      <td>0.0</td>\n      <td>0.0</td>\n      <td>0.0</td>\n      <td>0.0</td>\n      <td>0.0</td>\n      <td>3.0</td>\n    </tr>\n    <tr>\n      <th>2</th>\n      <td>100013</td>\n      <td>Cash loans</td>\n      <td>M</td>\n      <td>Y</td>\n      <td>Y</td>\n      <td>0</td>\n      <td>202500.0</td>\n      <td>663264.0</td>\n      <td>69777.0</td>\n      <td>630000.0</td>\n      <td>...</td>\n      <td>0</td>\n      <td>0</td>\n      <td>0</td>\n      <td>0</td>\n      <td>0.0</td>\n      <td>0.0</td>\n      <td>0.0</td>\n      <td>0.0</td>\n      <td>1.0</td>\n      <td>4.0</td>\n    </tr>\n    <tr>\n      <th>3</th>\n      <td>100028</td>\n      <td>Cash loans</td>\n      <td>F</td>\n      <td>N</td>\n      <td>Y</td>\n      <td>2</td>\n      <td>315000.0</td>\n      <td>1575000.0</td>\n      <td>49018.5</td>\n      <td>1575000.0</td>\n      <td>...</td>\n      <td>0</td>\n      <td>0</td>\n      <td>0</td>\n      <td>0</td>\n      <td>0.0</td>\n      <td>0.0</td>\n      <td>0.0</td>\n      <td>0.0</td>\n      <td>0.0</td>\n      <td>3.0</td>\n    </tr>\n    <tr>\n      <th>4</th>\n      <td>100038</td>\n      <td>Cash loans</td>\n      <td>M</td>\n      <td>Y</td>\n      <td>N</td>\n      <td>1</td>\n      <td>180000.0</td>\n      <td>625500.0</td>\n      <td>32067.0</td>\n      <td>625500.0</td>\n      <td>...</td>\n      <td>0</td>\n      <td>0</td>\n      <td>0</td>\n      <td>0</td>\n      <td>NaN</td>\n      <td>NaN</td>\n      <td>NaN</td>\n      <td>NaN</td>\n      <td>NaN</td>\n      <td>NaN</td>\n    </tr>\n  </tbody>\n</table>\n<p>5 rows × 121 columns</p>\n</div>"
     },
     "execution_count": 5,
     "metadata": {},
     "output_type": "execute_result"
    }
   ],
   "source": [
    "test.head()"
   ],
   "metadata": {
    "collapsed": false,
    "pycharm": {
     "name": "#%%\n"
    }
   }
  },
  {
   "cell_type": "markdown",
   "metadata": {
    "id": "0Oec65GiJ3Tp"
   },
   "source": [
    "### Moving target to last column in train dataset"
   ],
   "id": "0Oec65GiJ3Tp"
  },
  {
   "cell_type": "code",
   "metadata": {
    "id": "Gn1N4tAZJ6xn"
   },
   "source": [
    "def position_target_column(train):\n",
    "  \"\"\"Return train dataframe with target as last column.\n",
    "\n",
    "  Keyword arguments:\n",
    "  train -- the train dataframe\n",
    "  \"\"\"\n",
    "  target_col = train.pop('TARGET')\n",
    "  train['TARGET'] = target_col\n",
    "  return train"
   ],
   "id": "Gn1N4tAZJ6xn",
   "execution_count": 6,
   "outputs": []
  },
  {
   "cell_type": "code",
   "execution_count": 7,
   "outputs": [],
   "source": [
    "train = position_target_column(train)"
   ],
   "metadata": {
    "collapsed": false,
    "pycharm": {
     "name": "#%%\n"
    }
   }
  },
  {
   "cell_type": "markdown",
   "metadata": {
    "id": "zPF5c_yEHrGg"
   },
   "source": [
    "### Dropping unused ID column"
   ],
   "id": "zPF5c_yEHrGg"
  },
  {
   "cell_type": "code",
   "metadata": {
    "id": "tSqMlcE7Hu75"
   },
   "source": [
    "def drop_id_column(train, test):\n",
    "  \"\"\"Return a tuple containing train and test dataframes without id column.\n",
    "\n",
    "  Keyword arguments:\n",
    "  train -- the train dataframe\n",
    "  test -- the test dataframe\n",
    "  \"\"\"\n",
    "  train = train.drop(['SK_ID_CURR'], axis=1)\n",
    "  test = test.drop(['SK_ID_CURR'], axis=1)\n",
    "  return train, test"
   ],
   "id": "tSqMlcE7Hu75",
   "execution_count": 8,
   "outputs": []
  },
  {
   "cell_type": "code",
   "execution_count": 9,
   "outputs": [],
   "source": [
    "(train, test) = drop_id_column(train, test)"
   ],
   "metadata": {
    "collapsed": false,
    "pycharm": {
     "name": "#%%\n"
    }
   }
  },
  {
   "cell_type": "markdown",
   "metadata": {
    "id": "x3iz2_FRjk4u"
   },
   "source": [
    "### Organizing test set columns based on train set column order"
   ],
   "id": "x3iz2_FRjk4u"
  },
  {
   "cell_type": "code",
   "metadata": {
    "id": "oWUncy_bjzSu"
   },
   "source": [
    "def reorder_test_columns(train, test):\n",
    "  \"\"\"Return test dataframe with columns organized following train dataframe columns order.\n",
    "\n",
    "  Keyword arguments:\n",
    "  train -- the train dataframe\n",
    "  test -- the test dataframe\n",
    "  \"\"\"\n",
    "  test = test[train.drop(['TARGET'], axis=1).columns]\n",
    "  return test"
   ],
   "id": "oWUncy_bjzSu",
   "execution_count": 10,
   "outputs": []
  },
  {
   "cell_type": "code",
   "execution_count": 11,
   "outputs": [],
   "source": [
    "test = reorder_test_columns(train, test)"
   ],
   "metadata": {
    "collapsed": false,
    "pycharm": {
     "name": "#%%\n"
    }
   }
  },
  {
   "cell_type": "markdown",
   "metadata": {
    "id": "RUGqhOrkF7VX"
   },
   "source": [
    "## Taking care of missing data"
   ],
   "id": "RUGqhOrkF7VX"
  },
  {
   "cell_type": "code",
   "metadata": {
    "id": "m7aKDXPjF-C3"
   },
   "source": [
    "def impute_train_missing_data(train):\n",
    "  \"\"\"\n",
    "  Return tuple containing train dataframe with median imputed in place of missing numerical values \n",
    "  and a Series with its numerical columns.\n",
    "\n",
    "  Keyword arguments:\n",
    "  train -- the train dataframe\n",
    "  \"\"\"\n",
    "  imputer = SimpleImputer(missing_values=np.nan, strategy='median')\n",
    "  x_dtypes_train = train.dtypes[:-1]\n",
    "  num_cols_train = x_dtypes_train == np.number\n",
    "  X_train = train.iloc[:, :-1].values\n",
    "  imputer.fit(X_train[:, num_cols_train])\n",
    "  X_train[:, num_cols_train] = imputer.transform(X_train[:, num_cols_train])\n",
    "  train.iloc[:, :-1] = X_train\n",
    "  return train, num_cols_train"
   ],
   "id": "m7aKDXPjF-C3",
   "execution_count": 12,
   "outputs": []
  },
  {
   "cell_type": "code",
   "execution_count": 13,
   "outputs": [],
   "source": [
    "(train, num_cols_train) = impute_train_missing_data(train)"
   ],
   "metadata": {
    "collapsed": false,
    "pycharm": {
     "name": "#%%\n"
    }
   }
  },
  {
   "cell_type": "code",
   "metadata": {
    "id": "bgQxbY5Mjef1"
   },
   "source": [
    "def impute_test_missing_data(test):\n",
    "  \"\"\"\n",
    "  Return tuple containing test dataframe with median imputed in place of missing numerical values \n",
    "  and a Series with its numerical columns.\n",
    "\n",
    "    Keyword arguments:\n",
    "    test -- the test dataframe\n",
    "    \"\"\"\n",
    "  imputer = SimpleImputer(missing_values=np.nan, strategy='median')\n",
    "  x_dtypes_test = test.dtypes\n",
    "  num_cols_test = x_dtypes_test == np.number\n",
    "  X_test = test.iloc[:, :].values\n",
    "  imputer.fit(X_test[:, num_cols_test])\n",
    "  X_test[:, num_cols_test] = imputer.transform(X_test[:, num_cols_test])\n",
    "  test.iloc[:, :] = X_test\n",
    "  return test, num_cols_test"
   ],
   "id": "bgQxbY5Mjef1",
   "execution_count": 14,
   "outputs": []
  },
  {
   "cell_type": "code",
   "execution_count": 15,
   "outputs": [],
   "source": [
    "(test, num_cols_test) = impute_test_missing_data(test)"
   ],
   "metadata": {
    "collapsed": false,
    "pycharm": {
     "name": "#%%\n"
    }
   }
  },
  {
   "cell_type": "markdown",
   "metadata": {
    "id": "hAvaeTqpRlxf"
   },
   "source": [
    "### Getting text features Na rows percentage"
   ],
   "id": "hAvaeTqpRlxf"
  },
  {
   "cell_type": "code",
   "metadata": {
    "id": "9LuAtXAyO4sQ"
   },
   "source": [
    "def get_train_na_percentages(train):\n",
    "  \"\"\"\n",
    "  Return a Series with the percentage of Na values per columns in train dataframe.\n",
    "  Must be called just after impute_train_missing_data().\n",
    "\n",
    "  Keyword arguments:\n",
    "  train -- the train dataframe\n",
    "  \"\"\"\n",
    "  na_cols_pctg_train = train[train.columns[train.isna().sum() > 0]].isna().sum() / train.shape[0]\n",
    "  return na_cols_pctg_train"
   ],
   "id": "9LuAtXAyO4sQ",
   "execution_count": 16,
   "outputs": []
  },
  {
   "cell_type": "code",
   "execution_count": 17,
   "outputs": [
    {
     "data": {
      "text/plain": "NAME_TYPE_SUITE        0.004201\nOCCUPATION_TYPE        0.313455\nFONDKAPREMONT_MODE     0.683862\nHOUSETYPE_MODE         0.501761\nWALLSMATERIAL_MODE     0.508408\nEMERGENCYSTATE_MODE    0.473983\ndtype: float64"
     },
     "execution_count": 17,
     "metadata": {},
     "output_type": "execute_result"
    }
   ],
   "source": [
    "na_cols_pctg_train = get_train_na_percentages(train)\n",
    "na_cols_pctg_train"
   ],
   "metadata": {
    "collapsed": false,
    "pycharm": {
     "name": "#%%\n"
    }
   }
  },
  {
   "cell_type": "markdown",
   "metadata": {
    "id": "wFdGMgFhRt8R"
   },
   "source": [
    "### Dropping text features Na rows"
   ],
   "id": "wFdGMgFhRt8R"
  },
  {
   "cell_type": "code",
   "metadata": {
    "id": "nxIcZ8luRwAC"
   },
   "source": [
    "def drop_textual_feat_na_rows(train, test):\n",
    "  \"\"\"Return a tuple containing train and test dataframes without textual features Na rows.\n",
    "\n",
    "  Keyword arguments:\n",
    "  train -- the train dataframe\n",
    "  test -- the test dataframe\n",
    "  \"\"\"\n",
    "  train = train.dropna(axis=0)\n",
    "  test = test.dropna(axis=0)\n",
    "  return train, test"
   ],
   "id": "nxIcZ8luRwAC",
   "execution_count": 18,
   "outputs": []
  },
  {
   "cell_type": "code",
   "execution_count": 19,
   "outputs": [],
   "source": [
    "(train, test) = drop_textual_feat_na_rows(train, test)"
   ],
   "metadata": {
    "collapsed": false,
    "pycharm": {
     "name": "#%%\n"
    }
   }
  },
  {
   "cell_type": "markdown",
   "metadata": {
    "id": "w9hpg1ZXAxEn"
   },
   "source": [
    "## Encoding categorical data"
   ],
   "id": "w9hpg1ZXAxEn"
  },
  {
   "cell_type": "markdown",
   "metadata": {
    "id": "mtbCfv0RBzMe"
   },
   "source": [
    "### Encoding the independent variables"
   ],
   "id": "mtbCfv0RBzMe"
  },
  {
   "cell_type": "code",
   "metadata": {
    "id": "jhSb0ulEDB3f"
   },
   "source": [
    "def get_textual_column_indexes(train, test):\n",
    "  \"\"\"Return a tuple containing an ndarray with train and test textual column indexes.\n",
    "\n",
    "  Keyword arguments:\n",
    "  train -- the train dataframe\n",
    "  test -- the test dataframe\n",
    "  \"\"\"\n",
    "  txt_cols_train = train.select_dtypes('object').columns\n",
    "  txt_indexes_train = train.columns.get_indexer(txt_cols_train)\n",
    "  txt_cols_test = test.select_dtypes('object').columns\n",
    "  txt_indexes_test = test.columns.get_indexer(txt_cols_test)\n",
    "  return txt_indexes_train, txt_indexes_test"
   ],
   "id": "jhSb0ulEDB3f",
   "execution_count": 20,
   "outputs": []
  },
  {
   "cell_type": "code",
   "execution_count": 21,
   "outputs": [],
   "source": [
    "(txt_indexes_train, txt_indexes_test) = get_textual_column_indexes(train, test)"
   ],
   "metadata": {
    "collapsed": false,
    "pycharm": {
     "name": "#%%\n"
    }
   }
  },
  {
   "cell_type": "code",
   "metadata": {
    "id": "7K1WiR32BmU2"
   },
   "source": [
    "def label_encode_train(train, txt_indexes_train):\n",
    "  \"\"\"Return the train dataframe with label-encoded textual features.\n",
    "\n",
    "  Keyword arguments:\n",
    "  train -- the train dataframe\n",
    "  txt_indexes_train -- ndarray of train textual column indexes\n",
    "  \"\"\"\n",
    "  label_encoder_x = LabelEncoder()\n",
    "  X_train = train.iloc[:, :-1].values\n",
    "  for i in txt_indexes_train:\n",
    "    X_train[:, i] = label_encoder_x.fit_transform(X_train[:, i])\n",
    "  train.iloc[:, :-1] = X_train\n",
    "  return train"
   ],
   "id": "7K1WiR32BmU2",
   "execution_count": 22,
   "outputs": []
  },
  {
   "cell_type": "code",
   "metadata": {
    "id": "GpYM3xmVkz3j"
   },
   "source": [
    "def label_encode_test(test, txt_indexes_test):\n",
    "  \"\"\"Return the test dataframe with label-encoded textual features.\n",
    "\n",
    "  Keyword arguments:\n",
    "  test -- the test dataframe\n",
    "  txt_indexes_test -- ndarray of test textual column indexes\n",
    "  \"\"\"\n",
    "  label_encoder_x = LabelEncoder()\n",
    "  X_test = test.iloc[:, :].values\n",
    "  for i in txt_indexes_test:\n",
    "    X_test[:, i] = label_encoder_x.fit_transform(X_test[:, i])\n",
    "  test.iloc[:, :] = X_test\n",
    "  return test"
   ],
   "id": "GpYM3xmVkz3j",
   "execution_count": 23,
   "outputs": []
  },
  {
   "cell_type": "code",
   "metadata": {
    "id": "eUpCP9FC42fJ"
   },
   "source": [
    "def label_encode_dataframes(train, test, txt_indexes_train, txt_indexes_test):\n",
    "  \"\"\"Return a tuple containing label-encoded train and test dataframes.\n",
    "\n",
    "  Keyword arguments:\n",
    "  train -- the train dataframe\n",
    "  test -- the test dataframe\n",
    "  txt_indexes_train -- ndarray of train textual column indexes\n",
    "  txt_indexes_test -- ndarray of test textual column indexes\n",
    "  \"\"\"\n",
    "  train = label_encode_train(train, txt_indexes_train)\n",
    "  test = label_encode_test(test, txt_indexes_test)\n",
    "  return train, test"
   ],
   "id": "eUpCP9FC42fJ",
   "execution_count": 24,
   "outputs": []
  },
  {
   "cell_type": "code",
   "execution_count": 25,
   "outputs": [],
   "source": [
    "(train, test) = label_encode_dataframes(train, test, txt_indexes_train, txt_indexes_test)"
   ],
   "metadata": {
    "collapsed": false,
    "pycharm": {
     "name": "#%%\n"
    }
   }
  },
  {
   "cell_type": "markdown",
   "metadata": {
    "id": "x_yhicg4hlkl"
   },
   "source": [
    "## Feature scaling"
   ],
   "id": "x_yhicg4hlkl"
  },
  {
   "cell_type": "code",
   "metadata": {
    "id": "Mym1cklwhoAT"
   },
   "source": [
    "def standardize_train(train, num_cols_train):\n",
    "  \"\"\"Return the train dataframe with standardized numerical features (not the encoded textual dimensions).\n",
    "\n",
    "  Keyword arguments:\n",
    "  train -- the train dataframe\n",
    "  \"\"\"\n",
    "  sc = StandardScaler()\n",
    "  X_train = train.iloc[:, :-1].values\n",
    "  X_train[:, num_cols_train] = sc.fit_transform(X_train[:, num_cols_train])\n",
    "  train.iloc[:, :-1] = X_train\n",
    "  return train"
   ],
   "id": "Mym1cklwhoAT",
   "execution_count": 26,
   "outputs": []
  },
  {
   "cell_type": "code",
   "execution_count": 27,
   "outputs": [],
   "source": [
    "train = standardize_train(train, num_cols_train)"
   ],
   "metadata": {
    "collapsed": false,
    "pycharm": {
     "name": "#%%\n"
    }
   }
  },
  {
   "cell_type": "code",
   "metadata": {
    "id": "lLoMGwhnlvD5"
   },
   "source": [
    "def standardize_test(test, num_cols_test):\n",
    "  \"\"\"Return the test dataframe with standardized numerical features (not the encoded textual dimensions).\n",
    "\n",
    "  Keyword arguments:\n",
    "  test -- the test dataframe\n",
    "  \"\"\"\n",
    "  sc = StandardScaler() # standardization implies values between approximately -3 and 3\n",
    "  X_test = test.iloc[:, :].values\n",
    "  X_test[:, num_cols_test] = sc.fit_transform(X_test[:, num_cols_test]) # we don't standardize encoded textual dimensions.\n",
    "  test.iloc[:, :] = X_test\n",
    "  return test"
   ],
   "id": "lLoMGwhnlvD5",
   "execution_count": 28,
   "outputs": []
  },
  {
   "cell_type": "code",
   "execution_count": 29,
   "outputs": [],
   "source": [
    "test = standardize_test(test, num_cols_test)"
   ],
   "metadata": {
    "collapsed": false,
    "pycharm": {
     "name": "#%%\n"
    }
   }
  },
  {
   "cell_type": "markdown",
   "metadata": {
    "id": "To5vZ44roDjL"
   },
   "source": [
    "## Feature selection"
   ],
   "id": "To5vZ44roDjL"
  },
  {
   "cell_type": "markdown",
   "metadata": {
    "id": "E6PwqzS3L6fp"
   },
   "source": [
    "### Removing features with at least 50% Na values (percentage computed from train set)"
   ],
   "id": "E6PwqzS3L6fp"
  },
  {
   "cell_type": "code",
   "metadata": {
    "id": "pDC6VeFGMAbZ"
   },
   "source": [
    "def select_features_on_na(train, test, na_cols_pctg_train):\n",
    "  \"\"\"Return a tuple containing train and test dataframes without columns containing at least 50% Na values.\n",
    "\n",
    "  Keyword arguments:\n",
    "  train -- the train dataframe\n",
    "  test -- the test dataframe\n",
    "  na_cols_pctg_train -- a Series with the percentage of Na values per columns in train dataframe.\n",
    "  \"\"\"\n",
    "  dropped_cols = na_cols_pctg_train[na_cols_pctg_train >= 0.5].axes[0].tolist()\n",
    "  train = train.drop(dropped_cols, axis=1)\n",
    "  test = test.drop(dropped_cols, axis=1)\n",
    "  return train, test"
   ],
   "id": "pDC6VeFGMAbZ",
   "execution_count": 30,
   "outputs": []
  },
  {
   "cell_type": "code",
   "execution_count": 31,
   "outputs": [],
   "source": [
    "(train, test) = select_features_on_na(train, test, na_cols_pctg_train)"
   ],
   "metadata": {
    "collapsed": false,
    "pycharm": {
     "name": "#%%\n"
    }
   }
  },
  {
   "cell_type": "markdown",
   "metadata": {
    "id": "YocDxkHkQUZh"
   },
   "source": [
    "### Removing features with a modality that appears with a probability of at least 80%"
   ],
   "id": "YocDxkHkQUZh"
  },
  {
   "cell_type": "code",
   "metadata": {
    "id": "vYuZbotJQXsJ"
   },
   "source": [
    "def select_features_on_mod_proba(train, test):\n",
    "  \"\"\"Return a tuple containing train and test dataframes \n",
    "  without columns containing modalities that appeared with a probability of at least 80%.\n",
    "\n",
    "  Keyword arguments:\n",
    "  train -- the train dataframe\n",
    "  test -- the test dataframe\n",
    "  \"\"\"\n",
    "  PROBABILITY_THRESHOLD = 0.8\n",
    "  train_without_target = train.drop('TARGET', axis=1)\n",
    "  cols_train = train_without_target.columns.tolist()\n",
    "  cols_to_drop_train = []\n",
    "  for col in cols_train:\n",
    "    mods_pctg = train_without_target[col].value_counts() / train_without_target[col].value_counts().sum()\n",
    "    for pctg in mods_pctg:\n",
    "      if pctg >= PROBABILITY_THRESHOLD:\n",
    "        cols_to_drop_train.append(col)\n",
    "  train = train.drop(cols_to_drop_train, axis=1)\n",
    "  test = test.drop(cols_to_drop_train, axis=1)\n",
    "  return train, test"
   ],
   "id": "vYuZbotJQXsJ",
   "execution_count": 32,
   "outputs": []
  },
  {
   "cell_type": "code",
   "execution_count": 33,
   "outputs": [],
   "source": [
    "(train, test) = select_features_on_mod_proba(train, test)"
   ],
   "metadata": {
    "collapsed": false,
    "pycharm": {
     "name": "#%%\n"
    }
   }
  },
  {
   "cell_type": "markdown",
   "metadata": {
    "id": "-ag0L1nB6UsZ"
   },
   "source": [
    "## Exporting preprocessed data to CSV files"
   ],
   "id": "-ag0L1nB6UsZ"
  },
  {
   "cell_type": "code",
   "metadata": {
    "id": "G2iGO7OO6X65"
   },
   "source": [
    "def export_dataframes_to_csv_files(train, test):\n",
    "  \"\"\"Export train and test dataframes to CSV files to ./data/processed path.\n",
    "\n",
    "  Keyword arguments:\n",
    "  train -- the train dataframe\n",
    "  test -- the test dataframe\n",
    "  \"\"\"\n",
    "  train.to_csv('../../data/processed/processed_application_train.csv', index=False)\n",
    "  test.to_csv('../../data/processed/processed_application_test.csv', index=False)"
   ],
   "id": "G2iGO7OO6X65",
   "execution_count": 34,
   "outputs": []
  },
  {
   "cell_type": "code",
   "execution_count": 35,
   "outputs": [],
   "source": [
    "export_dataframes_to_csv_files(train, test)\n",
    "\n",
    "\n",
    "\n",
    "\n",
    "\n",
    "\n",
    "\n",
    "\n",
    "\n",
    "\n",
    "\n",
    "\n",
    "\n"
   ],
   "metadata": {
    "collapsed": false,
    "pycharm": {
     "name": "#%%\n"
    }
   }
  }
 ]
}