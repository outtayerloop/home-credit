{
 "cells": [
  {
   "cell_type": "markdown",
   "id": "5ed90e31",
   "metadata": {
    "id": "5ed90e31"
   },
   "source": [
    "# XGboost model train"
   ]
  },
  {
   "cell_type": "code",
   "execution_count": 1,
   "id": "a5013a5f",
   "metadata": {
    "id": "a5013a5f"
   },
   "outputs": [],
   "source": [
    "import pandas as pd\n",
    "from sklearn.model_selection import train_test_split\n",
    "from sklearn.metrics import accuracy_score\n",
    "from sklearn.metrics import confusion_matrix\n",
    "from sklearn.metrics import f1_score\n",
    "from sklearn.metrics import roc_auc_score, roc_curve\n",
    "import logging\n",
    "import mlflow\n",
    "from urllib.parse import urlparse\n",
    "import xgboost as xgb\n",
    "from matplotlib import pyplot\n"
   ]
  },
  {
   "cell_type": "markdown",
   "id": "d1d6ca88",
   "metadata": {
    "id": "d1d6ca88"
   },
   "source": [
    "## Splitting dataset into train and test"
   ]
  },
  {
   "cell_type": "code",
   "execution_count": 2,
   "id": "738f427f",
   "metadata": {
    "id": "738f427f"
   },
   "outputs": [],
   "source": [
    "def get_split_train_data():\n",
    "  \"\"\"Return a tuple containing split train data into X_train X_test, y_train and y_test.\"\"\"\n",
    "  df = pd.read_csv('../../data/processed/processed_application_train.csv')\n",
    "  train, test = train_test_split(df)\n",
    "  X_train = train.drop(['TARGET'], axis=1)\n",
    "  X_test = test.drop(['TARGET'], axis=1)\n",
    "  y_train = train[['TARGET']]\n",
    "  y_test = test[['TARGET']]\n",
    "  return X_train, X_test, y_train, y_test"
   ]
  },
  {
   "cell_type": "markdown",
   "id": "931a8c69",
   "metadata": {
    "id": "931a8c69"
   },
   "source": [
    "## Adding MLFLow workflow"
   ]
  },
  {
   "cell_type": "markdown",
   "id": "mXVizP3vXWdc",
   "metadata": {
    "id": "mXVizP3vXWdc"
   },
   "source": [
    "### Configuring logs"
   ]
  },
  {
   "cell_type": "code",
   "execution_count": 3,
   "id": "ElavYC5wXOrF",
   "metadata": {
    "id": "ElavYC5wXOrF"
   },
   "outputs": [],
   "source": [
    "def get_configured_logger():\n",
    "  \"\"\"Return a logger for console outputs configured to print warnings.\"\"\"\n",
    "  logging.basicConfig(level=logging.WARN)\n",
    "  return logging.getLogger(__name__)"
   ]
  },
  {
   "cell_type": "markdown",
   "id": "hFmZgG_hXvgi",
   "metadata": {
    "id": "hFmZgG_hXvgi"
   },
   "source": [
    "### Training model on split data"
   ]
  },
  {
   "cell_type": "code",
   "execution_count": 4,
   "id": "Jod5BBLEX0qJ",
   "metadata": {
    "id": "Jod5BBLEX0qJ"
   },
   "outputs": [],
   "source": [
    "def train_xgboost_classifier(X_train, y_train):\n",
    "  \"\"\"Return XGBClassifier fit on input ndarrays X_train and y_train.\n",
    "\n",
    "  Keyword arguments:\n",
    "  X_train -- ndarray containing all train columns except target column\n",
    "  y_train -- ndarray target column values to train the model\n",
    "  \"\"\"\n",
    "  clf = xgb.XGBClassifier(objective ='binary:logistic', colsample_bytree = 0.3, learning_rate = 0.1,max_depth = 5, alpha = 10, n_estimators = 10)\n",
    "  clf = clf.fit(X_train, y_train)\n",
    "  return clf"
   ]
  },
  {
   "cell_type": "markdown",
   "id": "ZtpOwQmScTqs",
   "metadata": {
    "id": "ZtpOwQmScTqs"
   },
   "source": [
    "### Getting model evaluation metrics"
   ]
  },
  {
   "cell_type": "code",
   "execution_count": 5,
   "id": "30ac1411",
   "metadata": {
    "id": "30ac1411"
   },
   "outputs": [],
   "source": [
    "def eval_metrics(actual, pred):\n",
    "  \"\"\"Return a tuple containing model classification accuracy, confusion matrix and f1_score.\n",
    "\n",
    "  Keyword arguments:\n",
    "  actual -- ndarray y_test containing true target values\n",
    "  pred -- ndarray of the predicted target values by the model\n",
    "  \"\"\"\n",
    "  accuracy = accuracy_score(actual, pred)\n",
    "  conf_matrix = confusion_matrix(actual, pred)\n",
    "  f_score = f1_score(actual, pred)\n",
    "  return accuracy, conf_matrix, f_score"
   ]
  },
  {
   "cell_type": "code",
   "execution_count": 6,
   "id": "xlD2NDs7Yl52",
   "metadata": {
    "id": "xlD2NDs7Yl52"
   },
   "outputs": [],
   "source": [
    "def get_model_evaluation_metrics(clf, X_test, y_test):\n",
    "  \"\"\"Return a tuple containing model classification accuracy, confusion matrix, f1_score and ROC area under the curve score.\n",
    "  \n",
    "  Keyword arguments:\n",
    "  clf -- classifier model\n",
    "  X_test -- ndarray containing all test columns except target column\n",
    "  y_test -- ndarray target column values to test the model\n",
    "  \"\"\"\n",
    "  predicted_repayments = clf.predict(X_test)\n",
    "  (accuracy, conf_matrix, f_score) = eval_metrics(y_test, predicted_repayments)\n",
    "  xgb_probs = clf.predict_proba(X_test)\n",
    "  xgb_probs = xgb_probs[:, 0]  # keeping only the first class (repayment OK)\n",
    "  xgb_roc_auc_score = roc_auc_score(y_test, xgb_probs)\n",
    "  random_probs = [0 for _ in range(len(y_test))]\n",
    "  random_roc_auc_score = roc_auc_score(y_test, random_probs)\n",
    "  return accuracy, conf_matrix, f_score, xgb_roc_auc_score, random_roc_auc_score, xgb_probs, random_probs"
   ]
  },
  {
   "cell_type": "markdown",
   "id": "xIhVvhSMcbRN",
   "metadata": {
    "id": "xIhVvhSMcbRN"
   },
   "source": [
    "### Tracking model on MLFLow"
   ]
  },
  {
   "cell_type": "code",
   "execution_count": 7,
   "id": "o82vjjLVb1NC",
   "metadata": {
    "id": "o82vjjLVb1NC"
   },
   "outputs": [],
   "source": [
    "def track_model_params(clf):\n",
    "  \"\"\"Log model params on MLFlow UI.\n",
    "\n",
    "  Keyword arguments:\n",
    "  clf -- classifier model\n",
    "  \"\"\"\n",
    "  clf_params = clf.get_params()\n",
    "  for param in clf_params:\n",
    "      param_value = clf_params[param]\n",
    "      mlflow.log_param(param, param_value)"
   ]
  },
  {
   "cell_type": "markdown",
   "id": "502465d1",
   "metadata": {},
   "source": [
    "## Vizualizing ROC AUC scores summaries for both XGBoost and Random model"
   ]
  },
  {
   "cell_type": "code",
   "execution_count": 8,
   "id": "092a4b32",
   "metadata": {
    "pycharm": {
     "name": "#%%\n"
    }
   },
   "outputs": [],
   "source": [
    "def vizualize_roc_curves(xgb_roc_auc_score, random_roc_auc_score, y_test, xgb_probs, random_probs):\n",
    "  \"\"\"Vizualize ROC curves for both fit model and random model.\n",
    "\n",
    "  Keyword arguments:\n",
    "  xgb_roc_auc_score -- fit model ROC AUC score\n",
    "  random_roc_auc_score -- random model ROC AUC score\n",
    "  y_test -- ndarray of target values\n",
    "  xgb_probs -- fit model predicted probabilities\n",
    "  random_probs -- random model predicted probabilities\n",
    "  \"\"\"\n",
    "  # summarize scores\n",
    "  print('Random model: ROC AUC=%.3f' % random_roc_auc_score)\n",
    "  print('XGBoost: ROC AUC=%.3f' % xgb_roc_auc_score)\n",
    "  # calculate roc curves\n",
    "  random_fpr, random_tpr, _ = roc_curve(y_test, random_probs)\n",
    "  xgb_fpr, xgb_tpr, _ = roc_curve(y_test, xgb_probs)\n",
    "  # plot the roc curve for the model\n",
    "  pyplot.plot(random_fpr, random_tpr, linestyle='--', label='Random model')\n",
    "  pyplot.plot(xgb_fpr, xgb_tpr, marker='.', label='XGBoost')\n",
    "  # axis labels\n",
    "  pyplot.xlabel('False Positive Rate')\n",
    "  pyplot.ylabel('True Positive Rate')\n",
    "  # show the legend\n",
    "  pyplot.legend()\n",
    "  # show the plot\n",
    "  pyplot.show()"
   ]
  },
  {
   "cell_type": "code",
   "execution_count": 9,
   "id": "41845fd2",
   "metadata": {
    "pycharm": {
     "name": "#%%\n"
    }
   },
   "outputs": [],
   "source": [
    "def track_model_metrics(clf, X_test, y_test):\n",
    "  \"\"\"Log model metrics on MLFlow UI.\n",
    "  \n",
    "  Keyword arguments:\n",
    "  clf -- classifier model\n",
    "  X_test -- ndarray containing all test columns except target column\n",
    "  y_test -- ndarray target column values to test the model\n",
    "  \"\"\"\n",
    "  (accuracy, conf_matrix, f_score, xgb_roc_auc_score, random_roc_auc_score, xgb_probs, random_probs) = \\\n",
    "    get_model_evaluation_metrics(clf, X_test, y_test)\n",
    "  mlflow.log_metric('accuracy', accuracy)\n",
    "  mlflow.log_metric('f1_score', f_score)\n",
    "  mlflow.log_metric('roc_auc_score', xgb_roc_auc_score)\n",
    "  vizualize_roc_curves(xgb_roc_auc_score, random_roc_auc_score, y_test, xgb_probs, random_probs)\n",
    "  #mlflow.log_metric('conf_matrix', conf_matrix)"
   ]
  },
  {
   "cell_type": "code",
   "execution_count": 10,
   "id": "DpBgmHX9dXcv",
   "metadata": {
    "id": "DpBgmHX9dXcv"
   },
   "outputs": [],
   "source": [
    "def track_model_version(clf):\n",
    "  \"\"\"Version model on MLFlow UI.\n",
    "\n",
    "  Keyword arguments:\n",
    "  clf -- classifier model\n",
    "  \"\"\"\n",
    "  tracking_url_type_store = urlparse(mlflow.get_tracking_uri()).scheme\n",
    "  if tracking_url_type_store != 'file':\n",
    "      mlflow.sklearn.log_model(clf, 'model', registered_model_name='XGBClassifier')\n",
    "  else:\n",
    "      mlflow.sklearn.log_model(clf, 'model')"
   ]
  },
  {
   "cell_type": "code",
   "execution_count": 11,
   "id": "bNg-yhC7uSeS",
   "metadata": {
    "id": "bNg-yhC7uSeS",
    "pycharm": {
     "name": "#%%\n"
    }
   },
   "outputs": [],
   "source": [
    "def set_mlflow_run_tags():\n",
    "  \"\"\"Set current MLFlow run tags.\"\"\"\n",
    "  tags = {'model_name': 'XGBClassifier'}\n",
    "  mlflow.set_tags(tags)"
   ]
  },
  {
   "cell_type": "code",
   "execution_count": 12,
   "id": "e862b8bd",
   "metadata": {
    "id": "e862b8bd"
   },
   "outputs": [],
   "source": [
    "def train_and_track_model_in_mlflow():\n",
    "  \"\"\"Train model and track it with MLFLow\"\"\"\n",
    "  (X_train, X_test, y_train, y_test) = get_split_train_data()\n",
    "  logger = get_configured_logger()\n",
    "  clf = train_xgboost_classifier(X_train, y_train)\n",
    "  with mlflow.start_run():\n",
    "    track_model_params(clf)\n",
    "    track_model_metrics(clf, X_test, y_test)\n",
    "    track_model_version(clf)\n",
    "    set_mlflow_run_tags()"
   ]
  },
  {
   "cell_type": "code",
   "execution_count": 13,
   "id": "-e1kKCzVuSeT",
   "metadata": {
    "colab": {
     "base_uri": "https://localhost:8080/"
    },
    "id": "-e1kKCzVuSeT",
    "outputId": "66804a05-b021-43c8-db76-a249c2185edd",
    "pycharm": {
     "name": "#%%\n"
    }
   },
   "outputs": [
    {
     "name": "stderr",
     "output_type": "stream",
     "text": [
      "c:\\users\\wiemc\\documents\\applications_of_big_data\\home-credit\\venv\\lib\\site-packages\\xgboost\\sklearn.py:1224: UserWarning: The use of label encoder in XGBClassifier is deprecated and will be removed in a future release. To remove this warning, do the following: 1) Pass option use_label_encoder=False when constructing XGBClassifier object; and 2) Encode your labels (y) as integers starting with 0, i.e. 0, 1, 2, ..., [num_class - 1].\n",
      "  warnings.warn(label_encoder_deprecation_msg, UserWarning)\n",
      "c:\\users\\wiemc\\documents\\applications_of_big_data\\home-credit\\venv\\lib\\site-packages\\sklearn\\preprocessing\\_label.py:98: DataConversionWarning: A column-vector y was passed when a 1d array was expected. Please change the shape of y to (n_samples, ), for example using ravel().\n",
      "  y = column_or_1d(y, warn=True)\n",
      "c:\\users\\wiemc\\documents\\applications_of_big_data\\home-credit\\venv\\lib\\site-packages\\sklearn\\preprocessing\\_label.py:133: DataConversionWarning: A column-vector y was passed when a 1d array was expected. Please change the shape of y to (n_samples, ), for example using ravel().\n",
      "  y = column_or_1d(y, warn=True)\n"
     ]
    },
    {
     "name": "stdout",
     "output_type": "stream",
     "text": [
      "[17:54:09] WARNING: C:/Users/Administrator/workspace/xgboost-win64_release_1.5.0/src/learner.cc:1115: Starting in XGBoost 1.3.0, the default evaluation metric used with the objective 'binary:logistic' was changed from 'error' to 'logloss'. Explicitly set eval_metric if you'd like to restore the old behavior.\n",
      "Random model: ROC AUC=0.500\n",
      "XGBoost: ROC AUC=0.270\n"
     ]
    },
    {
     "data": {
      "image/png": "[encoded data removed]",
      "text/plain": [
       "<Figure size 432x288 with 1 Axes>"
      ]
     },
     "metadata": {
      "needs_background": "light"
     },
     "output_type": "display_data"
    }
   ],
   "source": [
    "train_and_track_model_in_mlflow()"
   ]
  }
 ],
 "metadata": {
  "colab": {
   "name": "2.0-cbw-xgboost-train.ipynb",
   "provenance": []
  },
  "jupytext": {
   "main_language": "python"
  },
  "kernelspec": {
   "display_name": "Python 3 (ipykernel)",
   "language": "python",
   "name": "python3"
  },
  "language_info": {
   "codemirror_mode": {
    "name": "ipython",
    "version": 3
   },
   "file_extension": ".py",
   "mimetype": "text/x-python",
   "name": "python",
   "nbconvert_exporter": "python",
   "pygments_lexer": "ipython3",
   "version": "3.9.0"
  }
 },
 "nbformat": 4,
 "nbformat_minor": 5
}