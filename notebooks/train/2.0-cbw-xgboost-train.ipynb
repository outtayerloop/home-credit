{
  "nbformat": 4,
  "nbformat_minor": 5,
  "metadata": {
    "jupytext": {
      "main_language": "python"
    },
    "kernelspec": {
      "display_name": "Python 3",
      "name": "python3"
    },
    "colab": {
      "name": "2.0-cbw-xgboost-train.ipynb",
      "provenance": []
    }
  },
  "cells": [
    {
      "cell_type": "markdown",
      "metadata": {
        "id": "5ed90e31"
      },
      "source": [
        "# XGboost model train"
      ],
      "id": "5ed90e31"
    },
    {
      "cell_type": "code",
      "metadata": {
        "colab": {
          "base_uri": "https://localhost:8080/"
        },
        "id": "66MYnohHxorZ",
        "outputId": "2a9458b3-f47c-436d-edf6-48acfa7e8393"
      },
      "source": [
        "!pip install mlflow"
      ],
      "id": "66MYnohHxorZ",
      "execution_count": 28,
      "outputs": [
        {
          "output_type": "stream",
          "name": "stdout",
          "text": [
            "Requirement already satisfied: mlflow in /usr/local/lib/python3.7/dist-packages (1.21.0)\n",
            "Requirement already satisfied: protobuf>=3.7.0 in /usr/local/lib/python3.7/dist-packages (from mlflow) (3.17.3)\n",
            "Requirement already satisfied: gunicorn in /usr/local/lib/python3.7/dist-packages (from mlflow) (20.1.0)\n",
            "Requirement already satisfied: numpy in /usr/local/lib/python3.7/dist-packages (from mlflow) (1.19.5)\n",
            "Requirement already satisfied: prometheus-flask-exporter in /usr/local/lib/python3.7/dist-packages (from mlflow) (0.18.5)\n",
            "Requirement already satisfied: cloudpickle in /usr/local/lib/python3.7/dist-packages (from mlflow) (1.3.0)\n",
            "Requirement already satisfied: alembic<=1.4.1 in /usr/local/lib/python3.7/dist-packages (from mlflow) (1.4.1)\n",
            "Requirement already satisfied: pytz in /usr/local/lib/python3.7/dist-packages (from mlflow) (2018.9)\n",
            "Requirement already satisfied: click>=7.0 in /usr/local/lib/python3.7/dist-packages (from mlflow) (7.1.2)\n",
            "Requirement already satisfied: sqlalchemy in /usr/local/lib/python3.7/dist-packages (from mlflow) (1.4.27)\n",
            "Requirement already satisfied: importlib-metadata!=4.7.0,>=3.7.0 in /usr/local/lib/python3.7/dist-packages (from mlflow) (4.8.2)\n",
            "Requirement already satisfied: gitpython>=2.1.0 in /usr/local/lib/python3.7/dist-packages (from mlflow) (3.1.24)\n",
            "Requirement already satisfied: docker>=4.0.0 in /usr/local/lib/python3.7/dist-packages (from mlflow) (5.0.3)\n",
            "Requirement already satisfied: pyyaml>=5.1 in /usr/local/lib/python3.7/dist-packages (from mlflow) (6.0)\n",
            "Requirement already satisfied: querystring-parser in /usr/local/lib/python3.7/dist-packages (from mlflow) (1.2.4)\n",
            "Requirement already satisfied: databricks-cli>=0.8.7 in /usr/local/lib/python3.7/dist-packages (from mlflow) (0.16.2)\n",
            "Requirement already satisfied: entrypoints in /usr/local/lib/python3.7/dist-packages (from mlflow) (0.3)\n",
            "Requirement already satisfied: requests>=2.17.3 in /usr/local/lib/python3.7/dist-packages (from mlflow) (2.23.0)\n",
            "Requirement already satisfied: packaging in /usr/local/lib/python3.7/dist-packages (from mlflow) (21.3)\n",
            "Requirement already satisfied: Flask in /usr/local/lib/python3.7/dist-packages (from mlflow) (1.1.4)\n",
            "Requirement already satisfied: pandas in /usr/local/lib/python3.7/dist-packages (from mlflow) (1.1.5)\n",
            "Requirement already satisfied: sqlparse>=0.3.1 in /usr/local/lib/python3.7/dist-packages (from mlflow) (0.4.2)\n",
            "Requirement already satisfied: python-editor>=0.3 in /usr/local/lib/python3.7/dist-packages (from alembic<=1.4.1->mlflow) (1.0.4)\n",
            "Requirement already satisfied: python-dateutil in /usr/local/lib/python3.7/dist-packages (from alembic<=1.4.1->mlflow) (2.8.2)\n",
            "Requirement already satisfied: Mako in /usr/local/lib/python3.7/dist-packages (from alembic<=1.4.1->mlflow) (1.1.6)\n",
            "Requirement already satisfied: six>=1.10.0 in /usr/local/lib/python3.7/dist-packages (from databricks-cli>=0.8.7->mlflow) (1.15.0)\n",
            "Requirement already satisfied: tabulate>=0.7.7 in /usr/local/lib/python3.7/dist-packages (from databricks-cli>=0.8.7->mlflow) (0.8.9)\n",
            "Requirement already satisfied: websocket-client>=0.32.0 in /usr/local/lib/python3.7/dist-packages (from docker>=4.0.0->mlflow) (1.2.1)\n",
            "Requirement already satisfied: gitdb<5,>=4.0.1 in /usr/local/lib/python3.7/dist-packages (from gitpython>=2.1.0->mlflow) (4.0.9)\n",
            "Requirement already satisfied: typing-extensions>=3.7.4.3 in /usr/local/lib/python3.7/dist-packages (from gitpython>=2.1.0->mlflow) (3.10.0.2)\n",
            "Requirement already satisfied: smmap<6,>=3.0.1 in /usr/local/lib/python3.7/dist-packages (from gitdb<5,>=4.0.1->gitpython>=2.1.0->mlflow) (5.0.0)\n",
            "Requirement already satisfied: zipp>=0.5 in /usr/local/lib/python3.7/dist-packages (from importlib-metadata!=4.7.0,>=3.7.0->mlflow) (3.6.0)\n",
            "Requirement already satisfied: idna<3,>=2.5 in /usr/local/lib/python3.7/dist-packages (from requests>=2.17.3->mlflow) (2.10)\n",
            "Requirement already satisfied: chardet<4,>=3.0.2 in /usr/local/lib/python3.7/dist-packages (from requests>=2.17.3->mlflow) (3.0.4)\n",
            "Requirement already satisfied: certifi>=2017.4.17 in /usr/local/lib/python3.7/dist-packages (from requests>=2.17.3->mlflow) (2021.10.8)\n",
            "Requirement already satisfied: urllib3!=1.25.0,!=1.25.1,<1.26,>=1.21.1 in /usr/local/lib/python3.7/dist-packages (from requests>=2.17.3->mlflow) (1.24.3)\n",
            "Requirement already satisfied: greenlet!=0.4.17 in /usr/local/lib/python3.7/dist-packages (from sqlalchemy->mlflow) (1.1.2)\n",
            "Requirement already satisfied: Werkzeug<2.0,>=0.15 in /usr/local/lib/python3.7/dist-packages (from Flask->mlflow) (1.0.1)\n",
            "Requirement already satisfied: itsdangerous<2.0,>=0.24 in /usr/local/lib/python3.7/dist-packages (from Flask->mlflow) (1.1.0)\n",
            "Requirement already satisfied: Jinja2<3.0,>=2.10.1 in /usr/local/lib/python3.7/dist-packages (from Flask->mlflow) (2.11.3)\n",
            "Requirement already satisfied: MarkupSafe>=0.23 in /usr/local/lib/python3.7/dist-packages (from Jinja2<3.0,>=2.10.1->Flask->mlflow) (2.0.1)\n",
            "Requirement already satisfied: setuptools>=3.0 in /usr/local/lib/python3.7/dist-packages (from gunicorn->mlflow) (57.4.0)\n",
            "Requirement already satisfied: pyparsing!=3.0.5,>=2.0.2 in /usr/local/lib/python3.7/dist-packages (from packaging->mlflow) (3.0.6)\n",
            "Requirement already satisfied: prometheus-client in /usr/local/lib/python3.7/dist-packages (from prometheus-flask-exporter->mlflow) (0.12.0)\n"
          ]
        }
      ]
    },
    {
      "cell_type": "code",
      "metadata": {
        "id": "a5013a5f"
      },
      "source": [
        "import pandas as pd\n",
        "from sklearn.model_selection import train_test_split\n",
        "from sklearn.metrics import accuracy_score\n",
        "from sklearn.metrics import confusion_matrix\n",
        "import logging\n",
        "import mlflow\n",
        "from urllib.parse import urlparse\n",
        "import xgboost as xgb\n"
      ],
      "id": "a5013a5f",
      "execution_count": 29,
      "outputs": []
    },
    {
      "cell_type": "markdown",
      "metadata": {
        "id": "d1d6ca88"
      },
      "source": [
        "## Splitting dataset into train and test"
      ],
      "id": "d1d6ca88"
    },
    {
      "cell_type": "code",
      "metadata": {
        "id": "738f427f"
      },
      "source": [
        "def get_split_train_data():\n",
        "  \"\"\"Return a tuple containing split train data into X_train X_test, y_train and y_test.\"\"\"\n",
        "  df = pd.read_csv('./preprocessed_application_train.csv')\n",
        "  train, test = train_test_split(df)\n",
        "  X_train = train.drop(['TARGET'], axis=1)\n",
        "  X_test = test.drop(['TARGET'], axis=1)\n",
        "  y_train = train[['TARGET']]\n",
        "  y_test = test[['TARGET']]\n",
        "  return X_train, X_test, y_train, y_test"
      ],
      "id": "738f427f",
      "execution_count": 30,
      "outputs": []
    },
    {
      "cell_type": "markdown",
      "metadata": {
        "id": "931a8c69"
      },
      "source": [
        "## Adding MLFLow workflow"
      ],
      "id": "931a8c69"
    },
    {
      "cell_type": "markdown",
      "metadata": {
        "id": "mXVizP3vXWdc"
      },
      "source": [
        "### Configuring logs"
      ],
      "id": "mXVizP3vXWdc"
    },
    {
      "cell_type": "code",
      "metadata": {
        "id": "ElavYC5wXOrF"
      },
      "source": [
        "def get_configured_logger():\n",
        "  \"\"\"Return a logger for console outputs configured to print warnings.\"\"\"\n",
        "  logging.basicConfig(level=logging.WARN)\n",
        "  return logging.getLogger(__name__)"
      ],
      "id": "ElavYC5wXOrF",
      "execution_count": 31,
      "outputs": []
    },
    {
      "cell_type": "markdown",
      "metadata": {
        "id": "hFmZgG_hXvgi"
      },
      "source": [
        "### Training model on split data"
      ],
      "id": "hFmZgG_hXvgi"
    },
    {
      "cell_type": "code",
      "metadata": {
        "id": "Jod5BBLEX0qJ"
      },
      "source": [
        "def train_xgboost_classifier(X_train, y_train):\n",
        "  \"\"\"Return GradientBoostingClassifier fit on input ndarrays X_train and y_train.\n",
        "\n",
        "  Keyword arguments:\n",
        "  X_train -- ndarray containing all train columns except target column\n",
        "  y_train -- ndarray target column values to train the model\n",
        "  \"\"\"\n",
        "  clf = xgb.XGBClassifier(objective ='binary:logistic', colsample_bytree = 0.3, learning_rate = 0.1,max_depth = 5, alpha = 10, n_estimators = 10)\n",
        "  clf = clf.fit(X_train, y_train)\n",
        "  return clf"
      ],
      "id": "Jod5BBLEX0qJ",
      "execution_count": 32,
      "outputs": []
    },
    {
      "cell_type": "markdown",
      "metadata": {
        "id": "ZtpOwQmScTqs"
      },
      "source": [
        "### Getting model evaluation metrics"
      ],
      "id": "ZtpOwQmScTqs"
    },
    {
      "cell_type": "code",
      "metadata": {
        "id": "30ac1411"
      },
      "source": [
        "def eval_metrics(actual, pred):\n",
        "  \"\"\"Return a tuple containing model classification accuracy and confusion matrix.\n",
        "\n",
        "  Keyword arguments:\n",
        "  actual -- ndarray y_test containing true target values\n",
        "  pred -- ndarray of the predicted target values by the model\n",
        "  \"\"\"\n",
        "  accuracy = accuracy_score(actual, pred)\n",
        "  conf_matrix = confusion_matrix(actual, pred)\n",
        "  return accuracy, conf_matrix"
      ],
      "id": "30ac1411",
      "execution_count": 33,
      "outputs": []
    },
    {
      "cell_type": "code",
      "metadata": {
        "id": "xlD2NDs7Yl52"
      },
      "source": [
        "def get_model_evaluation_metrics(clf, X_test, y_test):\n",
        "  \"\"\"Return a tuple containing model classification accuracy and confusion matrix.\n",
        "  \n",
        "  Keyword arguments:\n",
        "  clf -- classifier model\n",
        "  X_test -- ndarray containing all test columns except target column\n",
        "  y_test -- ndarray target column values to test the model\n",
        "  \"\"\"\n",
        "  predicted_repayments = clf.predict(X_test)\n",
        "  (accuracy, conf_matrix) = eval_metrics(y_test, predicted_repayments)\n",
        "  return accuracy, conf_matrix"
      ],
      "id": "xlD2NDs7Yl52",
      "execution_count": 34,
      "outputs": []
    },
    {
      "cell_type": "markdown",
      "metadata": {
        "id": "xIhVvhSMcbRN"
      },
      "source": [
        "### Tracking model on MLFLow"
      ],
      "id": "xIhVvhSMcbRN"
    },
    {
      "cell_type": "code",
      "metadata": {
        "id": "o82vjjLVb1NC"
      },
      "source": [
        "def track_model_params(clf):\n",
        "  \"\"\"Log model params on MLFlow UI.\n",
        "\n",
        "  Keyword arguments:\n",
        "  clf -- classifier model\n",
        "  \"\"\"\n",
        "  clf_params = clf.get_params()\n",
        "  for param in clf_params:\n",
        "      param_value = clf_params[param]\n",
        "      mlflow.log_param(param, param_value)"
      ],
      "id": "o82vjjLVb1NC",
      "execution_count": 35,
      "outputs": []
    },
    {
      "cell_type": "code",
      "metadata": {
        "id": "bFudJAzUcjzI"
      },
      "source": [
        "def track_model_metrics(clf, X_test, y_test):\n",
        "  \"\"\"Log model metrics on MLFlow UI.\n",
        "  \n",
        "  Keyword arguments:\n",
        "  clf -- classifier model\n",
        "  X_test -- ndarray containing all test columns except target column\n",
        "  y_test -- ndarray target column values to test the model\n",
        "  \"\"\"\n",
        "  (accuracy, conf_matrix) = get_model_evaluation_metrics(clf, X_test, y_test)\n",
        "  mlflow.log_metric('accuracy', accuracy)\n",
        "  #mlflow.log_metric('conf_matrix', conf_matrix)"
      ],
      "id": "bFudJAzUcjzI",
      "execution_count": 36,
      "outputs": []
    },
    {
      "cell_type": "code",
      "metadata": {
        "id": "DpBgmHX9dXcv"
      },
      "source": [
        "def track_model_version(clf):\n",
        "  \"\"\"Version model on MLFlow UI.\n",
        "\n",
        "  Keyword arguments:\n",
        "  clf -- classifier model\n",
        "  \"\"\"\n",
        "  tracking_url_type_store = urlparse(mlflow.get_tracking_uri()).scheme\n",
        "  if tracking_url_type_store != 'file':\n",
        "      mlflow.sklearn.log_model(clf, 'model', registered_model_name='GradientBoostingClassifier')\n",
        "  else:\n",
        "      mlflow.sklearn.log_model(clf, 'model')"
      ],
      "id": "DpBgmHX9dXcv",
      "execution_count": 37,
      "outputs": []
    },
    {
      "cell_type": "code",
      "metadata": {
        "pycharm": {
          "name": "#%%\n"
        },
        "id": "bNg-yhC7uSeS"
      },
      "source": [
        "def set_mlflow_run_tags():\n",
        "  \"\"\"Set current MLFlow run tags.\"\"\"\n",
        "  tags = {'model_name': 'XGBoostClassifier'}\n",
        "  mlflow.set_tags(tags)"
      ],
      "id": "bNg-yhC7uSeS",
      "execution_count": 38,
      "outputs": []
    },
    {
      "cell_type": "code",
      "metadata": {
        "id": "e862b8bd"
      },
      "source": [
        "def train_and_track_model_in_mlflow():\n",
        "  \"\"\"Train model and track it with MLFLow\"\"\"\n",
        "  (X_train, X_test, y_train, y_test) = get_split_train_data()\n",
        "  logger = get_configured_logger()\n",
        "  clf = train_xgboost_classifier(X_train, y_train)\n",
        "  with mlflow.start_run():\n",
        "    track_model_params(clf)\n",
        "    track_model_metrics(clf, X_test, y_test)\n",
        "    track_model_version(clf)\n",
        "    set_mlflow_run_tags()"
      ],
      "id": "e862b8bd",
      "execution_count": 39,
      "outputs": []
    },
    {
      "cell_type": "code",
      "metadata": {
        "pycharm": {
          "name": "#%%\n"
        },
        "colab": {
          "base_uri": "https://localhost:8080/"
        },
        "id": "-e1kKCzVuSeT",
        "outputId": "66804a05-b021-43c8-db76-a249c2185edd"
      },
      "source": [
        "if __name__ == '__main__':\n",
        "    train_and_track_model_in_mlflow()"
      ],
      "id": "-e1kKCzVuSeT",
      "execution_count": 40,
      "outputs": [
        {
          "output_type": "stream",
          "name": "stderr",
          "text": [
            "/usr/local/lib/python3.7/dist-packages/sklearn/preprocessing/_label.py:98: DataConversionWarning: A column-vector y was passed when a 1d array was expected. Please change the shape of y to (n_samples, ), for example using ravel().\n",
            "  y = column_or_1d(y, warn=True)\n",
            "/usr/local/lib/python3.7/dist-packages/sklearn/preprocessing/_label.py:133: DataConversionWarning: A column-vector y was passed when a 1d array was expected. Please change the shape of y to (n_samples, ), for example using ravel().\n",
            "  y = column_or_1d(y, warn=True)\n"
          ]
        }
      ]
    }
  ]
}