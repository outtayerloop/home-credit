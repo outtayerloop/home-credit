{
  "nbformat": 4,
  "nbformat_minor": 0,
  "metadata": {
    "colab": {
      "name": "3.0-cbw-xgboost-xai.ipynb",
      "provenance": []
    },
    "kernelspec": {
      "name": "python3",
      "display_name": "Python 3"
    },
    "language_info": {
      "name": "python"
    }
  },
  "cells": [
    {
      "cell_type": "markdown",
      "metadata": {
        "id": "YBrOq-o7aUzi"
      },
      "source": [
        "# XGBoost eXplainable AI"
      ]
    },
    {
      "cell_type": "code",
      "metadata": {
        "id": "GYY02WszYLli"
      },
      "source": [
        "import shap"
      ],
      "execution_count": null,
      "outputs": []
    },
    {
      "cell_type": "markdown",
      "metadata": {
        "id": "uHnlnHIjZtGG"
      },
      "source": [
        "## Calculating Shapley values for fitted XGBoost model"
      ]
    },
    {
      "cell_type": "code",
      "metadata": {
        "id": "wo3KoVTlYMRG"
      },
      "source": [
        "def get_fit_model_shapley_values(fitted_xgb_model):\n",
        "  \"\"\"Return a list containing computed Shapley values from fitted XGBoost model.\n",
        "\n",
        "  Keyword arguments:\n",
        "  fitted_xgb_model -- Fitted XGBoost model\n",
        "  \"\"\"\n",
        "  explainer = shap.TreeExplainer(fitted_xgb_model)\n",
        "  shap_values = explainer.shap_values(data_for_prediction)\n",
        "  return shap_values"
      ],
      "execution_count": null,
      "outputs": []
    },
    {
      "cell_type": "markdown",
      "metadata": {
        "id": "nwKuEIeihzsa"
      },
      "source": [
        "## Vizualizing explanations for a single line in test dataset (without target column)"
      ]
    },
    {
      "cell_type": "code",
      "metadata": {
        "id": "n-mk7pL0hytI"
      },
      "source": [
        "def vizualize_single_line_xai(line, line_index):\n",
        "  \"\"\"Return a list containing computed Shapley values from fitted XGBoost model.\n",
        "\n",
        "  Keyword arguments:\n",
        "  line -- single line in test dataset that will be used for prediction\n",
        "  line_index -- Line index\n",
        "  \"\"\"\n",
        "  shap.initjs()\n",
        "  line_array = line.values.reshape(1, -1)\n",
        "  shap.force_plot(explainer.expected_value[line_index], shap_values[line_index], line)"
      ],
      "execution_count": null,
      "outputs": []
    },
    {
      "cell_type": "markdown",
      "metadata": {
        "id": "RA_Eqwsr6avD"
      },
      "source": [
        "## Vizualizing explanations for all lines at once in test dataset (without target column)"
      ]
    },
    {
      "cell_type": "code",
      "metadata": {
        "id": "Gruyw1Ke6gU3"
      },
      "source": [
        "def vizualize_full_lines_xai(lines):\n",
        "  \"\"\"Return a list containing computed Shapley values from fitted XGBoost model.\n",
        "\n",
        "  Keyword arguments:\n",
        "  lines -- all lines in test dataset that will be used for prediction\n",
        "  \"\"\"\n",
        "  shap.initjs()\n",
        "  line_array = line.values.reshape(1, -1)\n",
        "  shap.force_plot(explainer.expected_value[line_index], shap_values[line_index], line)"
      ],
      "execution_count": null,
      "outputs": []
    },
    {
      "cell_type": "markdown",
      "metadata": {
        "id": "9Fty4H7CA8K_"
      },
      "source": [
        "## Vizualizing summary plot for each class on the whole dataset with fitted XGBoost model"
      ]
    },
    {
      "cell_type": "code",
      "metadata": {
        "id": "5deJ6XdqBBzb"
      },
      "source": [
        "def vizualize_shap_summary_plot(fitted_xgb_model, lines)\n",
        "  \"\"\"Vizualize summary plot for each class on the whole dataset with fitted XGBoost model.\n",
        "\n",
        "    Keyword arguments:\n",
        "    fitted_xgb_model -- Fitted XGBoost model\n",
        "    lines -- all lines in test dataset that will be used for prediction\n",
        "  \"\"\"\n",
        "  explainer = shap.TreeExplainer(fitted_xgb_model)\n",
        "  shap_values = explainer.shap_values(lines)\n",
        "  shap.summary_plot(shap_values[1],lines)"
      ],
      "execution_count": null,
      "outputs": []
    }
  ]
}