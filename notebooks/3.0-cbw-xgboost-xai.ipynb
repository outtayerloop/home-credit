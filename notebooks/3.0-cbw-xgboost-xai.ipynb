{
 "nbformat": 4,
 "nbformat_minor": 0,
 "metadata": {
  "colab": {
   "name": "3.0-cbw-xgboost-xai.ipynb",
   "provenance": []
  },
  "kernelspec": {
   "name": "python3",
   "display_name": "Python 3"
  },
  "language_info": {
   "name": "python"
  }
 },
 "cells": [
  {
   "cell_type": "markdown",
   "metadata": {
    "id": "YBrOq-o7aUzi"
   },
   "source": [
    "# XGBoost eXplainable AI"
   ]
  },
  {
   "cell_type": "code",
   "metadata": {
    "id": "GYY02WszYLli"
   },
   "source": [
    "import shap\n",
    "import pandas as pd"
   ],
   "execution_count": null,
   "outputs": []
  },
  {
   "cell_type": "markdown",
   "metadata": {
    "id": "uHnlnHIjZtGG"
   },
   "source": [
    "## Calculating Shapley values for fit XGBoost model"
   ]
  },
  {
   "cell_type": "code",
   "metadata": {
    "id": "wo3KoVTlYMRG",
    "pycharm": {
     "name": "#%%\n"
    }
   },
   "source": [
    "def get_fit_model_shapley_values_and_explainer(fit_xgb_model):\n",
    "  \"\"\"Return a tuple with a list containing computed Shapley values from fit XGBoost model\n",
    "  and the obtained TreeExplainer.\n",
    "\n",
    "  Keyword arguments:\n",
    "  fit_xgb_model -- Fitted XGBoost model\n",
    "  \"\"\"\n",
    "  explainer = shap.TreeExplainer(fit_xgb_model)\n",
    "  data_for_prediction = pd.read_csv('./data/processed/processed_application_test.csv')\n",
    "  shap_values = explainer.shap_values(data_for_prediction)\n",
    "  return shap_values, explainer"
   ],
   "execution_count": null,
   "outputs": []
  },
  {
   "cell_type": "markdown",
   "source": [
    "## Vizualizing explanations for a single line in test dataset"
   ],
   "metadata": {
    "collapsed": false
   }
  },
  {
   "cell_type": "code",
   "execution_count": null,
   "outputs": [],
   "source": [
    "def vizualize_single_line_xai(explainer, line, line_index, shap_values):\n",
    "  \"\"\"Call SHAP force_plot to display explanations for a single line in test dataset.\n",
    "\n",
    "  Keyword arguments:\n",
    "  explainer -- SHAP TreeExplainer obtained from fit XGBoost model\n",
    "  line -- single line in test dataset that will be used for prediction\n",
    "  line_index -- Test dataset line index\n",
    "  shap_values -- Computed SHAP values from XGBoost fit model\n",
    "  \"\"\"\n",
    "  shap.initjs()\n",
    "  shap.force_plot(explainer.expected_value[line_index], shap_values[line_index], line)"
   ],
   "metadata": {
    "collapsed": false,
    "pycharm": {
     "name": "#%%\n"
    }
   }
  }
 ]
}