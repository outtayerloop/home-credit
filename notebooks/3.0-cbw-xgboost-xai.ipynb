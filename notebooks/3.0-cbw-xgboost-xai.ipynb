{
 "nbformat": 4,
 "nbformat_minor": 0,
 "metadata": {
  "colab": {
   "name": "3.0-cbw-xgboost-xai.ipynb",
   "provenance": []
  },
  "kernelspec": {
   "name": "python3",
   "display_name": "Python 3"
  },
  "language_info": {
   "name": "python"
  }
 },
 "cells": [
  {
   "cell_type": "markdown",
   "metadata": {
    "id": "YBrOq-o7aUzi"
   },
   "source": [
    "# XGBoost eXplainable AI"
   ]
  },
  {
   "cell_type": "code",
   "metadata": {
    "id": "GYY02WszYLli"
   },
   "source": [
    "import shap\n",
    "import pandas as pd"
   ],
   "execution_count": null,
   "outputs": []
  },
  {
   "cell_type": "markdown",
   "metadata": {
    "id": "uHnlnHIjZtGG"
   },
   "source": [
    "## Calculating Shapley values for fitted XGBoost model"
   ]
  },
  {
   "cell_type": "code",
   "metadata": {
    "id": "wo3KoVTlYMRG",
    "pycharm": {
     "name": "#%%\n"
    }
   },
   "source": [
    "def get_fitted_model_shapley_values(fitted_xgb_model):\n",
    "  \"\"\"Return a list containing computed Shapley values from fitted XGBoost model.\n",
    "\n",
    "  Keyword arguments:\n",
    "  fitted_xgb_model -- Fitted XGBoost model\n",
    "  \"\"\"\n",
    "  explainer = shap.TreeExplainer(fitted_xgb_model)\n",
    "  data_for_prediction = pd.read_csv('./../../../data/processed/processed_application_test.csv')\n",
    "  shap_values = explainer.shap_values(data_for_prediction)\n",
    "  return shap_values"
   ],
   "execution_count": null,
   "outputs": []
  }
 ]
}