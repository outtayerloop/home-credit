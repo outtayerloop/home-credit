{
 "cells": [
  {
   "cell_type": "markdown",
   "metadata": {},
   "source": [
    "# Model training application entry point"
   ]
  },
  {
   "cell_type": "code",
   "execution_count": 1,
   "metadata": {},
   "outputs": [],
   "source": [
    "import subprocess\n",
    "import pandas as pd"
   ]
  },
  {
   "cell_type": "markdown",
   "metadata": {},
   "source": [
    "## Pre-processing both train and test CSVs in data/external and save them in data/processed"
   ]
  },
  {
   "cell_type": "code",
   "execution_count": 2,
   "metadata": {
    "pycharm": {
     "name": "#%%\n"
    }
   },
   "outputs": [],
   "source": [
    "%run ../data/2.0-cbw-data-preprocessing.ipynb"
   ]
  },
  {
   "cell_type": "code",
   "execution_count": 3,
   "metadata": {
    "pycharm": {
     "name": "#%%\n"
    }
   },
   "outputs": [],
   "source": [
    "processed_train = pd.read_csv('../../data/processed/processed_application_train.csv')\n",
    "processed_test = pd.read_csv('../../data/processed/processed_application_test.csv')"
   ]
  },
  {
   "cell_type": "markdown",
   "metadata": {},
   "source": [
    "## Display pre-processed train and test CSVs first lines (head)"
   ]
  },
  {
   "cell_type": "code",
   "execution_count": 4,
   "metadata": {
    "pycharm": {
     "name": "#%%\n"
    }
   },
   "outputs": [
    {
     "data": {
      "text/plain": "   CNT_CHILDREN  AMT_INCOME_TOTAL  AMT_CREDIT  AMT_ANNUITY  AMT_GOODS_PRICE  \\\n0             0          0.112486   -0.545235    -0.275900        -0.569221   \n1             0          0.704502    1.526865     0.434724         1.412794   \n2             1          0.309825    0.650662    -0.000257         0.312947   \n3             0         -0.005917    0.312391     0.246019         0.267120   \n4             0         -0.676868   -1.127208    -1.363063        -1.061861   \n\n   REGION_POPULATION_RELATIVE  DAYS_BIRTH  DAYS_EMPLOYED  DAYS_REGISTRATION  \\\n0                   -0.253586       -9461           -637           0.359172   \n1                   -1.210008      -16765          -1188           1.090039   \n2                   -0.390782      -14086          -3028           1.251233   \n3                   -0.804813      -14583           -203           1.259545   \n4                    1.464901      -17718          -7804          -1.155698   \n\n   DAYS_ID_PUBLISH  ...  WALLSMATERIAL_MODE_Block  WALLSMATERIAL_MODE_Mixed  \\\n0            -2120  ...                         0                         0   \n1             -291  ...                         1                         0   \n2            -4911  ...                         0                         0   \n3            -2056  ...                         0                         0   \n4            -1259  ...                         0                         0   \n\n   WALLSMATERIAL_MODE_Monolithic  WALLSMATERIAL_MODE_Others  \\\n0                              0                          0   \n1                              0                          0   \n2                              0                          0   \n3                              0                          0   \n4                              0                          0   \n\n   WALLSMATERIAL_MODE_Panel  WALLSMATERIAL_MODE_Stone, brick  \\\n0                         0                                1   \n1                         0                                0   \n2                         1                                0   \n3                         1                                0   \n4                         0                                1   \n\n   WALLSMATERIAL_MODE_Wooden  EMERGENCYSTATE_MODE_No  EMERGENCYSTATE_MODE_Yes  \\\n0                          0                       1                        0   \n1                          0                       1                        0   \n2                          0                       1                        0   \n3                          0                       1                        0   \n4                          0                       1                        0   \n\n   TARGET  \n0       1  \n1       0  \n2       0  \n3       0  \n4       0  \n\n[5 rows x 237 columns]",
      "text/html": "<div>\n<style scoped>\n    .dataframe tbody tr th:only-of-type {\n        vertical-align: middle;\n    }\n\n    .dataframe tbody tr th {\n        vertical-align: top;\n    }\n\n    .dataframe thead th {\n        text-align: right;\n    }\n</style>\n<table border=\"1\" class=\"dataframe\">\n  <thead>\n    <tr style=\"text-align: right;\">\n      <th></th>\n      <th>CNT_CHILDREN</th>\n      <th>AMT_INCOME_TOTAL</th>\n      <th>AMT_CREDIT</th>\n      <th>AMT_ANNUITY</th>\n      <th>AMT_GOODS_PRICE</th>\n      <th>REGION_POPULATION_RELATIVE</th>\n      <th>DAYS_BIRTH</th>\n      <th>DAYS_EMPLOYED</th>\n      <th>DAYS_REGISTRATION</th>\n      <th>DAYS_ID_PUBLISH</th>\n      <th>...</th>\n      <th>WALLSMATERIAL_MODE_Block</th>\n      <th>WALLSMATERIAL_MODE_Mixed</th>\n      <th>WALLSMATERIAL_MODE_Monolithic</th>\n      <th>WALLSMATERIAL_MODE_Others</th>\n      <th>WALLSMATERIAL_MODE_Panel</th>\n      <th>WALLSMATERIAL_MODE_Stone, brick</th>\n      <th>WALLSMATERIAL_MODE_Wooden</th>\n      <th>EMERGENCYSTATE_MODE_No</th>\n      <th>EMERGENCYSTATE_MODE_Yes</th>\n      <th>TARGET</th>\n    </tr>\n  </thead>\n  <tbody>\n    <tr>\n      <th>0</th>\n      <td>0</td>\n      <td>0.112486</td>\n      <td>-0.545235</td>\n      <td>-0.275900</td>\n      <td>-0.569221</td>\n      <td>-0.253586</td>\n      <td>-9461</td>\n      <td>-637</td>\n      <td>0.359172</td>\n      <td>-2120</td>\n      <td>...</td>\n      <td>0</td>\n      <td>0</td>\n      <td>0</td>\n      <td>0</td>\n      <td>0</td>\n      <td>1</td>\n      <td>0</td>\n      <td>1</td>\n      <td>0</td>\n      <td>1</td>\n    </tr>\n    <tr>\n      <th>1</th>\n      <td>0</td>\n      <td>0.704502</td>\n      <td>1.526865</td>\n      <td>0.434724</td>\n      <td>1.412794</td>\n      <td>-1.210008</td>\n      <td>-16765</td>\n      <td>-1188</td>\n      <td>1.090039</td>\n      <td>-291</td>\n      <td>...</td>\n      <td>1</td>\n      <td>0</td>\n      <td>0</td>\n      <td>0</td>\n      <td>0</td>\n      <td>0</td>\n      <td>0</td>\n      <td>1</td>\n      <td>0</td>\n      <td>0</td>\n    </tr>\n    <tr>\n      <th>2</th>\n      <td>1</td>\n      <td>0.309825</td>\n      <td>0.650662</td>\n      <td>-0.000257</td>\n      <td>0.312947</td>\n      <td>-0.390782</td>\n      <td>-14086</td>\n      <td>-3028</td>\n      <td>1.251233</td>\n      <td>-4911</td>\n      <td>...</td>\n      <td>0</td>\n      <td>0</td>\n      <td>0</td>\n      <td>0</td>\n      <td>1</td>\n      <td>0</td>\n      <td>0</td>\n      <td>1</td>\n      <td>0</td>\n      <td>0</td>\n    </tr>\n    <tr>\n      <th>3</th>\n      <td>0</td>\n      <td>-0.005917</td>\n      <td>0.312391</td>\n      <td>0.246019</td>\n      <td>0.267120</td>\n      <td>-0.804813</td>\n      <td>-14583</td>\n      <td>-203</td>\n      <td>1.259545</td>\n      <td>-2056</td>\n      <td>...</td>\n      <td>0</td>\n      <td>0</td>\n      <td>0</td>\n      <td>0</td>\n      <td>1</td>\n      <td>0</td>\n      <td>0</td>\n      <td>1</td>\n      <td>0</td>\n      <td>0</td>\n    </tr>\n    <tr>\n      <th>4</th>\n      <td>0</td>\n      <td>-0.676868</td>\n      <td>-1.127208</td>\n      <td>-1.363063</td>\n      <td>-1.061861</td>\n      <td>1.464901</td>\n      <td>-17718</td>\n      <td>-7804</td>\n      <td>-1.155698</td>\n      <td>-1259</td>\n      <td>...</td>\n      <td>0</td>\n      <td>0</td>\n      <td>0</td>\n      <td>0</td>\n      <td>0</td>\n      <td>1</td>\n      <td>0</td>\n      <td>1</td>\n      <td>0</td>\n      <td>0</td>\n    </tr>\n  </tbody>\n</table>\n<p>5 rows × 237 columns</p>\n</div>"
     },
     "execution_count": 4,
     "metadata": {},
     "output_type": "execute_result"
    }
   ],
   "source": [
    "processed_train.head()"
   ]
  },
  {
   "cell_type": "code",
   "execution_count": 5,
   "metadata": {
    "pycharm": {
     "name": "#%%\n"
    }
   },
   "outputs": [
    {
     "data": {
      "text/plain": "   CNT_CHILDREN  AMT_INCOME_TOTAL  AMT_CREDIT  AMT_ANNUITY  AMT_GOODS_PRICE  \\\n0             2          1.059309    2.562260     1.028660         2.935280   \n1             0          0.647693    1.007165     0.177099         0.841447   \n2             0         -0.175538   -0.669483    -0.585425        -0.759719   \n3             1          0.236077   -0.328294    -0.476987        -0.390220   \n4             0         -0.916446   -0.849631    -0.730010        -0.759719   \n\n   REGION_POPULATION_RELATIVE  DAYS_BIRTH  DAYS_EMPLOYED  DAYS_REGISTRATION  \\\n0                    0.196341      -13976          -1866           0.830175   \n1                    0.120865      -18604         -12009          -0.379934   \n2                    0.575500      -13563          -1007          -0.263216   \n3                    0.120865      -10962          -1883           1.389072   \n4                   -0.978692      -10507          -2780          -0.072997   \n\n   DAYS_ID_PUBLISH  ...  HOUSETYPE_MODE_terraced house  \\\n0            -4208  ...                              0   \n1            -2027  ...                              0   \n2            -4044  ...                              0   \n3            -1721  ...                              0   \n4            -2729  ...                              0   \n\n   WALLSMATERIAL_MODE_Block  WALLSMATERIAL_MODE_Mixed  \\\n0                         0                         0   \n1                         1                         0   \n2                         0                         0   \n3                         0                         0   \n4                         0                         0   \n\n   WALLSMATERIAL_MODE_Monolithic  WALLSMATERIAL_MODE_Others  \\\n0                              0                          0   \n1                              0                          0   \n2                              0                          0   \n3                              0                          0   \n4                              0                          0   \n\n   WALLSMATERIAL_MODE_Panel  WALLSMATERIAL_MODE_Stone, brick  \\\n0                         1                                0   \n1                         0                                0   \n2                         0                                1   \n3                         1                                0   \n4                         1                                0   \n\n   WALLSMATERIAL_MODE_Wooden  EMERGENCYSTATE_MODE_No  EMERGENCYSTATE_MODE_Yes  \n0                          0                       1                        0  \n1                          0                       1                        0  \n2                          0                       1                        0  \n3                          0                       1                        0  \n4                          0                       1                        0  \n\n[5 rows x 236 columns]",
      "text/html": "<div>\n<style scoped>\n    .dataframe tbody tr th:only-of-type {\n        vertical-align: middle;\n    }\n\n    .dataframe tbody tr th {\n        vertical-align: top;\n    }\n\n    .dataframe thead th {\n        text-align: right;\n    }\n</style>\n<table border=\"1\" class=\"dataframe\">\n  <thead>\n    <tr style=\"text-align: right;\">\n      <th></th>\n      <th>CNT_CHILDREN</th>\n      <th>AMT_INCOME_TOTAL</th>\n      <th>AMT_CREDIT</th>\n      <th>AMT_ANNUITY</th>\n      <th>AMT_GOODS_PRICE</th>\n      <th>REGION_POPULATION_RELATIVE</th>\n      <th>DAYS_BIRTH</th>\n      <th>DAYS_EMPLOYED</th>\n      <th>DAYS_REGISTRATION</th>\n      <th>DAYS_ID_PUBLISH</th>\n      <th>...</th>\n      <th>HOUSETYPE_MODE_terraced house</th>\n      <th>WALLSMATERIAL_MODE_Block</th>\n      <th>WALLSMATERIAL_MODE_Mixed</th>\n      <th>WALLSMATERIAL_MODE_Monolithic</th>\n      <th>WALLSMATERIAL_MODE_Others</th>\n      <th>WALLSMATERIAL_MODE_Panel</th>\n      <th>WALLSMATERIAL_MODE_Stone, brick</th>\n      <th>WALLSMATERIAL_MODE_Wooden</th>\n      <th>EMERGENCYSTATE_MODE_No</th>\n      <th>EMERGENCYSTATE_MODE_Yes</th>\n    </tr>\n  </thead>\n  <tbody>\n    <tr>\n      <th>0</th>\n      <td>2</td>\n      <td>1.059309</td>\n      <td>2.562260</td>\n      <td>1.028660</td>\n      <td>2.935280</td>\n      <td>0.196341</td>\n      <td>-13976</td>\n      <td>-1866</td>\n      <td>0.830175</td>\n      <td>-4208</td>\n      <td>...</td>\n      <td>0</td>\n      <td>0</td>\n      <td>0</td>\n      <td>0</td>\n      <td>0</td>\n      <td>1</td>\n      <td>0</td>\n      <td>0</td>\n      <td>1</td>\n      <td>0</td>\n    </tr>\n    <tr>\n      <th>1</th>\n      <td>0</td>\n      <td>0.647693</td>\n      <td>1.007165</td>\n      <td>0.177099</td>\n      <td>0.841447</td>\n      <td>0.120865</td>\n      <td>-18604</td>\n      <td>-12009</td>\n      <td>-0.379934</td>\n      <td>-2027</td>\n      <td>...</td>\n      <td>0</td>\n      <td>1</td>\n      <td>0</td>\n      <td>0</td>\n      <td>0</td>\n      <td>0</td>\n      <td>0</td>\n      <td>0</td>\n      <td>1</td>\n      <td>0</td>\n    </tr>\n    <tr>\n      <th>2</th>\n      <td>0</td>\n      <td>-0.175538</td>\n      <td>-0.669483</td>\n      <td>-0.585425</td>\n      <td>-0.759719</td>\n      <td>0.575500</td>\n      <td>-13563</td>\n      <td>-1007</td>\n      <td>-0.263216</td>\n      <td>-4044</td>\n      <td>...</td>\n      <td>0</td>\n      <td>0</td>\n      <td>0</td>\n      <td>0</td>\n      <td>0</td>\n      <td>0</td>\n      <td>1</td>\n      <td>0</td>\n      <td>1</td>\n      <td>0</td>\n    </tr>\n    <tr>\n      <th>3</th>\n      <td>1</td>\n      <td>0.236077</td>\n      <td>-0.328294</td>\n      <td>-0.476987</td>\n      <td>-0.390220</td>\n      <td>0.120865</td>\n      <td>-10962</td>\n      <td>-1883</td>\n      <td>1.389072</td>\n      <td>-1721</td>\n      <td>...</td>\n      <td>0</td>\n      <td>0</td>\n      <td>0</td>\n      <td>0</td>\n      <td>0</td>\n      <td>1</td>\n      <td>0</td>\n      <td>0</td>\n      <td>1</td>\n      <td>0</td>\n    </tr>\n    <tr>\n      <th>4</th>\n      <td>0</td>\n      <td>-0.916446</td>\n      <td>-0.849631</td>\n      <td>-0.730010</td>\n      <td>-0.759719</td>\n      <td>-0.978692</td>\n      <td>-10507</td>\n      <td>-2780</td>\n      <td>-0.072997</td>\n      <td>-2729</td>\n      <td>...</td>\n      <td>0</td>\n      <td>0</td>\n      <td>0</td>\n      <td>0</td>\n      <td>0</td>\n      <td>1</td>\n      <td>0</td>\n      <td>0</td>\n      <td>1</td>\n      <td>0</td>\n    </tr>\n  </tbody>\n</table>\n<p>5 rows × 236 columns</p>\n</div>"
     },
     "execution_count": 5,
     "metadata": {},
     "output_type": "execute_result"
    }
   ],
   "source": [
    "processed_test.head()"
   ]
  },
  {
   "cell_type": "markdown",
   "metadata": {},
   "source": [
    "## Train models and track them with MLFlow"
   ]
  },
  {
   "cell_type": "code",
   "execution_count": 6,
   "metadata": {
    "pycharm": {
     "name": "#%%\n"
    }
   },
   "outputs": [],
   "source": [
    "def train_models():\n",
    "    subprocess.run('mlflow run ../../src/models/train/gradient_boosting')\n",
    "    subprocess.run('mlflow run ../../src/models/train/xgboost ')\n",
    "    subprocess.run('mlflow run ../../src/models/train/random_forest')"
   ]
  },
  {
   "cell_type": "code",
   "execution_count": 7,
   "metadata": {
    "pycharm": {
     "name": "#%%\n"
    }
   },
   "outputs": [],
   "source": [
    "train_models()"
   ]
  },
  {
   "cell_type": "markdown",
   "metadata": {},
   "source": [
    "## Running MLFow UI server to visualize runs"
   ]
  },
  {
   "cell_type": "code",
   "execution_count": null,
   "metadata": {
    "pycharm": {
     "name": "#%%\n",
     "is_executing": true
    }
   },
   "outputs": [],
   "source": [
    "subprocess.run('mlflow ui')"
   ]
  }
 ],
 "metadata": {
  "kernelspec": {
   "display_name": "Python 3 (ipykernel)",
   "language": "python",
   "name": "python3"
  },
  "language_info": {
   "codemirror_mode": {
    "name": "ipython",
    "version": 3
   },
   "file_extension": ".py",
   "mimetype": "text/x-python",
   "name": "python",
   "nbconvert_exporter": "python",
   "pygments_lexer": "ipython3",
   "version": "3.9.0"
  }
 },
 "nbformat": 4,
 "nbformat_minor": 1
}