{
 "cells": [
  {
   "cell_type": "markdown",
   "metadata": {},
   "source": [
    "# Model training application entry point"
   ]
  },
  {
   "cell_type": "code",
   "execution_count": 1,
   "metadata": {},
   "outputs": [],
   "source": [
    "import subprocess\n",
    "import pandas as pd"
   ]
  },
  {
   "cell_type": "markdown",
   "metadata": {},
   "source": [
    "## Pre-processing both train and test CSVs in data/external and save them in data/processed"
   ]
  },
  {
   "cell_type": "code",
   "execution_count": 2,
   "outputs": [],
   "source": [
    "%run ../1.0-cbw-data-preprocessing.ipynb"
   ],
   "metadata": {
    "collapsed": false,
    "pycharm": {
     "name": "#%%\n"
    }
   }
  },
  {
   "cell_type": "code",
   "execution_count": 3,
   "metadata": {
    "pycharm": {
     "name": "#%%\n"
    }
   },
   "outputs": [],
   "source": [
    "processed_train = pd.read_csv('../../data/processed/processed_application_train.csv')\n",
    "processed_test = pd.read_csv('../../data/processed/processed_application_test.csv')"
   ]
  },
  {
   "cell_type": "markdown",
   "metadata": {},
   "source": [
    "## Display pre-processed train and test CSVs first lines (head)"
   ]
  },
  {
   "cell_type": "code",
   "execution_count": 4,
   "metadata": {
    "pycharm": {
     "name": "#%%\n"
    }
   },
   "outputs": [
    {
     "data": {
      "text/plain": "   CODE_GENDER  FLAG_OWN_CAR  FLAG_OWN_REALTY  CNT_CHILDREN  AMT_INCOME_TOTAL  \\\n0          1.0           0.0              1.0           0.0          0.112486   \n1          0.0           0.0              0.0           0.0          0.704502   \n2          1.0           1.0              0.0           1.0          0.309825   \n3          0.0           0.0              1.0           0.0         -0.005917   \n4          0.0           0.0              1.0           0.0         -0.676868   \n\n   AMT_CREDIT  AMT_ANNUITY  AMT_GOODS_PRICE  NAME_INCOME_TYPE  \\\n0   -0.545235    -0.275900        -0.569221               5.0   \n1    1.526865     0.434724         1.412794               3.0   \n2    0.650662    -0.000257         0.312947               5.0   \n3    0.312391     0.246019         0.267120               5.0   \n4   -1.127208    -1.363063        -1.061861               5.0   \n\n   NAME_EDUCATION_TYPE  ...  LIVINGAREA_MEDI  NONLIVINGAPARTMENTS_MEDI  \\\n0                  4.0  ...        -0.847015                 -0.176513   \n1                  1.0  ...        -0.525905                 -0.087911   \n2                  4.0  ...         0.234202                 -0.176513   \n3                  4.0  ...         2.363206                  0.264224   \n4                  4.0  ...        -0.757281                 -0.176513   \n\n   NONLIVINGAREA_MEDI  TOTALAREA_MODE  OBS_30_CNT_SOCIAL_CIRCLE  \\\n0           -0.391974       -0.867653                  0.239270   \n1           -0.234799       -0.362014                 -0.141029   \n2           -0.391974        0.267126                 -0.521328   \n3            1.214356        2.409605                 -0.521328   \n4           -0.391974       -0.788004                  2.521066   \n\n   OBS_60_CNT_SOCIAL_CIRCLE  DAYS_LAST_PHONE_CHANGE  FLAG_DOCUMENT_3  \\\n0                  0.247568               -0.146298              1.0   \n1                 -0.136194                0.214322              1.0   \n2                 -0.519956                1.185404              1.0   \n3                 -0.519956                0.968561              1.0   \n4                  2.550139                0.908457              1.0   \n\n   AMT_REQ_CREDIT_BUREAU_YEAR  TARGET  \n0                   -0.425172       1  \n1                   -1.004679       0  \n2                   -0.425172       0  \n3                   -0.425172       0  \n4                   -1.004679       0  \n\n[5 rows x 78 columns]",
      "text/html": "<div>\n<style scoped>\n    .dataframe tbody tr th:only-of-type {\n        vertical-align: middle;\n    }\n\n    .dataframe tbody tr th {\n        vertical-align: top;\n    }\n\n    .dataframe thead th {\n        text-align: right;\n    }\n</style>\n<table border=\"1\" class=\"dataframe\">\n  <thead>\n    <tr style=\"text-align: right;\">\n      <th></th>\n      <th>CODE_GENDER</th>\n      <th>FLAG_OWN_CAR</th>\n      <th>FLAG_OWN_REALTY</th>\n      <th>CNT_CHILDREN</th>\n      <th>AMT_INCOME_TOTAL</th>\n      <th>AMT_CREDIT</th>\n      <th>AMT_ANNUITY</th>\n      <th>AMT_GOODS_PRICE</th>\n      <th>NAME_INCOME_TYPE</th>\n      <th>NAME_EDUCATION_TYPE</th>\n      <th>...</th>\n      <th>LIVINGAREA_MEDI</th>\n      <th>NONLIVINGAPARTMENTS_MEDI</th>\n      <th>NONLIVINGAREA_MEDI</th>\n      <th>TOTALAREA_MODE</th>\n      <th>OBS_30_CNT_SOCIAL_CIRCLE</th>\n      <th>OBS_60_CNT_SOCIAL_CIRCLE</th>\n      <th>DAYS_LAST_PHONE_CHANGE</th>\n      <th>FLAG_DOCUMENT_3</th>\n      <th>AMT_REQ_CREDIT_BUREAU_YEAR</th>\n      <th>TARGET</th>\n    </tr>\n  </thead>\n  <tbody>\n    <tr>\n      <th>0</th>\n      <td>1.0</td>\n      <td>0.0</td>\n      <td>1.0</td>\n      <td>0.0</td>\n      <td>0.112486</td>\n      <td>-0.545235</td>\n      <td>-0.275900</td>\n      <td>-0.569221</td>\n      <td>5.0</td>\n      <td>4.0</td>\n      <td>...</td>\n      <td>-0.847015</td>\n      <td>-0.176513</td>\n      <td>-0.391974</td>\n      <td>-0.867653</td>\n      <td>0.239270</td>\n      <td>0.247568</td>\n      <td>-0.146298</td>\n      <td>1.0</td>\n      <td>-0.425172</td>\n      <td>1</td>\n    </tr>\n    <tr>\n      <th>1</th>\n      <td>0.0</td>\n      <td>0.0</td>\n      <td>0.0</td>\n      <td>0.0</td>\n      <td>0.704502</td>\n      <td>1.526865</td>\n      <td>0.434724</td>\n      <td>1.412794</td>\n      <td>3.0</td>\n      <td>1.0</td>\n      <td>...</td>\n      <td>-0.525905</td>\n      <td>-0.087911</td>\n      <td>-0.234799</td>\n      <td>-0.362014</td>\n      <td>-0.141029</td>\n      <td>-0.136194</td>\n      <td>0.214322</td>\n      <td>1.0</td>\n      <td>-1.004679</td>\n      <td>0</td>\n    </tr>\n    <tr>\n      <th>2</th>\n      <td>1.0</td>\n      <td>1.0</td>\n      <td>0.0</td>\n      <td>1.0</td>\n      <td>0.309825</td>\n      <td>0.650662</td>\n      <td>-0.000257</td>\n      <td>0.312947</td>\n      <td>5.0</td>\n      <td>4.0</td>\n      <td>...</td>\n      <td>0.234202</td>\n      <td>-0.176513</td>\n      <td>-0.391974</td>\n      <td>0.267126</td>\n      <td>-0.521328</td>\n      <td>-0.519956</td>\n      <td>1.185404</td>\n      <td>1.0</td>\n      <td>-0.425172</td>\n      <td>0</td>\n    </tr>\n    <tr>\n      <th>3</th>\n      <td>0.0</td>\n      <td>0.0</td>\n      <td>1.0</td>\n      <td>0.0</td>\n      <td>-0.005917</td>\n      <td>0.312391</td>\n      <td>0.246019</td>\n      <td>0.267120</td>\n      <td>5.0</td>\n      <td>4.0</td>\n      <td>...</td>\n      <td>2.363206</td>\n      <td>0.264224</td>\n      <td>1.214356</td>\n      <td>2.409605</td>\n      <td>-0.521328</td>\n      <td>-0.519956</td>\n      <td>0.968561</td>\n      <td>1.0</td>\n      <td>-0.425172</td>\n      <td>0</td>\n    </tr>\n    <tr>\n      <th>4</th>\n      <td>0.0</td>\n      <td>0.0</td>\n      <td>1.0</td>\n      <td>0.0</td>\n      <td>-0.676868</td>\n      <td>-1.127208</td>\n      <td>-1.363063</td>\n      <td>-1.061861</td>\n      <td>5.0</td>\n      <td>4.0</td>\n      <td>...</td>\n      <td>-0.757281</td>\n      <td>-0.176513</td>\n      <td>-0.391974</td>\n      <td>-0.788004</td>\n      <td>2.521066</td>\n      <td>2.550139</td>\n      <td>0.908457</td>\n      <td>1.0</td>\n      <td>-1.004679</td>\n      <td>0</td>\n    </tr>\n  </tbody>\n</table>\n<p>5 rows × 78 columns</p>\n</div>"
     },
     "execution_count": 4,
     "metadata": {},
     "output_type": "execute_result"
    }
   ],
   "source": [
    "processed_train.head()"
   ]
  },
  {
   "cell_type": "code",
   "execution_count": 5,
   "metadata": {
    "pycharm": {
     "name": "#%%\n"
    }
   },
   "outputs": [
    {
     "data": {
      "text/plain": "   CODE_GENDER  FLAG_OWN_CAR  FLAG_OWN_REALTY  CNT_CHILDREN  AMT_INCOME_TOTAL  \\\n0          0.0           0.0              1.0           2.0          1.059309   \n1          0.0           1.0              1.0           0.0          0.647693   \n2          1.0           1.0              1.0           0.0         -0.175538   \n3          0.0           1.0              1.0           1.0          0.236077   \n4          0.0           0.0              1.0           0.0         -0.916446   \n\n   AMT_CREDIT  AMT_ANNUITY  AMT_GOODS_PRICE  NAME_INCOME_TYPE  \\\n0    2.562260     1.028660         2.935280               3.0   \n1    1.007165     0.177099         0.841447               1.0   \n2   -0.669483    -0.585425        -0.759719               3.0   \n3   -0.328294    -0.476987        -0.390220               0.0   \n4   -0.849631    -0.730010        -0.759719               0.0   \n\n   NAME_EDUCATION_TYPE  ...  LIVINGAPARTMENTS_MEDI  LIVINGAREA_MEDI  \\\n0                  4.0  ...               1.419629         2.110205   \n1                  4.0  ...               0.938461         0.874028   \n2                  4.0  ...              -0.781894        -0.489856   \n3                  1.0  ...              -0.153617        -0.172673   \n4                  4.0  ...              -0.380409        -0.608382   \n\n   NONLIVINGAPARTMENTS_MEDI  NONLIVINGAREA_MEDI  TOTALAREA_MODE  \\\n0                  0.689932            0.805199        2.168000   \n1                  0.080436            0.702445        0.840780   \n2                 -0.004714           -0.367065       -0.587546   \n3                 -0.179496            0.039609       -0.285087   \n4                 -0.179496           -0.377196       -0.533566   \n\n   OBS_30_CNT_SOCIAL_CIRCLE  OBS_60_CNT_SOCIAL_CIRCLE  DAYS_LAST_PHONE_CHANGE  \\\n0                 -0.267779                 -0.267861               -0.732162   \n1                 -0.267779                 -0.267861               -0.621556   \n2                  0.105273                  0.108637                0.913653   \n3                  0.664851                  0.673385               -0.523117   \n4                 -0.267779                 -0.267861               -1.276343   \n\n   FLAG_DOCUMENT_3  AMT_REQ_CREDIT_BUREAU_YEAR  \n0              1.0                    0.649564  \n1              0.0                    0.052319  \n2              0.0                    0.649564  \n3              1.0                    1.246809  \n4              1.0                    0.052319  \n\n[5 rows x 77 columns]",
      "text/html": "<div>\n<style scoped>\n    .dataframe tbody tr th:only-of-type {\n        vertical-align: middle;\n    }\n\n    .dataframe tbody tr th {\n        vertical-align: top;\n    }\n\n    .dataframe thead th {\n        text-align: right;\n    }\n</style>\n<table border=\"1\" class=\"dataframe\">\n  <thead>\n    <tr style=\"text-align: right;\">\n      <th></th>\n      <th>CODE_GENDER</th>\n      <th>FLAG_OWN_CAR</th>\n      <th>FLAG_OWN_REALTY</th>\n      <th>CNT_CHILDREN</th>\n      <th>AMT_INCOME_TOTAL</th>\n      <th>AMT_CREDIT</th>\n      <th>AMT_ANNUITY</th>\n      <th>AMT_GOODS_PRICE</th>\n      <th>NAME_INCOME_TYPE</th>\n      <th>NAME_EDUCATION_TYPE</th>\n      <th>...</th>\n      <th>LIVINGAPARTMENTS_MEDI</th>\n      <th>LIVINGAREA_MEDI</th>\n      <th>NONLIVINGAPARTMENTS_MEDI</th>\n      <th>NONLIVINGAREA_MEDI</th>\n      <th>TOTALAREA_MODE</th>\n      <th>OBS_30_CNT_SOCIAL_CIRCLE</th>\n      <th>OBS_60_CNT_SOCIAL_CIRCLE</th>\n      <th>DAYS_LAST_PHONE_CHANGE</th>\n      <th>FLAG_DOCUMENT_3</th>\n      <th>AMT_REQ_CREDIT_BUREAU_YEAR</th>\n    </tr>\n  </thead>\n  <tbody>\n    <tr>\n      <th>0</th>\n      <td>0.0</td>\n      <td>0.0</td>\n      <td>1.0</td>\n      <td>2.0</td>\n      <td>1.059309</td>\n      <td>2.562260</td>\n      <td>1.028660</td>\n      <td>2.935280</td>\n      <td>3.0</td>\n      <td>4.0</td>\n      <td>...</td>\n      <td>1.419629</td>\n      <td>2.110205</td>\n      <td>0.689932</td>\n      <td>0.805199</td>\n      <td>2.168000</td>\n      <td>-0.267779</td>\n      <td>-0.267861</td>\n      <td>-0.732162</td>\n      <td>1.0</td>\n      <td>0.649564</td>\n    </tr>\n    <tr>\n      <th>1</th>\n      <td>0.0</td>\n      <td>1.0</td>\n      <td>1.0</td>\n      <td>0.0</td>\n      <td>0.647693</td>\n      <td>1.007165</td>\n      <td>0.177099</td>\n      <td>0.841447</td>\n      <td>1.0</td>\n      <td>4.0</td>\n      <td>...</td>\n      <td>0.938461</td>\n      <td>0.874028</td>\n      <td>0.080436</td>\n      <td>0.702445</td>\n      <td>0.840780</td>\n      <td>-0.267779</td>\n      <td>-0.267861</td>\n      <td>-0.621556</td>\n      <td>0.0</td>\n      <td>0.052319</td>\n    </tr>\n    <tr>\n      <th>2</th>\n      <td>1.0</td>\n      <td>1.0</td>\n      <td>1.0</td>\n      <td>0.0</td>\n      <td>-0.175538</td>\n      <td>-0.669483</td>\n      <td>-0.585425</td>\n      <td>-0.759719</td>\n      <td>3.0</td>\n      <td>4.0</td>\n      <td>...</td>\n      <td>-0.781894</td>\n      <td>-0.489856</td>\n      <td>-0.004714</td>\n      <td>-0.367065</td>\n      <td>-0.587546</td>\n      <td>0.105273</td>\n      <td>0.108637</td>\n      <td>0.913653</td>\n      <td>0.0</td>\n      <td>0.649564</td>\n    </tr>\n    <tr>\n      <th>3</th>\n      <td>0.0</td>\n      <td>1.0</td>\n      <td>1.0</td>\n      <td>1.0</td>\n      <td>0.236077</td>\n      <td>-0.328294</td>\n      <td>-0.476987</td>\n      <td>-0.390220</td>\n      <td>0.0</td>\n      <td>1.0</td>\n      <td>...</td>\n      <td>-0.153617</td>\n      <td>-0.172673</td>\n      <td>-0.179496</td>\n      <td>0.039609</td>\n      <td>-0.285087</td>\n      <td>0.664851</td>\n      <td>0.673385</td>\n      <td>-0.523117</td>\n      <td>1.0</td>\n      <td>1.246809</td>\n    </tr>\n    <tr>\n      <th>4</th>\n      <td>0.0</td>\n      <td>0.0</td>\n      <td>1.0</td>\n      <td>0.0</td>\n      <td>-0.916446</td>\n      <td>-0.849631</td>\n      <td>-0.730010</td>\n      <td>-0.759719</td>\n      <td>0.0</td>\n      <td>4.0</td>\n      <td>...</td>\n      <td>-0.380409</td>\n      <td>-0.608382</td>\n      <td>-0.179496</td>\n      <td>-0.377196</td>\n      <td>-0.533566</td>\n      <td>-0.267779</td>\n      <td>-0.267861</td>\n      <td>-1.276343</td>\n      <td>1.0</td>\n      <td>0.052319</td>\n    </tr>\n  </tbody>\n</table>\n<p>5 rows × 77 columns</p>\n</div>"
     },
     "execution_count": 5,
     "metadata": {},
     "output_type": "execute_result"
    }
   ],
   "source": [
    "processed_test.head()"
   ]
  },
  {
   "cell_type": "markdown",
   "metadata": {},
   "source": [
    "## Train models and track them with MLFlow"
   ]
  },
  {
   "cell_type": "code",
   "execution_count": 6,
   "metadata": {
    "pycharm": {
     "name": "#%%\n"
    }
   },
   "outputs": [],
   "source": [
    "def train_models():\n",
    "    subprocess.run('mlflow run ../../src/models/train/gradient_boosting')\n",
    "    subprocess.run('mlflow run ../../src/models/train/xgboost ')\n",
    "    subprocess.run('mlflow run ../../src/models/train/random_forest')"
   ]
  },
  {
   "cell_type": "code",
   "execution_count": 7,
   "metadata": {
    "pycharm": {
     "name": "#%%\n"
    }
   },
   "outputs": [],
   "source": [
    "train_models()"
   ]
  },
  {
   "cell_type": "markdown",
   "source": [
    "## Running MLFow UI server to visualize runs"
   ],
   "metadata": {
    "collapsed": false
   }
  },
  {
   "cell_type": "code",
   "execution_count": null,
   "outputs": [],
   "source": [
    "subprocess.run('mlflow ui')"
   ],
   "metadata": {
    "collapsed": false,
    "pycharm": {
     "name": "#%%\n",
     "is_executing": true
    }
   }
  }
 ],
 "metadata": {
  "kernelspec": {
   "display_name": "Python 3 (ipykernel)",
   "language": "python",
   "name": "python3"
  },
  "language_info": {
   "codemirror_mode": {
    "name": "ipython",
    "version": 3
   },
   "file_extension": ".py",
   "mimetype": "text/x-python",
   "name": "python",
   "nbconvert_exporter": "python",
   "pygments_lexer": "ipython3",
   "version": "3.9.0"
  }
 },
 "nbformat": 4,
 "nbformat_minor": 1
}