{
 "cells": [
  {
   "cell_type": "markdown",
   "id": "1a069376-2802-477e-ae22-8192da45be11",
   "metadata": {
    "gradient": {
     "editing": false
    },
    "id": "1a069376-2802-477e-ae22-8192da45be11"
   },
   "source": [
    "# Data preprocessing"
   ]
  },
  {
   "cell_type": "code",
   "execution_count": 1,
   "id": "J44Q8wLcBs7W",
   "metadata": {
    "id": "J44Q8wLcBs7W"
   },
   "outputs": [],
   "source": [
    "import pandas as pd\n",
    "import numpy as np\n",
    "from sklearn.impute import SimpleImputer\n",
    "from sklearn.preprocessing import StandardScaler"
   ]
  },
  {
   "cell_type": "markdown",
   "id": "oYngGJuJABAl",
   "metadata": {
    "id": "oYngGJuJABAl"
   },
   "source": [
    "## Obtaining base train and test dataframes"
   ]
  },
  {
   "cell_type": "markdown",
   "id": "4e03a4de",
   "metadata": {
    "collapsed": false
   },
   "source": [
    "### Retrieving both train and test application CSV files from Kaggle API"
   ]
  },
  {
   "cell_type": "code",
   "execution_count": 2,
   "id": "a1a3ae51",
   "metadata": {
    "collapsed": false,
    "pycharm": {
     "name": "#%%\n"
    }
   },
   "outputs": [],
   "source": [
    "%run ../data/1.0-cbw-data-retrieval.ipynb"
   ]
  },
  {
   "cell_type": "markdown",
   "id": "39d2ae9c-7e40-4baa-9c72-cdd5d912bb04",
   "metadata": {
    "gradient": {
     "editing": false
    },
    "id": "39d2ae9c-7e40-4baa-9c72-cdd5d912bb04"
   },
   "source": [
    "### Creating train and test dataframes"
   ]
  },
  {
   "cell_type": "code",
   "execution_count": 3,
   "id": "iFDLQubNVQtP",
   "metadata": {
    "id": "iFDLQubNVQtP"
   },
   "outputs": [],
   "source": [
    "def get_dataframes():\n",
    "  \"\"\"Return a tuple containing train and test dataframes.\"\"\"\n",
    "  train = pd.read_csv('../../data/external/application_train.csv')\n",
    "  test = pd.read_csv('../../data/external/application_test.csv')\n",
    "  return train, test"
   ]
  },
  {
   "cell_type": "code",
   "execution_count": 4,
   "id": "tr_7dMiFlO9K",
   "metadata": {
    "id": "tr_7dMiFlO9K",
    "pycharm": {
     "name": "#%%\n"
    }
   },
   "outputs": [],
   "source": [
    "(train, test) = get_dataframes()"
   ]
  },
  {
   "cell_type": "code",
   "execution_count": 5,
   "id": "_bKPVGoXlO9L",
   "metadata": {
    "colab": {
     "base_uri": "https://localhost:8080/",
     "height": 325
    },
    "id": "_bKPVGoXlO9L",
    "outputId": "4f22e975-12fd-49fb-eff6-6a7b375869c0",
    "pycharm": {
     "name": "#%%\n"
    }
   },
   "outputs": [
    {
     "data": {
      "text/html": [
       "<div>\n",
       "<style scoped>\n",
       "    .dataframe tbody tr th:only-of-type {\n",
       "        vertical-align: middle;\n",
       "    }\n",
       "\n",
       "    .dataframe tbody tr th {\n",
       "        vertical-align: top;\n",
       "    }\n",
       "\n",
       "    .dataframe thead th {\n",
       "        text-align: right;\n",
       "    }\n",
       "</style>\n",
       "<table border=\"1\" class=\"dataframe\">\n",
       "  <thead>\n",
       "    <tr style=\"text-align: right;\">\n",
       "      <th></th>\n",
       "      <th>SK_ID_CURR</th>\n",
       "      <th>TARGET</th>\n",
       "      <th>NAME_CONTRACT_TYPE</th>\n",
       "      <th>CODE_GENDER</th>\n",
       "      <th>FLAG_OWN_CAR</th>\n",
       "      <th>FLAG_OWN_REALTY</th>\n",
       "      <th>CNT_CHILDREN</th>\n",
       "      <th>AMT_INCOME_TOTAL</th>\n",
       "      <th>AMT_CREDIT</th>\n",
       "      <th>AMT_ANNUITY</th>\n",
       "      <th>...</th>\n",
       "      <th>FLAG_DOCUMENT_18</th>\n",
       "      <th>FLAG_DOCUMENT_19</th>\n",
       "      <th>FLAG_DOCUMENT_20</th>\n",
       "      <th>FLAG_DOCUMENT_21</th>\n",
       "      <th>AMT_REQ_CREDIT_BUREAU_HOUR</th>\n",
       "      <th>AMT_REQ_CREDIT_BUREAU_DAY</th>\n",
       "      <th>AMT_REQ_CREDIT_BUREAU_WEEK</th>\n",
       "      <th>AMT_REQ_CREDIT_BUREAU_MON</th>\n",
       "      <th>AMT_REQ_CREDIT_BUREAU_QRT</th>\n",
       "      <th>AMT_REQ_CREDIT_BUREAU_YEAR</th>\n",
       "    </tr>\n",
       "  </thead>\n",
       "  <tbody>\n",
       "    <tr>\n",
       "      <th>0</th>\n",
       "      <td>100002</td>\n",
       "      <td>1</td>\n",
       "      <td>Cash loans</td>\n",
       "      <td>M</td>\n",
       "      <td>N</td>\n",
       "      <td>Y</td>\n",
       "      <td>0</td>\n",
       "      <td>202500.0</td>\n",
       "      <td>406597.5</td>\n",
       "      <td>24700.5</td>\n",
       "      <td>...</td>\n",
       "      <td>0</td>\n",
       "      <td>0</td>\n",
       "      <td>0</td>\n",
       "      <td>0</td>\n",
       "      <td>0.0</td>\n",
       "      <td>0.0</td>\n",
       "      <td>0.0</td>\n",
       "      <td>0.0</td>\n",
       "      <td>0.0</td>\n",
       "      <td>1.0</td>\n",
       "    </tr>\n",
       "    <tr>\n",
       "      <th>1</th>\n",
       "      <td>100003</td>\n",
       "      <td>0</td>\n",
       "      <td>Cash loans</td>\n",
       "      <td>F</td>\n",
       "      <td>N</td>\n",
       "      <td>N</td>\n",
       "      <td>0</td>\n",
       "      <td>270000.0</td>\n",
       "      <td>1293502.5</td>\n",
       "      <td>35698.5</td>\n",
       "      <td>...</td>\n",
       "      <td>0</td>\n",
       "      <td>0</td>\n",
       "      <td>0</td>\n",
       "      <td>0</td>\n",
       "      <td>0.0</td>\n",
       "      <td>0.0</td>\n",
       "      <td>0.0</td>\n",
       "      <td>0.0</td>\n",
       "      <td>0.0</td>\n",
       "      <td>0.0</td>\n",
       "    </tr>\n",
       "    <tr>\n",
       "      <th>2</th>\n",
       "      <td>100004</td>\n",
       "      <td>0</td>\n",
       "      <td>Revolving loans</td>\n",
       "      <td>M</td>\n",
       "      <td>Y</td>\n",
       "      <td>Y</td>\n",
       "      <td>0</td>\n",
       "      <td>67500.0</td>\n",
       "      <td>135000.0</td>\n",
       "      <td>6750.0</td>\n",
       "      <td>...</td>\n",
       "      <td>0</td>\n",
       "      <td>0</td>\n",
       "      <td>0</td>\n",
       "      <td>0</td>\n",
       "      <td>0.0</td>\n",
       "      <td>0.0</td>\n",
       "      <td>0.0</td>\n",
       "      <td>0.0</td>\n",
       "      <td>0.0</td>\n",
       "      <td>0.0</td>\n",
       "    </tr>\n",
       "    <tr>\n",
       "      <th>3</th>\n",
       "      <td>100006</td>\n",
       "      <td>0</td>\n",
       "      <td>Cash loans</td>\n",
       "      <td>F</td>\n",
       "      <td>N</td>\n",
       "      <td>Y</td>\n",
       "      <td>0</td>\n",
       "      <td>135000.0</td>\n",
       "      <td>312682.5</td>\n",
       "      <td>29686.5</td>\n",
       "      <td>...</td>\n",
       "      <td>0</td>\n",
       "      <td>0</td>\n",
       "      <td>0</td>\n",
       "      <td>0</td>\n",
       "      <td>NaN</td>\n",
       "      <td>NaN</td>\n",
       "      <td>NaN</td>\n",
       "      <td>NaN</td>\n",
       "      <td>NaN</td>\n",
       "      <td>NaN</td>\n",
       "    </tr>\n",
       "    <tr>\n",
       "      <th>4</th>\n",
       "      <td>100007</td>\n",
       "      <td>0</td>\n",
       "      <td>Cash loans</td>\n",
       "      <td>M</td>\n",
       "      <td>N</td>\n",
       "      <td>Y</td>\n",
       "      <td>0</td>\n",
       "      <td>121500.0</td>\n",
       "      <td>513000.0</td>\n",
       "      <td>21865.5</td>\n",
       "      <td>...</td>\n",
       "      <td>0</td>\n",
       "      <td>0</td>\n",
       "      <td>0</td>\n",
       "      <td>0</td>\n",
       "      <td>0.0</td>\n",
       "      <td>0.0</td>\n",
       "      <td>0.0</td>\n",
       "      <td>0.0</td>\n",
       "      <td>0.0</td>\n",
       "      <td>0.0</td>\n",
       "    </tr>\n",
       "  </tbody>\n",
       "</table>\n",
       "<p>5 rows × 122 columns</p>\n",
       "</div>"
      ],
      "text/plain": [
       "   SK_ID_CURR  TARGET NAME_CONTRACT_TYPE CODE_GENDER FLAG_OWN_CAR  \\\n",
       "0      100002       1         Cash loans           M            N   \n",
       "1      100003       0         Cash loans           F            N   \n",
       "2      100004       0    Revolving loans           M            Y   \n",
       "3      100006       0         Cash loans           F            N   \n",
       "4      100007       0         Cash loans           M            N   \n",
       "\n",
       "  FLAG_OWN_REALTY  CNT_CHILDREN  AMT_INCOME_TOTAL  AMT_CREDIT  AMT_ANNUITY  \\\n",
       "0               Y             0          202500.0    406597.5      24700.5   \n",
       "1               N             0          270000.0   1293502.5      35698.5   \n",
       "2               Y             0           67500.0    135000.0       6750.0   \n",
       "3               Y             0          135000.0    312682.5      29686.5   \n",
       "4               Y             0          121500.0    513000.0      21865.5   \n",
       "\n",
       "   ...  FLAG_DOCUMENT_18 FLAG_DOCUMENT_19 FLAG_DOCUMENT_20 FLAG_DOCUMENT_21  \\\n",
       "0  ...                 0                0                0                0   \n",
       "1  ...                 0                0                0                0   \n",
       "2  ...                 0                0                0                0   \n",
       "3  ...                 0                0                0                0   \n",
       "4  ...                 0                0                0                0   \n",
       "\n",
       "  AMT_REQ_CREDIT_BUREAU_HOUR AMT_REQ_CREDIT_BUREAU_DAY  \\\n",
       "0                        0.0                       0.0   \n",
       "1                        0.0                       0.0   \n",
       "2                        0.0                       0.0   \n",
       "3                        NaN                       NaN   \n",
       "4                        0.0                       0.0   \n",
       "\n",
       "   AMT_REQ_CREDIT_BUREAU_WEEK  AMT_REQ_CREDIT_BUREAU_MON  \\\n",
       "0                         0.0                        0.0   \n",
       "1                         0.0                        0.0   \n",
       "2                         0.0                        0.0   \n",
       "3                         NaN                        NaN   \n",
       "4                         0.0                        0.0   \n",
       "\n",
       "   AMT_REQ_CREDIT_BUREAU_QRT  AMT_REQ_CREDIT_BUREAU_YEAR  \n",
       "0                        0.0                         1.0  \n",
       "1                        0.0                         0.0  \n",
       "2                        0.0                         0.0  \n",
       "3                        NaN                         NaN  \n",
       "4                        0.0                         0.0  \n",
       "\n",
       "[5 rows x 122 columns]"
      ]
     },
     "execution_count": 5,
     "metadata": {},
     "output_type": "execute_result"
    }
   ],
   "source": [
    "train.head()"
   ]
  },
  {
   "cell_type": "code",
   "execution_count": 6,
   "id": "usLK1futlO9O",
   "metadata": {
    "colab": {
     "base_uri": "https://localhost:8080/",
     "height": 307
    },
    "id": "usLK1futlO9O",
    "outputId": "b2f93726-7cd8-441a-bee7-105bf400cc69",
    "pycharm": {
     "name": "#%%\n"
    }
   },
   "outputs": [
    {
     "data": {
      "text/html": [
       "<div>\n",
       "<style scoped>\n",
       "    .dataframe tbody tr th:only-of-type {\n",
       "        vertical-align: middle;\n",
       "    }\n",
       "\n",
       "    .dataframe tbody tr th {\n",
       "        vertical-align: top;\n",
       "    }\n",
       "\n",
       "    .dataframe thead th {\n",
       "        text-align: right;\n",
       "    }\n",
       "</style>\n",
       "<table border=\"1\" class=\"dataframe\">\n",
       "  <thead>\n",
       "    <tr style=\"text-align: right;\">\n",
       "      <th></th>\n",
       "      <th>SK_ID_CURR</th>\n",
       "      <th>NAME_CONTRACT_TYPE</th>\n",
       "      <th>CODE_GENDER</th>\n",
       "      <th>FLAG_OWN_CAR</th>\n",
       "      <th>FLAG_OWN_REALTY</th>\n",
       "      <th>CNT_CHILDREN</th>\n",
       "      <th>AMT_INCOME_TOTAL</th>\n",
       "      <th>AMT_CREDIT</th>\n",
       "      <th>AMT_ANNUITY</th>\n",
       "      <th>AMT_GOODS_PRICE</th>\n",
       "      <th>...</th>\n",
       "      <th>FLAG_DOCUMENT_18</th>\n",
       "      <th>FLAG_DOCUMENT_19</th>\n",
       "      <th>FLAG_DOCUMENT_20</th>\n",
       "      <th>FLAG_DOCUMENT_21</th>\n",
       "      <th>AMT_REQ_CREDIT_BUREAU_HOUR</th>\n",
       "      <th>AMT_REQ_CREDIT_BUREAU_DAY</th>\n",
       "      <th>AMT_REQ_CREDIT_BUREAU_WEEK</th>\n",
       "      <th>AMT_REQ_CREDIT_BUREAU_MON</th>\n",
       "      <th>AMT_REQ_CREDIT_BUREAU_QRT</th>\n",
       "      <th>AMT_REQ_CREDIT_BUREAU_YEAR</th>\n",
       "    </tr>\n",
       "  </thead>\n",
       "  <tbody>\n",
       "    <tr>\n",
       "      <th>0</th>\n",
       "      <td>100001</td>\n",
       "      <td>Cash loans</td>\n",
       "      <td>F</td>\n",
       "      <td>N</td>\n",
       "      <td>Y</td>\n",
       "      <td>0</td>\n",
       "      <td>135000.0</td>\n",
       "      <td>568800.0</td>\n",
       "      <td>20560.5</td>\n",
       "      <td>450000.0</td>\n",
       "      <td>...</td>\n",
       "      <td>0</td>\n",
       "      <td>0</td>\n",
       "      <td>0</td>\n",
       "      <td>0</td>\n",
       "      <td>0.0</td>\n",
       "      <td>0.0</td>\n",
       "      <td>0.0</td>\n",
       "      <td>0.0</td>\n",
       "      <td>0.0</td>\n",
       "      <td>0.0</td>\n",
       "    </tr>\n",
       "    <tr>\n",
       "      <th>1</th>\n",
       "      <td>100005</td>\n",
       "      <td>Cash loans</td>\n",
       "      <td>M</td>\n",
       "      <td>N</td>\n",
       "      <td>Y</td>\n",
       "      <td>0</td>\n",
       "      <td>99000.0</td>\n",
       "      <td>222768.0</td>\n",
       "      <td>17370.0</td>\n",
       "      <td>180000.0</td>\n",
       "      <td>...</td>\n",
       "      <td>0</td>\n",
       "      <td>0</td>\n",
       "      <td>0</td>\n",
       "      <td>0</td>\n",
       "      <td>0.0</td>\n",
       "      <td>0.0</td>\n",
       "      <td>0.0</td>\n",
       "      <td>0.0</td>\n",
       "      <td>0.0</td>\n",
       "      <td>3.0</td>\n",
       "    </tr>\n",
       "    <tr>\n",
       "      <th>2</th>\n",
       "      <td>100013</td>\n",
       "      <td>Cash loans</td>\n",
       "      <td>M</td>\n",
       "      <td>Y</td>\n",
       "      <td>Y</td>\n",
       "      <td>0</td>\n",
       "      <td>202500.0</td>\n",
       "      <td>663264.0</td>\n",
       "      <td>69777.0</td>\n",
       "      <td>630000.0</td>\n",
       "      <td>...</td>\n",
       "      <td>0</td>\n",
       "      <td>0</td>\n",
       "      <td>0</td>\n",
       "      <td>0</td>\n",
       "      <td>0.0</td>\n",
       "      <td>0.0</td>\n",
       "      <td>0.0</td>\n",
       "      <td>0.0</td>\n",
       "      <td>1.0</td>\n",
       "      <td>4.0</td>\n",
       "    </tr>\n",
       "    <tr>\n",
       "      <th>3</th>\n",
       "      <td>100028</td>\n",
       "      <td>Cash loans</td>\n",
       "      <td>F</td>\n",
       "      <td>N</td>\n",
       "      <td>Y</td>\n",
       "      <td>2</td>\n",
       "      <td>315000.0</td>\n",
       "      <td>1575000.0</td>\n",
       "      <td>49018.5</td>\n",
       "      <td>1575000.0</td>\n",
       "      <td>...</td>\n",
       "      <td>0</td>\n",
       "      <td>0</td>\n",
       "      <td>0</td>\n",
       "      <td>0</td>\n",
       "      <td>0.0</td>\n",
       "      <td>0.0</td>\n",
       "      <td>0.0</td>\n",
       "      <td>0.0</td>\n",
       "      <td>0.0</td>\n",
       "      <td>3.0</td>\n",
       "    </tr>\n",
       "    <tr>\n",
       "      <th>4</th>\n",
       "      <td>100038</td>\n",
       "      <td>Cash loans</td>\n",
       "      <td>M</td>\n",
       "      <td>Y</td>\n",
       "      <td>N</td>\n",
       "      <td>1</td>\n",
       "      <td>180000.0</td>\n",
       "      <td>625500.0</td>\n",
       "      <td>32067.0</td>\n",
       "      <td>625500.0</td>\n",
       "      <td>...</td>\n",
       "      <td>0</td>\n",
       "      <td>0</td>\n",
       "      <td>0</td>\n",
       "      <td>0</td>\n",
       "      <td>NaN</td>\n",
       "      <td>NaN</td>\n",
       "      <td>NaN</td>\n",
       "      <td>NaN</td>\n",
       "      <td>NaN</td>\n",
       "      <td>NaN</td>\n",
       "    </tr>\n",
       "  </tbody>\n",
       "</table>\n",
       "<p>5 rows × 121 columns</p>\n",
       "</div>"
      ],
      "text/plain": [
       "   SK_ID_CURR NAME_CONTRACT_TYPE CODE_GENDER FLAG_OWN_CAR FLAG_OWN_REALTY  \\\n",
       "0      100001         Cash loans           F            N               Y   \n",
       "1      100005         Cash loans           M            N               Y   \n",
       "2      100013         Cash loans           M            Y               Y   \n",
       "3      100028         Cash loans           F            N               Y   \n",
       "4      100038         Cash loans           M            Y               N   \n",
       "\n",
       "   CNT_CHILDREN  AMT_INCOME_TOTAL  AMT_CREDIT  AMT_ANNUITY  AMT_GOODS_PRICE  \\\n",
       "0             0          135000.0    568800.0      20560.5         450000.0   \n",
       "1             0           99000.0    222768.0      17370.0         180000.0   \n",
       "2             0          202500.0    663264.0      69777.0         630000.0   \n",
       "3             2          315000.0   1575000.0      49018.5        1575000.0   \n",
       "4             1          180000.0    625500.0      32067.0         625500.0   \n",
       "\n",
       "   ... FLAG_DOCUMENT_18 FLAG_DOCUMENT_19 FLAG_DOCUMENT_20 FLAG_DOCUMENT_21  \\\n",
       "0  ...                0                0                0                0   \n",
       "1  ...                0                0                0                0   \n",
       "2  ...                0                0                0                0   \n",
       "3  ...                0                0                0                0   \n",
       "4  ...                0                0                0                0   \n",
       "\n",
       "  AMT_REQ_CREDIT_BUREAU_HOUR  AMT_REQ_CREDIT_BUREAU_DAY  \\\n",
       "0                        0.0                        0.0   \n",
       "1                        0.0                        0.0   \n",
       "2                        0.0                        0.0   \n",
       "3                        0.0                        0.0   \n",
       "4                        NaN                        NaN   \n",
       "\n",
       "   AMT_REQ_CREDIT_BUREAU_WEEK  AMT_REQ_CREDIT_BUREAU_MON  \\\n",
       "0                         0.0                        0.0   \n",
       "1                         0.0                        0.0   \n",
       "2                         0.0                        0.0   \n",
       "3                         0.0                        0.0   \n",
       "4                         NaN                        NaN   \n",
       "\n",
       "   AMT_REQ_CREDIT_BUREAU_QRT  AMT_REQ_CREDIT_BUREAU_YEAR  \n",
       "0                        0.0                         0.0  \n",
       "1                        0.0                         3.0  \n",
       "2                        1.0                         4.0  \n",
       "3                        0.0                         3.0  \n",
       "4                        NaN                         NaN  \n",
       "\n",
       "[5 rows x 121 columns]"
      ]
     },
     "execution_count": 6,
     "metadata": {},
     "output_type": "execute_result"
    }
   ],
   "source": [
    "test.head()"
   ]
  },
  {
   "cell_type": "markdown",
   "id": "0Oec65GiJ3Tp",
   "metadata": {
    "id": "0Oec65GiJ3Tp"
   },
   "source": [
    "### Moving target to last column in train dataset"
   ]
  },
  {
   "cell_type": "code",
   "execution_count": 7,
   "id": "Gn1N4tAZJ6xn",
   "metadata": {
    "id": "Gn1N4tAZJ6xn"
   },
   "outputs": [],
   "source": [
    "def position_target_column(train):\n",
    "  \"\"\"Return train dataframe with target as last column.\n",
    "\n",
    "  Keyword arguments:\n",
    "  train -- the train dataframe\n",
    "  \"\"\"\n",
    "  target_col = train.pop('TARGET')\n",
    "  train['TARGET'] = target_col\n",
    "  return train"
   ]
  },
  {
   "cell_type": "code",
   "execution_count": 8,
   "id": "pIjMAwXPlO9S",
   "metadata": {
    "id": "pIjMAwXPlO9S",
    "pycharm": {
     "name": "#%%\n"
    }
   },
   "outputs": [],
   "source": [
    "train = position_target_column(train)"
   ]
  },
  {
   "cell_type": "markdown",
   "id": "zPF5c_yEHrGg",
   "metadata": {
    "id": "zPF5c_yEHrGg"
   },
   "source": [
    "### Dropping unused ID column"
   ]
  },
  {
   "cell_type": "code",
   "execution_count": 9,
   "id": "tSqMlcE7Hu75",
   "metadata": {
    "id": "tSqMlcE7Hu75"
   },
   "outputs": [],
   "source": [
    "def drop_id_column(train, test):\n",
    "  \"\"\"Return a tuple containing train and test dataframes without id column.\n",
    "\n",
    "  Keyword arguments:\n",
    "  train -- the train dataframe\n",
    "  test -- the test dataframe\n",
    "  \"\"\"\n",
    "  train = train.drop(['SK_ID_CURR'], axis=1)\n",
    "  test = test.drop(['SK_ID_CURR'], axis=1)\n",
    "  return train, test"
   ]
  },
  {
   "cell_type": "code",
   "execution_count": 10,
   "id": "PCstNEHWlO9V",
   "metadata": {
    "id": "PCstNEHWlO9V",
    "pycharm": {
     "name": "#%%\n"
    }
   },
   "outputs": [],
   "source": [
    "(train, test) = drop_id_column(train, test)"
   ]
  },
  {
   "cell_type": "markdown",
   "id": "x3iz2_FRjk4u",
   "metadata": {
    "id": "x3iz2_FRjk4u"
   },
   "source": [
    "### Organizing test set columns based on train set column order"
   ]
  },
  {
   "cell_type": "code",
   "execution_count": 11,
   "id": "oWUncy_bjzSu",
   "metadata": {
    "id": "oWUncy_bjzSu"
   },
   "outputs": [],
   "source": [
    "def reorder_test_columns(train, test):\n",
    "  \"\"\"Return test dataframe with columns organized following train dataframe columns order.\n",
    "\n",
    "  Keyword arguments:\n",
    "  train -- the train dataframe\n",
    "  test -- the test dataframe\n",
    "  \"\"\"\n",
    "  test = test[train.drop(['TARGET'], axis=1).columns]\n",
    "  return test"
   ]
  },
  {
   "cell_type": "code",
   "execution_count": 12,
   "id": "Hj5lIFgjlO9Y",
   "metadata": {
    "id": "Hj5lIFgjlO9Y",
    "pycharm": {
     "name": "#%%\n"
    }
   },
   "outputs": [],
   "source": [
    "test = reorder_test_columns(train, test)"
   ]
  },
  {
   "cell_type": "markdown",
   "id": "RUGqhOrkF7VX",
   "metadata": {
    "id": "RUGqhOrkF7VX"
   },
   "source": [
    "## Taking care of missing data"
   ]
  },
  {
   "cell_type": "code",
   "execution_count": 13,
   "id": "m7aKDXPjF-C3",
   "metadata": {
    "id": "m7aKDXPjF-C3"
   },
   "outputs": [],
   "source": [
    "def impute_train_missing_data(train):\n",
    "  \"\"\"\n",
    "  Return tuple containing train dataframe with median imputed in place of missing numerical values \n",
    "  and a Series with its numerical columns.\n",
    "\n",
    "  Keyword arguments:\n",
    "  train -- the train dataframe\n",
    "  \"\"\"\n",
    "  imputer = SimpleImputer(missing_values=np.nan, strategy='median')\n",
    "  x_dtypes_train = train.dtypes[:-1]\n",
    "  num_cols_train = x_dtypes_train == np.number\n",
    "  X_train = train.iloc[:, :-1].values\n",
    "  imputer.fit(X_train[:, num_cols_train])\n",
    "  X_train[:, num_cols_train] = imputer.transform(X_train[:, num_cols_train])\n",
    "  train.iloc[:, :-1] = X_train\n",
    "  return train, num_cols_train"
   ]
  },
  {
   "cell_type": "code",
   "execution_count": 14,
   "id": "3Ysf06-plO9b",
   "metadata": {
    "id": "3Ysf06-plO9b",
    "pycharm": {
     "name": "#%%\n"
    }
   },
   "outputs": [],
   "source": [
    "(train, num_cols_train) = impute_train_missing_data(train)"
   ]
  },
  {
   "cell_type": "code",
   "execution_count": 15,
   "id": "bgQxbY5Mjef1",
   "metadata": {
    "id": "bgQxbY5Mjef1"
   },
   "outputs": [],
   "source": [
    "def impute_test_missing_data(test):\n",
    "  \"\"\"\n",
    "  Return tuple containing test dataframe with median imputed in place of missing numerical values \n",
    "  and a Series with its numerical columns.\n",
    "\n",
    "    Keyword arguments:\n",
    "    test -- the test dataframe\n",
    "    \"\"\"\n",
    "  imputer = SimpleImputer(missing_values=np.nan, strategy='median')\n",
    "  x_dtypes_test = test.dtypes\n",
    "  num_cols_test = x_dtypes_test == np.number\n",
    "  X_test = test.iloc[:, :].values\n",
    "  imputer.fit(X_test[:, num_cols_test])\n",
    "  X_test[:, num_cols_test] = imputer.transform(X_test[:, num_cols_test])\n",
    "  test.iloc[:, :] = X_test\n",
    "  return test, num_cols_test"
   ]
  },
  {
   "cell_type": "code",
   "execution_count": 16,
   "id": "aZaXY5FOlO9d",
   "metadata": {
    "id": "aZaXY5FOlO9d",
    "pycharm": {
     "name": "#%%\n"
    }
   },
   "outputs": [],
   "source": [
    "(test, num_cols_test) = impute_test_missing_data(test)"
   ]
  },
  {
   "cell_type": "markdown",
   "id": "hAvaeTqpRlxf",
   "metadata": {
    "id": "hAvaeTqpRlxf"
   },
   "source": [
    "### Getting text features Na rows percentage"
   ]
  },
  {
   "cell_type": "code",
   "execution_count": 17,
   "id": "9LuAtXAyO4sQ",
   "metadata": {
    "id": "9LuAtXAyO4sQ"
   },
   "outputs": [],
   "source": [
    "def get_train_na_percentages(train):\n",
    "  \"\"\"\n",
    "  Return a Series with the percentage of Na values per columns in train dataframe.\n",
    "  Must be called just after impute_train_missing_data().\n",
    "\n",
    "  Keyword arguments:\n",
    "  train -- the train dataframe\n",
    "  \"\"\"\n",
    "  na_cols_pctg_train = train[train.columns[train.isna().sum() > 0]].isna().sum() / train.shape[0]\n",
    "  return na_cols_pctg_train"
   ]
  },
  {
   "cell_type": "code",
   "execution_count": 18,
   "id": "EzTus2yrlO9g",
   "metadata": {
    "colab": {
     "base_uri": "https://localhost:8080/"
    },
    "id": "EzTus2yrlO9g",
    "outputId": "6bfa19de-3b0d-4bad-b995-d8320914b6a9",
    "pycharm": {
     "name": "#%%\n"
    }
   },
   "outputs": [
    {
     "data": {
      "text/plain": [
       "NAME_TYPE_SUITE        0.004201\n",
       "OCCUPATION_TYPE        0.313455\n",
       "FONDKAPREMONT_MODE     0.683862\n",
       "HOUSETYPE_MODE         0.501761\n",
       "WALLSMATERIAL_MODE     0.508408\n",
       "EMERGENCYSTATE_MODE    0.473983\n",
       "dtype: float64"
      ]
     },
     "execution_count": 18,
     "metadata": {},
     "output_type": "execute_result"
    }
   ],
   "source": [
    "na_cols_pctg_train = get_train_na_percentages(train)\n",
    "na_cols_pctg_train"
   ]
  },
  {
   "cell_type": "markdown",
   "id": "wFdGMgFhRt8R",
   "metadata": {
    "id": "wFdGMgFhRt8R"
   },
   "source": [
    "### Dropping text features Na rows"
   ]
  },
  {
   "cell_type": "code",
   "execution_count": 19,
   "id": "nxIcZ8luRwAC",
   "metadata": {
    "id": "nxIcZ8luRwAC"
   },
   "outputs": [],
   "source": [
    "def drop_textual_feat_na_rows(train, test):\n",
    "  \"\"\"Return a tuple containing train and test dataframes without textual features Na rows.\n",
    "\n",
    "  Keyword arguments:\n",
    "  train -- the train dataframe\n",
    "  test -- the test dataframe\n",
    "  \"\"\"\n",
    "  train = train.dropna(axis=0)\n",
    "  test = test.dropna(axis=0)\n",
    "  return train, test"
   ]
  },
  {
   "cell_type": "code",
   "execution_count": 20,
   "id": "okQtA_p9lO9i",
   "metadata": {
    "id": "okQtA_p9lO9i",
    "pycharm": {
     "name": "#%%\n"
    }
   },
   "outputs": [],
   "source": [
    "(train, test) = drop_textual_feat_na_rows(train, test)"
   ]
  },
  {
   "cell_type": "markdown",
   "id": "x_yhicg4hlkl",
   "metadata": {
    "id": "x_yhicg4hlkl"
   },
   "source": [
    "## Feature scaling"
   ]
  },
  {
   "cell_type": "code",
   "execution_count": 21,
   "id": "Mym1cklwhoAT",
   "metadata": {
    "id": "Mym1cklwhoAT"
   },
   "outputs": [],
   "source": [
    "def standardize_train(train, num_cols_train):\n",
    "  \"\"\"Return the train dataframe with standardized numerical features (not the encoded textual dimensions).\n",
    "\n",
    "  Keyword arguments:\n",
    "  train -- the train dataframe\n",
    "  \"\"\"\n",
    "  sc = StandardScaler()\n",
    "  X_train = train.iloc[:, :-1].values\n",
    "  X_train[:, num_cols_train] = sc.fit_transform(X_train[:, num_cols_train])\n",
    "  train.iloc[:, :-1] = X_train\n",
    "  return train"
   ]
  },
  {
   "cell_type": "code",
   "execution_count": 22,
   "id": "GwUF45mSlO9x",
   "metadata": {
    "id": "GwUF45mSlO9x",
    "pycharm": {
     "name": "#%%\n"
    }
   },
   "outputs": [],
   "source": [
    "train = standardize_train(train, num_cols_train)"
   ]
  },
  {
   "cell_type": "code",
   "execution_count": 23,
   "id": "lLoMGwhnlvD5",
   "metadata": {
    "id": "lLoMGwhnlvD5"
   },
   "outputs": [],
   "source": [
    "def standardize_test(test, num_cols_test):\n",
    "  \"\"\"Return the test dataframe with standardized numerical features (not the encoded textual dimensions).\n",
    "\n",
    "  Keyword arguments:\n",
    "  test -- the test dataframe\n",
    "  \"\"\"\n",
    "  sc = StandardScaler() # standardization implies values between approximately -3 and 3\n",
    "  X_test = test.iloc[:, :].values\n",
    "  X_test[:, num_cols_test] = sc.fit_transform(X_test[:, num_cols_test]) # we don't standardize encoded textual dimensions.\n",
    "  test.iloc[:, :] = X_test\n",
    "  return test"
   ]
  },
  {
   "cell_type": "code",
   "execution_count": 24,
   "id": "tEE51rNClO9z",
   "metadata": {
    "id": "tEE51rNClO9z",
    "pycharm": {
     "name": "#%%\n"
    }
   },
   "outputs": [],
   "source": [
    "test = standardize_test(test, num_cols_test)"
   ]
  },
  {
   "cell_type": "markdown",
   "id": "w9hpg1ZXAxEn",
   "metadata": {
    "id": "w9hpg1ZXAxEn"
   },
   "source": [
    "## Encoding categorical data"
   ]
  },
  {
   "cell_type": "code",
   "execution_count": 25,
   "id": "AyqLnXjl3oQ9",
   "metadata": {
    "colab": {
     "base_uri": "https://localhost:8080/",
     "height": 325
    },
    "id": "AyqLnXjl3oQ9",
    "outputId": "d101190f-beb1-4cc4-d789-20ebe66946af"
   },
   "outputs": [
    {
     "data": {
      "text/html": [
       "<div>\n",
       "<style scoped>\n",
       "    .dataframe tbody tr th:only-of-type {\n",
       "        vertical-align: middle;\n",
       "    }\n",
       "\n",
       "    .dataframe tbody tr th {\n",
       "        vertical-align: top;\n",
       "    }\n",
       "\n",
       "    .dataframe thead th {\n",
       "        text-align: right;\n",
       "    }\n",
       "</style>\n",
       "<table border=\"1\" class=\"dataframe\">\n",
       "  <thead>\n",
       "    <tr style=\"text-align: right;\">\n",
       "      <th></th>\n",
       "      <th>NAME_CONTRACT_TYPE</th>\n",
       "      <th>CODE_GENDER</th>\n",
       "      <th>FLAG_OWN_CAR</th>\n",
       "      <th>FLAG_OWN_REALTY</th>\n",
       "      <th>CNT_CHILDREN</th>\n",
       "      <th>AMT_INCOME_TOTAL</th>\n",
       "      <th>AMT_CREDIT</th>\n",
       "      <th>AMT_ANNUITY</th>\n",
       "      <th>AMT_GOODS_PRICE</th>\n",
       "      <th>NAME_TYPE_SUITE</th>\n",
       "      <th>...</th>\n",
       "      <th>FLAG_DOCUMENT_19</th>\n",
       "      <th>FLAG_DOCUMENT_20</th>\n",
       "      <th>FLAG_DOCUMENT_21</th>\n",
       "      <th>AMT_REQ_CREDIT_BUREAU_HOUR</th>\n",
       "      <th>AMT_REQ_CREDIT_BUREAU_DAY</th>\n",
       "      <th>AMT_REQ_CREDIT_BUREAU_WEEK</th>\n",
       "      <th>AMT_REQ_CREDIT_BUREAU_MON</th>\n",
       "      <th>AMT_REQ_CREDIT_BUREAU_QRT</th>\n",
       "      <th>AMT_REQ_CREDIT_BUREAU_YEAR</th>\n",
       "      <th>TARGET</th>\n",
       "    </tr>\n",
       "  </thead>\n",
       "  <tbody>\n",
       "    <tr>\n",
       "      <th>0</th>\n",
       "      <td>Cash loans</td>\n",
       "      <td>M</td>\n",
       "      <td>N</td>\n",
       "      <td>Y</td>\n",
       "      <td>0</td>\n",
       "      <td>0.112486</td>\n",
       "      <td>-0.545235</td>\n",
       "      <td>-0.275900</td>\n",
       "      <td>-0.569221</td>\n",
       "      <td>Unaccompanied</td>\n",
       "      <td>...</td>\n",
       "      <td>0</td>\n",
       "      <td>0</td>\n",
       "      <td>0</td>\n",
       "      <td>-0.073559</td>\n",
       "      <td>-0.059606</td>\n",
       "      <td>-0.160059</td>\n",
       "      <td>-0.290937</td>\n",
       "      <td>-0.396781</td>\n",
       "      <td>-0.425172</td>\n",
       "      <td>1</td>\n",
       "    </tr>\n",
       "    <tr>\n",
       "      <th>1</th>\n",
       "      <td>Cash loans</td>\n",
       "      <td>F</td>\n",
       "      <td>N</td>\n",
       "      <td>N</td>\n",
       "      <td>0</td>\n",
       "      <td>0.704502</td>\n",
       "      <td>1.526865</td>\n",
       "      <td>0.434724</td>\n",
       "      <td>1.412794</td>\n",
       "      <td>Family</td>\n",
       "      <td>...</td>\n",
       "      <td>0</td>\n",
       "      <td>0</td>\n",
       "      <td>0</td>\n",
       "      <td>-0.073559</td>\n",
       "      <td>-0.059606</td>\n",
       "      <td>-0.160059</td>\n",
       "      <td>-0.290937</td>\n",
       "      <td>-0.396781</td>\n",
       "      <td>-1.004679</td>\n",
       "      <td>0</td>\n",
       "    </tr>\n",
       "    <tr>\n",
       "      <th>13</th>\n",
       "      <td>Cash loans</td>\n",
       "      <td>M</td>\n",
       "      <td>Y</td>\n",
       "      <td>N</td>\n",
       "      <td>1</td>\n",
       "      <td>0.309825</td>\n",
       "      <td>0.650662</td>\n",
       "      <td>-0.000257</td>\n",
       "      <td>0.312947</td>\n",
       "      <td>Unaccompanied</td>\n",
       "      <td>...</td>\n",
       "      <td>0</td>\n",
       "      <td>0</td>\n",
       "      <td>0</td>\n",
       "      <td>-0.073559</td>\n",
       "      <td>-0.059606</td>\n",
       "      <td>-0.160059</td>\n",
       "      <td>-0.290937</td>\n",
       "      <td>-0.396781</td>\n",
       "      <td>-0.425172</td>\n",
       "      <td>0</td>\n",
       "    </tr>\n",
       "    <tr>\n",
       "      <th>14</th>\n",
       "      <td>Cash loans</td>\n",
       "      <td>F</td>\n",
       "      <td>N</td>\n",
       "      <td>Y</td>\n",
       "      <td>0</td>\n",
       "      <td>-0.005917</td>\n",
       "      <td>0.312391</td>\n",
       "      <td>0.246019</td>\n",
       "      <td>0.267120</td>\n",
       "      <td>Unaccompanied</td>\n",
       "      <td>...</td>\n",
       "      <td>0</td>\n",
       "      <td>0</td>\n",
       "      <td>0</td>\n",
       "      <td>-0.073559</td>\n",
       "      <td>-0.059606</td>\n",
       "      <td>-0.160059</td>\n",
       "      <td>-0.290937</td>\n",
       "      <td>-0.396781</td>\n",
       "      <td>-0.425172</td>\n",
       "      <td>0</td>\n",
       "    </tr>\n",
       "    <tr>\n",
       "      <th>18</th>\n",
       "      <td>Revolving loans</td>\n",
       "      <td>F</td>\n",
       "      <td>N</td>\n",
       "      <td>Y</td>\n",
       "      <td>0</td>\n",
       "      <td>-0.676868</td>\n",
       "      <td>-1.127208</td>\n",
       "      <td>-1.363063</td>\n",
       "      <td>-1.061861</td>\n",
       "      <td>Other_A</td>\n",
       "      <td>...</td>\n",
       "      <td>0</td>\n",
       "      <td>0</td>\n",
       "      <td>0</td>\n",
       "      <td>-0.073559</td>\n",
       "      <td>-0.059606</td>\n",
       "      <td>-0.160059</td>\n",
       "      <td>-0.290937</td>\n",
       "      <td>-0.396781</td>\n",
       "      <td>-1.004679</td>\n",
       "      <td>0</td>\n",
       "    </tr>\n",
       "  </tbody>\n",
       "</table>\n",
       "<p>5 rows × 121 columns</p>\n",
       "</div>"
      ],
      "text/plain": [
       "   NAME_CONTRACT_TYPE CODE_GENDER FLAG_OWN_CAR FLAG_OWN_REALTY  CNT_CHILDREN  \\\n",
       "0          Cash loans           M            N               Y             0   \n",
       "1          Cash loans           F            N               N             0   \n",
       "13         Cash loans           M            Y               N             1   \n",
       "14         Cash loans           F            N               Y             0   \n",
       "18    Revolving loans           F            N               Y             0   \n",
       "\n",
       "    AMT_INCOME_TOTAL  AMT_CREDIT  AMT_ANNUITY  AMT_GOODS_PRICE  \\\n",
       "0           0.112486   -0.545235    -0.275900        -0.569221   \n",
       "1           0.704502    1.526865     0.434724         1.412794   \n",
       "13          0.309825    0.650662    -0.000257         0.312947   \n",
       "14         -0.005917    0.312391     0.246019         0.267120   \n",
       "18         -0.676868   -1.127208    -1.363063        -1.061861   \n",
       "\n",
       "   NAME_TYPE_SUITE  ... FLAG_DOCUMENT_19 FLAG_DOCUMENT_20 FLAG_DOCUMENT_21  \\\n",
       "0    Unaccompanied  ...                0                0                0   \n",
       "1           Family  ...                0                0                0   \n",
       "13   Unaccompanied  ...                0                0                0   \n",
       "14   Unaccompanied  ...                0                0                0   \n",
       "18         Other_A  ...                0                0                0   \n",
       "\n",
       "   AMT_REQ_CREDIT_BUREAU_HOUR  AMT_REQ_CREDIT_BUREAU_DAY  \\\n",
       "0                   -0.073559                  -0.059606   \n",
       "1                   -0.073559                  -0.059606   \n",
       "13                  -0.073559                  -0.059606   \n",
       "14                  -0.073559                  -0.059606   \n",
       "18                  -0.073559                  -0.059606   \n",
       "\n",
       "    AMT_REQ_CREDIT_BUREAU_WEEK  AMT_REQ_CREDIT_BUREAU_MON  \\\n",
       "0                    -0.160059                  -0.290937   \n",
       "1                    -0.160059                  -0.290937   \n",
       "13                   -0.160059                  -0.290937   \n",
       "14                   -0.160059                  -0.290937   \n",
       "18                   -0.160059                  -0.290937   \n",
       "\n",
       "    AMT_REQ_CREDIT_BUREAU_QRT  AMT_REQ_CREDIT_BUREAU_YEAR  TARGET  \n",
       "0                   -0.396781                   -0.425172       1  \n",
       "1                   -0.396781                   -1.004679       0  \n",
       "13                  -0.396781                   -0.425172       0  \n",
       "14                  -0.396781                   -0.425172       0  \n",
       "18                  -0.396781                   -1.004679       0  \n",
       "\n",
       "[5 rows x 121 columns]"
      ]
     },
     "execution_count": 25,
     "metadata": {},
     "output_type": "execute_result"
    }
   ],
   "source": [
    "train.head()"
   ]
  },
  {
   "cell_type": "code",
   "execution_count": 26,
   "id": "MPe4si5X3pjd",
   "metadata": {
    "colab": {
     "base_uri": "https://localhost:8080/",
     "height": 342
    },
    "id": "MPe4si5X3pjd",
    "outputId": "b8e77f0d-524c-4cd3-d1e9-f0a7d2bb3605"
   },
   "outputs": [
    {
     "data": {
      "text/html": [
       "<div>\n",
       "<style scoped>\n",
       "    .dataframe tbody tr th:only-of-type {\n",
       "        vertical-align: middle;\n",
       "    }\n",
       "\n",
       "    .dataframe tbody tr th {\n",
       "        vertical-align: top;\n",
       "    }\n",
       "\n",
       "    .dataframe thead th {\n",
       "        text-align: right;\n",
       "    }\n",
       "</style>\n",
       "<table border=\"1\" class=\"dataframe\">\n",
       "  <thead>\n",
       "    <tr style=\"text-align: right;\">\n",
       "      <th></th>\n",
       "      <th>NAME_CONTRACT_TYPE</th>\n",
       "      <th>CODE_GENDER</th>\n",
       "      <th>FLAG_OWN_CAR</th>\n",
       "      <th>FLAG_OWN_REALTY</th>\n",
       "      <th>CNT_CHILDREN</th>\n",
       "      <th>AMT_INCOME_TOTAL</th>\n",
       "      <th>AMT_CREDIT</th>\n",
       "      <th>AMT_ANNUITY</th>\n",
       "      <th>AMT_GOODS_PRICE</th>\n",
       "      <th>NAME_TYPE_SUITE</th>\n",
       "      <th>...</th>\n",
       "      <th>FLAG_DOCUMENT_18</th>\n",
       "      <th>FLAG_DOCUMENT_19</th>\n",
       "      <th>FLAG_DOCUMENT_20</th>\n",
       "      <th>FLAG_DOCUMENT_21</th>\n",
       "      <th>AMT_REQ_CREDIT_BUREAU_HOUR</th>\n",
       "      <th>AMT_REQ_CREDIT_BUREAU_DAY</th>\n",
       "      <th>AMT_REQ_CREDIT_BUREAU_WEEK</th>\n",
       "      <th>AMT_REQ_CREDIT_BUREAU_MON</th>\n",
       "      <th>AMT_REQ_CREDIT_BUREAU_QRT</th>\n",
       "      <th>AMT_REQ_CREDIT_BUREAU_YEAR</th>\n",
       "    </tr>\n",
       "  </thead>\n",
       "  <tbody>\n",
       "    <tr>\n",
       "      <th>3</th>\n",
       "      <td>Cash loans</td>\n",
       "      <td>F</td>\n",
       "      <td>N</td>\n",
       "      <td>Y</td>\n",
       "      <td>2</td>\n",
       "      <td>1.059309</td>\n",
       "      <td>2.562260</td>\n",
       "      <td>1.028660</td>\n",
       "      <td>2.935280</td>\n",
       "      <td>Unaccompanied</td>\n",
       "      <td>...</td>\n",
       "      <td>0</td>\n",
       "      <td>0</td>\n",
       "      <td>0</td>\n",
       "      <td>0</td>\n",
       "      <td>-0.040332</td>\n",
       "      <td>-0.032825</td>\n",
       "      <td>-0.053987</td>\n",
       "      <td>-0.077883</td>\n",
       "      <td>-0.729849</td>\n",
       "      <td>0.649564</td>\n",
       "    </tr>\n",
       "    <tr>\n",
       "      <th>5</th>\n",
       "      <td>Cash loans</td>\n",
       "      <td>F</td>\n",
       "      <td>Y</td>\n",
       "      <td>Y</td>\n",
       "      <td>0</td>\n",
       "      <td>0.647693</td>\n",
       "      <td>1.007165</td>\n",
       "      <td>0.177099</td>\n",
       "      <td>0.841447</td>\n",
       "      <td>Unaccompanied</td>\n",
       "      <td>...</td>\n",
       "      <td>0</td>\n",
       "      <td>0</td>\n",
       "      <td>0</td>\n",
       "      <td>0</td>\n",
       "      <td>-0.040332</td>\n",
       "      <td>-0.032825</td>\n",
       "      <td>-0.053987</td>\n",
       "      <td>-0.077883</td>\n",
       "      <td>0.749922</td>\n",
       "      <td>0.052319</td>\n",
       "    </tr>\n",
       "    <tr>\n",
       "      <th>15</th>\n",
       "      <td>Cash loans</td>\n",
       "      <td>M</td>\n",
       "      <td>Y</td>\n",
       "      <td>Y</td>\n",
       "      <td>0</td>\n",
       "      <td>-0.175538</td>\n",
       "      <td>-0.669483</td>\n",
       "      <td>-0.585425</td>\n",
       "      <td>-0.759719</td>\n",
       "      <td>Unaccompanied</td>\n",
       "      <td>...</td>\n",
       "      <td>0</td>\n",
       "      <td>0</td>\n",
       "      <td>0</td>\n",
       "      <td>0</td>\n",
       "      <td>-0.040332</td>\n",
       "      <td>-0.032825</td>\n",
       "      <td>-0.053987</td>\n",
       "      <td>-0.077883</td>\n",
       "      <td>0.749922</td>\n",
       "      <td>0.649564</td>\n",
       "    </tr>\n",
       "    <tr>\n",
       "      <th>18</th>\n",
       "      <td>Cash loans</td>\n",
       "      <td>F</td>\n",
       "      <td>Y</td>\n",
       "      <td>Y</td>\n",
       "      <td>1</td>\n",
       "      <td>0.236077</td>\n",
       "      <td>-0.328294</td>\n",
       "      <td>-0.476987</td>\n",
       "      <td>-0.390220</td>\n",
       "      <td>Unaccompanied</td>\n",
       "      <td>...</td>\n",
       "      <td>0</td>\n",
       "      <td>0</td>\n",
       "      <td>0</td>\n",
       "      <td>0</td>\n",
       "      <td>-0.040332</td>\n",
       "      <td>-0.032825</td>\n",
       "      <td>-0.053987</td>\n",
       "      <td>-0.077883</td>\n",
       "      <td>3.709463</td>\n",
       "      <td>1.246809</td>\n",
       "    </tr>\n",
       "    <tr>\n",
       "      <th>20</th>\n",
       "      <td>Cash loans</td>\n",
       "      <td>F</td>\n",
       "      <td>N</td>\n",
       "      <td>Y</td>\n",
       "      <td>0</td>\n",
       "      <td>-0.916446</td>\n",
       "      <td>-0.849631</td>\n",
       "      <td>-0.730010</td>\n",
       "      <td>-0.759719</td>\n",
       "      <td>Unaccompanied</td>\n",
       "      <td>...</td>\n",
       "      <td>0</td>\n",
       "      <td>0</td>\n",
       "      <td>0</td>\n",
       "      <td>0</td>\n",
       "      <td>-0.040332</td>\n",
       "      <td>-0.032825</td>\n",
       "      <td>-0.053987</td>\n",
       "      <td>-0.077883</td>\n",
       "      <td>0.749922</td>\n",
       "      <td>0.052319</td>\n",
       "    </tr>\n",
       "  </tbody>\n",
       "</table>\n",
       "<p>5 rows × 120 columns</p>\n",
       "</div>"
      ],
      "text/plain": [
       "   NAME_CONTRACT_TYPE CODE_GENDER FLAG_OWN_CAR FLAG_OWN_REALTY  CNT_CHILDREN  \\\n",
       "3          Cash loans           F            N               Y             2   \n",
       "5          Cash loans           F            Y               Y             0   \n",
       "15         Cash loans           M            Y               Y             0   \n",
       "18         Cash loans           F            Y               Y             1   \n",
       "20         Cash loans           F            N               Y             0   \n",
       "\n",
       "    AMT_INCOME_TOTAL  AMT_CREDIT  AMT_ANNUITY  AMT_GOODS_PRICE  \\\n",
       "3           1.059309    2.562260     1.028660         2.935280   \n",
       "5           0.647693    1.007165     0.177099         0.841447   \n",
       "15         -0.175538   -0.669483    -0.585425        -0.759719   \n",
       "18          0.236077   -0.328294    -0.476987        -0.390220   \n",
       "20         -0.916446   -0.849631    -0.730010        -0.759719   \n",
       "\n",
       "   NAME_TYPE_SUITE  ... FLAG_DOCUMENT_18 FLAG_DOCUMENT_19 FLAG_DOCUMENT_20  \\\n",
       "3    Unaccompanied  ...                0                0                0   \n",
       "5    Unaccompanied  ...                0                0                0   \n",
       "15   Unaccompanied  ...                0                0                0   \n",
       "18   Unaccompanied  ...                0                0                0   \n",
       "20   Unaccompanied  ...                0                0                0   \n",
       "\n",
       "   FLAG_DOCUMENT_21  AMT_REQ_CREDIT_BUREAU_HOUR  AMT_REQ_CREDIT_BUREAU_DAY  \\\n",
       "3                 0                   -0.040332                  -0.032825   \n",
       "5                 0                   -0.040332                  -0.032825   \n",
       "15                0                   -0.040332                  -0.032825   \n",
       "18                0                   -0.040332                  -0.032825   \n",
       "20                0                   -0.040332                  -0.032825   \n",
       "\n",
       "    AMT_REQ_CREDIT_BUREAU_WEEK  AMT_REQ_CREDIT_BUREAU_MON  \\\n",
       "3                    -0.053987                  -0.077883   \n",
       "5                    -0.053987                  -0.077883   \n",
       "15                   -0.053987                  -0.077883   \n",
       "18                   -0.053987                  -0.077883   \n",
       "20                   -0.053987                  -0.077883   \n",
       "\n",
       "    AMT_REQ_CREDIT_BUREAU_QRT  AMT_REQ_CREDIT_BUREAU_YEAR  \n",
       "3                   -0.729849                    0.649564  \n",
       "5                    0.749922                    0.052319  \n",
       "15                   0.749922                    0.649564  \n",
       "18                   3.709463                    1.246809  \n",
       "20                   0.749922                    0.052319  \n",
       "\n",
       "[5 rows x 120 columns]"
      ]
     },
     "execution_count": 26,
     "metadata": {},
     "output_type": "execute_result"
    }
   ],
   "source": [
    "test.head()"
   ]
  },
  {
   "cell_type": "markdown",
   "id": "mtbCfv0RBzMe",
   "metadata": {
    "id": "mtbCfv0RBzMe"
   },
   "source": [
    "### Encoding the independent variables"
   ]
  },
  {
   "cell_type": "code",
   "execution_count": 27,
   "id": "jhSb0ulEDB3f",
   "metadata": {
    "id": "jhSb0ulEDB3f"
   },
   "outputs": [],
   "source": [
    "def get_textual_column_indexes(train, test):\n",
    "  \"\"\"Return a tuple containing an ndarray with train and test textual column indexes.\n",
    "\n",
    "  Keyword arguments:\n",
    "  train -- the train dataframe\n",
    "  test -- the test dataframe\n",
    "  \"\"\"\n",
    "  txt_cols_train = train.select_dtypes('object').columns\n",
    "  txt_indexes_train = train.columns.get_indexer(txt_cols_train)\n",
    "  txt_cols_test = test.select_dtypes('object').columns\n",
    "  txt_indexes_test = test.columns.get_indexer(txt_cols_test)\n",
    "  return txt_indexes_train, txt_indexes_test"
   ]
  },
  {
   "cell_type": "code",
   "execution_count": 28,
   "id": "5HS4FbnJlO9l",
   "metadata": {
    "id": "5HS4FbnJlO9l",
    "pycharm": {
     "name": "#%%\n"
    }
   },
   "outputs": [],
   "source": [
    "(txt_indexes_train, txt_indexes_test) = get_textual_column_indexes(train, test)"
   ]
  },
  {
   "cell_type": "code",
   "execution_count": 29,
   "id": "5Dh77LnU2B9e",
   "metadata": {
    "colab": {
     "base_uri": "https://localhost:8080/"
    },
    "id": "5Dh77LnU2B9e",
    "outputId": "6a6cdcba-3ae8-489c-a0eb-470514101704"
   },
   "outputs": [
    {
     "data": {
      "text/plain": [
       "array([ 0,  1,  2,  3,  9, 10, 11, 12, 13, 26, 30, 38, 84, 85, 87, 88],\n",
       "      dtype=int64)"
      ]
     },
     "execution_count": 29,
     "metadata": {},
     "output_type": "execute_result"
    }
   ],
   "source": [
    "txt_indexes_train"
   ]
  },
  {
   "cell_type": "code",
   "execution_count": 30,
   "id": "EvCRiiFy2C7n",
   "metadata": {
    "colab": {
     "base_uri": "https://localhost:8080/"
    },
    "id": "EvCRiiFy2C7n",
    "outputId": "800ef50f-36f4-42de-8fb9-6d98e695e7e5"
   },
   "outputs": [
    {
     "data": {
      "text/plain": [
       "array([ 0,  1,  2,  3,  9, 10, 11, 12, 13, 26, 30, 38, 84, 85, 87, 88],\n",
       "      dtype=int64)"
      ]
     },
     "execution_count": 30,
     "metadata": {},
     "output_type": "execute_result"
    }
   ],
   "source": [
    "txt_indexes_test"
   ]
  },
  {
   "cell_type": "code",
   "execution_count": 31,
   "id": "7K1WiR32BmU2",
   "metadata": {
    "id": "7K1WiR32BmU2"
   },
   "outputs": [],
   "source": [
    "def one_hot_encode_train(train, txt_indexes_train):\n",
    "  \"\"\"Return the train dataframe with one-hot-encoded textual features.\n",
    "\n",
    "  Keyword arguments:\n",
    "  train -- the train dataframe\n",
    "  txt_indexes_train -- ndarray of train textual column indexes\n",
    "  \"\"\"\n",
    "  train_dummies = pd.get_dummies(train.iloc[:, txt_indexes_train])\n",
    "  train.drop(train.select_dtypes('object').columns, axis=1, inplace=True)\n",
    "  train = pd.concat([train, train_dummies], axis=1)\n",
    "  train = position_target_column(train)\n",
    "  return train"
   ]
  },
  {
   "cell_type": "code",
   "execution_count": 32,
   "id": "GpYM3xmVkz3j",
   "metadata": {
    "id": "GpYM3xmVkz3j"
   },
   "outputs": [],
   "source": [
    "def one_hot_encode_test(test, txt_indexes_test):\n",
    "  \"\"\"Return the test dataframe with label-encoded textual features.\n",
    "\n",
    "  Keyword arguments:\n",
    "  test -- the test dataframe\n",
    "  txt_indexes_test -- ndarray of test textual column indexes\n",
    "  \"\"\"\n",
    "  test_dummies = pd.get_dummies(test.iloc[:, txt_indexes_test])\n",
    "  test.drop(test.select_dtypes('object').columns, axis=1, inplace=True)\n",
    "  test = pd.concat([test, test_dummies], axis=1)\n",
    "  return test"
   ]
  },
  {
   "cell_type": "code",
   "execution_count": 33,
   "id": "kHEybwg7lO9v",
   "metadata": {
    "id": "kHEybwg7lO9v",
    "pycharm": {
     "name": "#%%\n"
    }
   },
   "outputs": [],
   "source": [
    "train = one_hot_encode_train(train, txt_indexes_train)"
   ]
  },
  {
   "cell_type": "code",
   "execution_count": 34,
   "id": "mC60Wojx4v4I",
   "metadata": {
    "id": "mC60Wojx4v4I"
   },
   "outputs": [],
   "source": [
    "test = one_hot_encode_test(test, txt_indexes_test)"
   ]
  },
  {
   "cell_type": "code",
   "execution_count": 35,
   "id": "mUrXRFumsIB6",
   "metadata": {
    "id": "mUrXRFumsIB6"
   },
   "outputs": [],
   "source": [
    "# Align the training and testing data, keep only columns present in both dataframes\n",
    "target_col = train['TARGET']\n",
    "train, test = train.align(test, join = 'inner', axis = 1)\n",
    "train = pd.concat([train, target_col], axis=1)"
   ]
  },
  {
   "cell_type": "code",
   "execution_count": 36,
   "id": "czBVAkQj6Mku",
   "metadata": {
    "colab": {
     "base_uri": "https://localhost:8080/",
     "height": 273
    },
    "id": "czBVAkQj6Mku",
    "outputId": "ece14a72-cb5c-4588-b1a0-e2abc690c0c2"
   },
   "outputs": [
    {
     "data": {
      "text/html": [
       "<div>\n",
       "<style scoped>\n",
       "    .dataframe tbody tr th:only-of-type {\n",
       "        vertical-align: middle;\n",
       "    }\n",
       "\n",
       "    .dataframe tbody tr th {\n",
       "        vertical-align: top;\n",
       "    }\n",
       "\n",
       "    .dataframe thead th {\n",
       "        text-align: right;\n",
       "    }\n",
       "</style>\n",
       "<table border=\"1\" class=\"dataframe\">\n",
       "  <thead>\n",
       "    <tr style=\"text-align: right;\">\n",
       "      <th></th>\n",
       "      <th>CNT_CHILDREN</th>\n",
       "      <th>AMT_INCOME_TOTAL</th>\n",
       "      <th>AMT_CREDIT</th>\n",
       "      <th>AMT_ANNUITY</th>\n",
       "      <th>AMT_GOODS_PRICE</th>\n",
       "      <th>REGION_POPULATION_RELATIVE</th>\n",
       "      <th>DAYS_BIRTH</th>\n",
       "      <th>DAYS_EMPLOYED</th>\n",
       "      <th>DAYS_REGISTRATION</th>\n",
       "      <th>DAYS_ID_PUBLISH</th>\n",
       "      <th>...</th>\n",
       "      <th>WALLSMATERIAL_MODE_Block</th>\n",
       "      <th>WALLSMATERIAL_MODE_Mixed</th>\n",
       "      <th>WALLSMATERIAL_MODE_Monolithic</th>\n",
       "      <th>WALLSMATERIAL_MODE_Others</th>\n",
       "      <th>WALLSMATERIAL_MODE_Panel</th>\n",
       "      <th>WALLSMATERIAL_MODE_Stone, brick</th>\n",
       "      <th>WALLSMATERIAL_MODE_Wooden</th>\n",
       "      <th>EMERGENCYSTATE_MODE_No</th>\n",
       "      <th>EMERGENCYSTATE_MODE_Yes</th>\n",
       "      <th>TARGET</th>\n",
       "    </tr>\n",
       "  </thead>\n",
       "  <tbody>\n",
       "    <tr>\n",
       "      <th>0</th>\n",
       "      <td>0</td>\n",
       "      <td>0.112486</td>\n",
       "      <td>-0.545235</td>\n",
       "      <td>-0.275900</td>\n",
       "      <td>-0.569221</td>\n",
       "      <td>-0.253586</td>\n",
       "      <td>-9461</td>\n",
       "      <td>-637</td>\n",
       "      <td>0.359172</td>\n",
       "      <td>-2120</td>\n",
       "      <td>...</td>\n",
       "      <td>0</td>\n",
       "      <td>0</td>\n",
       "      <td>0</td>\n",
       "      <td>0</td>\n",
       "      <td>0</td>\n",
       "      <td>1</td>\n",
       "      <td>0</td>\n",
       "      <td>1</td>\n",
       "      <td>0</td>\n",
       "      <td>1</td>\n",
       "    </tr>\n",
       "    <tr>\n",
       "      <th>1</th>\n",
       "      <td>0</td>\n",
       "      <td>0.704502</td>\n",
       "      <td>1.526865</td>\n",
       "      <td>0.434724</td>\n",
       "      <td>1.412794</td>\n",
       "      <td>-1.210008</td>\n",
       "      <td>-16765</td>\n",
       "      <td>-1188</td>\n",
       "      <td>1.090039</td>\n",
       "      <td>-291</td>\n",
       "      <td>...</td>\n",
       "      <td>1</td>\n",
       "      <td>0</td>\n",
       "      <td>0</td>\n",
       "      <td>0</td>\n",
       "      <td>0</td>\n",
       "      <td>0</td>\n",
       "      <td>0</td>\n",
       "      <td>1</td>\n",
       "      <td>0</td>\n",
       "      <td>0</td>\n",
       "    </tr>\n",
       "    <tr>\n",
       "      <th>13</th>\n",
       "      <td>1</td>\n",
       "      <td>0.309825</td>\n",
       "      <td>0.650662</td>\n",
       "      <td>-0.000257</td>\n",
       "      <td>0.312947</td>\n",
       "      <td>-0.390782</td>\n",
       "      <td>-14086</td>\n",
       "      <td>-3028</td>\n",
       "      <td>1.251233</td>\n",
       "      <td>-4911</td>\n",
       "      <td>...</td>\n",
       "      <td>0</td>\n",
       "      <td>0</td>\n",
       "      <td>0</td>\n",
       "      <td>0</td>\n",
       "      <td>1</td>\n",
       "      <td>0</td>\n",
       "      <td>0</td>\n",
       "      <td>1</td>\n",
       "      <td>0</td>\n",
       "      <td>0</td>\n",
       "    </tr>\n",
       "    <tr>\n",
       "      <th>14</th>\n",
       "      <td>0</td>\n",
       "      <td>-0.005917</td>\n",
       "      <td>0.312391</td>\n",
       "      <td>0.246019</td>\n",
       "      <td>0.267120</td>\n",
       "      <td>-0.804813</td>\n",
       "      <td>-14583</td>\n",
       "      <td>-203</td>\n",
       "      <td>1.259545</td>\n",
       "      <td>-2056</td>\n",
       "      <td>...</td>\n",
       "      <td>0</td>\n",
       "      <td>0</td>\n",
       "      <td>0</td>\n",
       "      <td>0</td>\n",
       "      <td>1</td>\n",
       "      <td>0</td>\n",
       "      <td>0</td>\n",
       "      <td>1</td>\n",
       "      <td>0</td>\n",
       "      <td>0</td>\n",
       "    </tr>\n",
       "    <tr>\n",
       "      <th>18</th>\n",
       "      <td>0</td>\n",
       "      <td>-0.676868</td>\n",
       "      <td>-1.127208</td>\n",
       "      <td>-1.363063</td>\n",
       "      <td>-1.061861</td>\n",
       "      <td>1.464901</td>\n",
       "      <td>-17718</td>\n",
       "      <td>-7804</td>\n",
       "      <td>-1.155698</td>\n",
       "      <td>-1259</td>\n",
       "      <td>...</td>\n",
       "      <td>0</td>\n",
       "      <td>0</td>\n",
       "      <td>0</td>\n",
       "      <td>0</td>\n",
       "      <td>0</td>\n",
       "      <td>1</td>\n",
       "      <td>0</td>\n",
       "      <td>1</td>\n",
       "      <td>0</td>\n",
       "      <td>0</td>\n",
       "    </tr>\n",
       "  </tbody>\n",
       "</table>\n",
       "<p>5 rows × 237 columns</p>\n",
       "</div>"
      ],
      "text/plain": [
       "    CNT_CHILDREN  AMT_INCOME_TOTAL  AMT_CREDIT  AMT_ANNUITY  AMT_GOODS_PRICE  \\\n",
       "0              0          0.112486   -0.545235    -0.275900        -0.569221   \n",
       "1              0          0.704502    1.526865     0.434724         1.412794   \n",
       "13             1          0.309825    0.650662    -0.000257         0.312947   \n",
       "14             0         -0.005917    0.312391     0.246019         0.267120   \n",
       "18             0         -0.676868   -1.127208    -1.363063        -1.061861   \n",
       "\n",
       "    REGION_POPULATION_RELATIVE  DAYS_BIRTH  DAYS_EMPLOYED  DAYS_REGISTRATION  \\\n",
       "0                    -0.253586       -9461           -637           0.359172   \n",
       "1                    -1.210008      -16765          -1188           1.090039   \n",
       "13                   -0.390782      -14086          -3028           1.251233   \n",
       "14                   -0.804813      -14583           -203           1.259545   \n",
       "18                    1.464901      -17718          -7804          -1.155698   \n",
       "\n",
       "    DAYS_ID_PUBLISH  ...  WALLSMATERIAL_MODE_Block  WALLSMATERIAL_MODE_Mixed  \\\n",
       "0             -2120  ...                         0                         0   \n",
       "1              -291  ...                         1                         0   \n",
       "13            -4911  ...                         0                         0   \n",
       "14            -2056  ...                         0                         0   \n",
       "18            -1259  ...                         0                         0   \n",
       "\n",
       "    WALLSMATERIAL_MODE_Monolithic  WALLSMATERIAL_MODE_Others  \\\n",
       "0                               0                          0   \n",
       "1                               0                          0   \n",
       "13                              0                          0   \n",
       "14                              0                          0   \n",
       "18                              0                          0   \n",
       "\n",
       "    WALLSMATERIAL_MODE_Panel  WALLSMATERIAL_MODE_Stone, brick  \\\n",
       "0                          0                                1   \n",
       "1                          0                                0   \n",
       "13                         1                                0   \n",
       "14                         1                                0   \n",
       "18                         0                                1   \n",
       "\n",
       "    WALLSMATERIAL_MODE_Wooden  EMERGENCYSTATE_MODE_No  \\\n",
       "0                           0                       1   \n",
       "1                           0                       1   \n",
       "13                          0                       1   \n",
       "14                          0                       1   \n",
       "18                          0                       1   \n",
       "\n",
       "    EMERGENCYSTATE_MODE_Yes  TARGET  \n",
       "0                         0       1  \n",
       "1                         0       0  \n",
       "13                        0       0  \n",
       "14                        0       0  \n",
       "18                        0       0  \n",
       "\n",
       "[5 rows x 237 columns]"
      ]
     },
     "execution_count": 36,
     "metadata": {},
     "output_type": "execute_result"
    }
   ],
   "source": [
    "train.head()"
   ]
  },
  {
   "cell_type": "code",
   "execution_count": 37,
   "id": "Jvpwd4gY6N4Q",
   "metadata": {
    "colab": {
     "base_uri": "https://localhost:8080/",
     "height": 273
    },
    "id": "Jvpwd4gY6N4Q",
    "outputId": "dafa6109-497f-4e5f-ae90-25702ae86601"
   },
   "outputs": [
    {
     "data": {
      "text/html": [
       "<div>\n",
       "<style scoped>\n",
       "    .dataframe tbody tr th:only-of-type {\n",
       "        vertical-align: middle;\n",
       "    }\n",
       "\n",
       "    .dataframe tbody tr th {\n",
       "        vertical-align: top;\n",
       "    }\n",
       "\n",
       "    .dataframe thead th {\n",
       "        text-align: right;\n",
       "    }\n",
       "</style>\n",
       "<table border=\"1\" class=\"dataframe\">\n",
       "  <thead>\n",
       "    <tr style=\"text-align: right;\">\n",
       "      <th></th>\n",
       "      <th>CNT_CHILDREN</th>\n",
       "      <th>AMT_INCOME_TOTAL</th>\n",
       "      <th>AMT_CREDIT</th>\n",
       "      <th>AMT_ANNUITY</th>\n",
       "      <th>AMT_GOODS_PRICE</th>\n",
       "      <th>REGION_POPULATION_RELATIVE</th>\n",
       "      <th>DAYS_BIRTH</th>\n",
       "      <th>DAYS_EMPLOYED</th>\n",
       "      <th>DAYS_REGISTRATION</th>\n",
       "      <th>DAYS_ID_PUBLISH</th>\n",
       "      <th>...</th>\n",
       "      <th>HOUSETYPE_MODE_terraced house</th>\n",
       "      <th>WALLSMATERIAL_MODE_Block</th>\n",
       "      <th>WALLSMATERIAL_MODE_Mixed</th>\n",
       "      <th>WALLSMATERIAL_MODE_Monolithic</th>\n",
       "      <th>WALLSMATERIAL_MODE_Others</th>\n",
       "      <th>WALLSMATERIAL_MODE_Panel</th>\n",
       "      <th>WALLSMATERIAL_MODE_Stone, brick</th>\n",
       "      <th>WALLSMATERIAL_MODE_Wooden</th>\n",
       "      <th>EMERGENCYSTATE_MODE_No</th>\n",
       "      <th>EMERGENCYSTATE_MODE_Yes</th>\n",
       "    </tr>\n",
       "  </thead>\n",
       "  <tbody>\n",
       "    <tr>\n",
       "      <th>3</th>\n",
       "      <td>2</td>\n",
       "      <td>1.059309</td>\n",
       "      <td>2.562260</td>\n",
       "      <td>1.028660</td>\n",
       "      <td>2.935280</td>\n",
       "      <td>0.196341</td>\n",
       "      <td>-13976</td>\n",
       "      <td>-1866</td>\n",
       "      <td>0.830175</td>\n",
       "      <td>-4208</td>\n",
       "      <td>...</td>\n",
       "      <td>0</td>\n",
       "      <td>0</td>\n",
       "      <td>0</td>\n",
       "      <td>0</td>\n",
       "      <td>0</td>\n",
       "      <td>1</td>\n",
       "      <td>0</td>\n",
       "      <td>0</td>\n",
       "      <td>1</td>\n",
       "      <td>0</td>\n",
       "    </tr>\n",
       "    <tr>\n",
       "      <th>5</th>\n",
       "      <td>0</td>\n",
       "      <td>0.647693</td>\n",
       "      <td>1.007165</td>\n",
       "      <td>0.177099</td>\n",
       "      <td>0.841447</td>\n",
       "      <td>0.120865</td>\n",
       "      <td>-18604</td>\n",
       "      <td>-12009</td>\n",
       "      <td>-0.379934</td>\n",
       "      <td>-2027</td>\n",
       "      <td>...</td>\n",
       "      <td>0</td>\n",
       "      <td>1</td>\n",
       "      <td>0</td>\n",
       "      <td>0</td>\n",
       "      <td>0</td>\n",
       "      <td>0</td>\n",
       "      <td>0</td>\n",
       "      <td>0</td>\n",
       "      <td>1</td>\n",
       "      <td>0</td>\n",
       "    </tr>\n",
       "    <tr>\n",
       "      <th>15</th>\n",
       "      <td>0</td>\n",
       "      <td>-0.175538</td>\n",
       "      <td>-0.669483</td>\n",
       "      <td>-0.585425</td>\n",
       "      <td>-0.759719</td>\n",
       "      <td>0.575500</td>\n",
       "      <td>-13563</td>\n",
       "      <td>-1007</td>\n",
       "      <td>-0.263216</td>\n",
       "      <td>-4044</td>\n",
       "      <td>...</td>\n",
       "      <td>0</td>\n",
       "      <td>0</td>\n",
       "      <td>0</td>\n",
       "      <td>0</td>\n",
       "      <td>0</td>\n",
       "      <td>0</td>\n",
       "      <td>1</td>\n",
       "      <td>0</td>\n",
       "      <td>1</td>\n",
       "      <td>0</td>\n",
       "    </tr>\n",
       "    <tr>\n",
       "      <th>18</th>\n",
       "      <td>1</td>\n",
       "      <td>0.236077</td>\n",
       "      <td>-0.328294</td>\n",
       "      <td>-0.476987</td>\n",
       "      <td>-0.390220</td>\n",
       "      <td>0.120865</td>\n",
       "      <td>-10962</td>\n",
       "      <td>-1883</td>\n",
       "      <td>1.389072</td>\n",
       "      <td>-1721</td>\n",
       "      <td>...</td>\n",
       "      <td>0</td>\n",
       "      <td>0</td>\n",
       "      <td>0</td>\n",
       "      <td>0</td>\n",
       "      <td>0</td>\n",
       "      <td>1</td>\n",
       "      <td>0</td>\n",
       "      <td>0</td>\n",
       "      <td>1</td>\n",
       "      <td>0</td>\n",
       "    </tr>\n",
       "    <tr>\n",
       "      <th>20</th>\n",
       "      <td>0</td>\n",
       "      <td>-0.916446</td>\n",
       "      <td>-0.849631</td>\n",
       "      <td>-0.730010</td>\n",
       "      <td>-0.759719</td>\n",
       "      <td>-0.978692</td>\n",
       "      <td>-10507</td>\n",
       "      <td>-2780</td>\n",
       "      <td>-0.072997</td>\n",
       "      <td>-2729</td>\n",
       "      <td>...</td>\n",
       "      <td>0</td>\n",
       "      <td>0</td>\n",
       "      <td>0</td>\n",
       "      <td>0</td>\n",
       "      <td>0</td>\n",
       "      <td>1</td>\n",
       "      <td>0</td>\n",
       "      <td>0</td>\n",
       "      <td>1</td>\n",
       "      <td>0</td>\n",
       "    </tr>\n",
       "  </tbody>\n",
       "</table>\n",
       "<p>5 rows × 236 columns</p>\n",
       "</div>"
      ],
      "text/plain": [
       "    CNT_CHILDREN  AMT_INCOME_TOTAL  AMT_CREDIT  AMT_ANNUITY  AMT_GOODS_PRICE  \\\n",
       "3              2          1.059309    2.562260     1.028660         2.935280   \n",
       "5              0          0.647693    1.007165     0.177099         0.841447   \n",
       "15             0         -0.175538   -0.669483    -0.585425        -0.759719   \n",
       "18             1          0.236077   -0.328294    -0.476987        -0.390220   \n",
       "20             0         -0.916446   -0.849631    -0.730010        -0.759719   \n",
       "\n",
       "    REGION_POPULATION_RELATIVE  DAYS_BIRTH  DAYS_EMPLOYED  DAYS_REGISTRATION  \\\n",
       "3                     0.196341      -13976          -1866           0.830175   \n",
       "5                     0.120865      -18604         -12009          -0.379934   \n",
       "15                    0.575500      -13563          -1007          -0.263216   \n",
       "18                    0.120865      -10962          -1883           1.389072   \n",
       "20                   -0.978692      -10507          -2780          -0.072997   \n",
       "\n",
       "    DAYS_ID_PUBLISH  ...  HOUSETYPE_MODE_terraced house  \\\n",
       "3             -4208  ...                              0   \n",
       "5             -2027  ...                              0   \n",
       "15            -4044  ...                              0   \n",
       "18            -1721  ...                              0   \n",
       "20            -2729  ...                              0   \n",
       "\n",
       "    WALLSMATERIAL_MODE_Block  WALLSMATERIAL_MODE_Mixed  \\\n",
       "3                          0                         0   \n",
       "5                          1                         0   \n",
       "15                         0                         0   \n",
       "18                         0                         0   \n",
       "20                         0                         0   \n",
       "\n",
       "    WALLSMATERIAL_MODE_Monolithic  WALLSMATERIAL_MODE_Others  \\\n",
       "3                               0                          0   \n",
       "5                               0                          0   \n",
       "15                              0                          0   \n",
       "18                              0                          0   \n",
       "20                              0                          0   \n",
       "\n",
       "    WALLSMATERIAL_MODE_Panel  WALLSMATERIAL_MODE_Stone, brick  \\\n",
       "3                          1                                0   \n",
       "5                          0                                0   \n",
       "15                         0                                1   \n",
       "18                         1                                0   \n",
       "20                         1                                0   \n",
       "\n",
       "    WALLSMATERIAL_MODE_Wooden  EMERGENCYSTATE_MODE_No  EMERGENCYSTATE_MODE_Yes  \n",
       "3                           0                       1                        0  \n",
       "5                           0                       1                        0  \n",
       "15                          0                       1                        0  \n",
       "18                          0                       1                        0  \n",
       "20                          0                       1                        0  \n",
       "\n",
       "[5 rows x 236 columns]"
      ]
     },
     "execution_count": 37,
     "metadata": {},
     "output_type": "execute_result"
    }
   ],
   "source": [
    "test.head()"
   ]
  },
  {
   "cell_type": "markdown",
   "id": "-ag0L1nB6UsZ",
   "metadata": {
    "id": "-ag0L1nB6UsZ"
   },
   "source": [
    "## Exporting preprocessed data to CSV files"
   ]
  },
  {
   "cell_type": "code",
   "execution_count": 38,
   "id": "G2iGO7OO6X65",
   "metadata": {
    "id": "G2iGO7OO6X65"
   },
   "outputs": [],
   "source": [
    "def export_dataframes_to_csv_files(train, test):\n",
    "  \"\"\"Export train and test dataframes to CSV files to ./data/processed path.\n",
    "\n",
    "  Keyword arguments:\n",
    "  train -- the train dataframe\n",
    "  test -- the test dataframe\n",
    "  \"\"\"\n",
    "  train.to_csv('../../data/processed/processed_application_train.csv', index=False)\n",
    "  test.to_csv('../../data/processed/processed_application_test.csv', index=False)"
   ]
  },
  {
   "cell_type": "code",
   "execution_count": 39,
   "id": "oa7SItpDlO93",
   "metadata": {
    "id": "oa7SItpDlO93",
    "pycharm": {
     "name": "#%%\n"
    }
   },
   "outputs": [],
   "source": [
    "export_dataframes_to_csv_files(train, test)"
   ]
  }
 ],
 "metadata": {
  "colab": {
   "collapsed_sections": [],
   "name": "1.0-cbw-data-preprocessing.ipynb",
   "provenance": []
  },
  "kernelspec": {
   "display_name": "Python 3 (ipykernel)",
   "language": "python",
   "name": "python3"
  },
  "language_info": {
   "name": "python"
  }
 },
 "nbformat": 4,
 "nbformat_minor": 5
}
