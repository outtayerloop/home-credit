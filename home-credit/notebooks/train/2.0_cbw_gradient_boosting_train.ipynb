{
  "nbformat": 4,
  "nbformat_minor": 0,
  "metadata": {
    "colab": {
      "name": "2.0-cbw-gradient-boosting-train.ipynb",
      "provenance": []
    },
    "kernelspec": {
      "name": "python3",
      "display_name": "Python 3"
    },
    "language_info": {
      "name": "python"
    }
  },
  "cells": [
    {
      "cell_type": "markdown",
      "metadata": {
        "id": "7bC2CZMQ793n"
      },
      "source": [
        "# Gradient Boosting model train"
      ]
    },
    {
      "cell_type": "markdown",
      "metadata": {
        "id": "fHwQSvj17-vR"
      },
      "source": [
        "## Importing the libraries"
      ]
    },
    {
      "cell_type": "code",
      "metadata": {
        "id": "ksABrZmK8tWx"
      },
      "source": [
        "import pandas as pd\n",
        "import pickle"
      ],
      "execution_count": 27,
      "outputs": []
    },
    {
      "cell_type": "markdown",
      "metadata": {
        "id": "5HFfVPgE8FTy"
      },
      "source": [
        "## Importing the dataset"
      ]
    },
    {
      "cell_type": "code",
      "metadata": {
        "id": "vze1y0gl8rXd"
      },
      "source": [
        "train = pd.read_csv('preprocessed_application_train.csv')\n",
        "train = train.drop('Unnamed: 0', axis=1)\n",
        "X_train = train.iloc[:, :-1].values\n",
        "y_train = train.iloc[:, -1].values"
      ],
      "execution_count": 28,
      "outputs": []
    },
    {
      "cell_type": "markdown",
      "metadata": {
        "id": "gls4kHR49jZ3"
      },
      "source": [
        "## Training the Gradient Boosting model on the training set"
      ]
    },
    {
      "cell_type": "code",
      "metadata": {
        "colab": {
          "base_uri": "https://localhost:8080/"
        },
        "id": "bwIDRnnz9nz2",
        "outputId": "2b0795be-6e7f-4697-fc97-79549b48d77a"
      },
      "source": [
        "from sklearn.ensemble import GradientBoostingClassifier\n",
        "clf = GradientBoostingClassifier(n_estimators=100, learning_rate=1.0, max_depth=1, random_state=0)\n",
        "clf = clf.fit(X_train, y_train)\n",
        "clf"
      ],
      "execution_count": 29,
      "outputs": [
        {
          "output_type": "execute_result",
          "data": {
            "text/plain": [
              "GradientBoostingClassifier(ccp_alpha=0.0, criterion='friedman_mse', init=None,\n",
              "                           learning_rate=1.0, loss='deviance', max_depth=1,\n",
              "                           max_features=None, max_leaf_nodes=None,\n",
              "                           min_impurity_decrease=0.0, min_impurity_split=None,\n",
              "                           min_samples_leaf=1, min_samples_split=2,\n",
              "                           min_weight_fraction_leaf=0.0, n_estimators=100,\n",
              "                           n_iter_no_change=None, presort='deprecated',\n",
              "                           random_state=0, subsample=1.0, tol=0.0001,\n",
              "                           validation_fraction=0.1, verbose=0,\n",
              "                           warm_start=False)"
            ]
          },
          "metadata": {},
          "execution_count": 29
        }
      ]
    },
    {
      "cell_type": "markdown",
      "metadata": {
        "id": "F5i3w72Q_eSd"
      },
      "source": [
        "## Serializing model to Pickle file"
      ]
    },
    {
      "cell_type": "code",
      "metadata": {
        "id": "izsqhgkp_jU5"
      },
      "source": [
        "from sklearn.pipeline import Pipeline\n",
        "pipe = Pipeline([('clf', clf)])\n",
        "pickle.dump(pipe, open(\"gradient_boosting.pkl\", \"wb\" ))"
      ],
      "execution_count": 30,
      "outputs": []
    },
    {
      "cell_type": "markdown",
      "metadata": {
        "id": "urDqKRqXBMIl"
      },
      "source": [
        "## Getting the mean accuracy on the given data (train here for example purposes) and labels"
      ]
    },
    {
      "cell_type": "code",
      "metadata": {
        "colab": {
          "base_uri": "https://localhost:8080/"
        },
        "id": "O9ono4ZHBbYa",
        "outputId": "6b25388a-92b0-4167-b432-209b57cec003"
      },
      "source": [
        "with open(\"gradient_boosting.pkl\", 'rb') as pkl:\n",
        "    pipe = pickle.load(pkl)\n",
        "pipe.score(X_train, y_train)"
      ],
      "execution_count": 31,
      "outputs": [
        {
          "output_type": "execute_result",
          "data": {
            "text/plain": [
              "0.9248354588153035"
            ]
          },
          "metadata": {},
          "execution_count": 31
        }
      ]
    }
  ]
}