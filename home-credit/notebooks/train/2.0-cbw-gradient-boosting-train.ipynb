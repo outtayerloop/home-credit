{
 "nbformat": 4,
 "nbformat_minor": 0,
 "metadata": {
  "colab": {
   "name": "2.0-cbw-gradient-boosting-train.ipynb",
   "provenance": [],
   "collapsed_sections": []
  },
  "kernelspec": {
   "name": "python3",
   "display_name": "Python 3"
  },
  "language_info": {
   "name": "python"
  }
 },
 "cells": [
  {
   "cell_type": "markdown",
   "metadata": {
    "id": "7bC2CZMQ793n"
   },
   "source": [
    "# Gradient Boosting model train"
   ]
  },
  {
   "cell_type": "markdown",
   "metadata": {
    "id": "YuYqZHHj2pwk"
   },
   "source": [
    "- https://www.kaggle.com/beagle01/prediction-with-gradient-boosting-classifier"
   ]
  },
  {
   "cell_type": "markdown",
   "metadata": {
    "id": "fHwQSvj17-vR"
   },
   "source": [
    "## Importing the libraries"
   ]
  },
  {
   "cell_type": "code",
   "metadata": {
    "id": "ksABrZmK8tWx"
   },
   "source": [
    "import pandas as pd"
   ],
   "execution_count": 2,
   "outputs": []
  },
  {
   "cell_type": "markdown",
   "metadata": {
    "id": "5HFfVPgE8FTy"
   },
   "source": [
    "## Importing the dataset"
   ]
  },
  {
   "cell_type": "code",
   "metadata": {
    "id": "vze1y0gl8rXd"
   },
   "source": [
    "train = pd.read_csv('./data/processed/preprocessed_application_train.csv')\n",
    "X = train.iloc[:, :-1].values\n",
    "y = train.iloc[:, -1].values"
   ],
   "execution_count": 4,
   "outputs": []
  },
  {
   "cell_type": "code",
   "metadata": {
    "colab": {
     "base_uri": "https://localhost:8080/"
    },
    "id": "IGUl82S04Q3t",
    "outputId": "a2adbb38-f263-419e-fe92-fe6884f3e253"
   },
   "source": [
    "train.shape"
   ],
   "execution_count": 5,
   "outputs": [
    {
     "output_type": "execute_result",
     "data": {
      "text/plain": [
       "(65789, 78)"
      ]
     },
     "metadata": {},
     "execution_count": 5
    }
   ]
  },
  {
   "cell_type": "code",
   "metadata": {
    "id": "CiDl6Nz0u_KG"
   },
   "source": [
    "from sklearn.model_selection import train_test_split\n",
    "X_train, X_test, y_train, y_test = train_test_split(X, y, test_size=0.3)"
   ],
   "execution_count": 6,
   "outputs": []
  },
  {
   "cell_type": "markdown",
   "metadata": {
    "id": "gls4kHR49jZ3"
   },
   "source": [
    "## Training the Gradient Boosting model on the training set"
   ]
  },
  {
   "cell_type": "code",
   "metadata": {
    "id": "bwIDRnnz9nz2"
   },
   "source": [
    "from sklearn.ensemble import GradientBoostingClassifier\n",
    "\n",
    "clf = GradientBoostingClassifier(n_estimators=100, learning_rate=1.0, max_depth=1, random_state=0)\n",
    "clf = clf.fit(X_train, y_train)"
   ],
   "execution_count": 7,
   "outputs": []
  },
  {
   "cell_type": "markdown",
   "metadata": {
    "id": "OGC0rTyXp91A"
   },
   "source": [
    "## Adding MLFLow workflow"
   ]
  },
  {
   "cell_type": "code",
   "metadata": {
    "id": "BC1wC_0irJXW"
   },
   "source": [
    "from sklearn.metrics import accuracy_score\n",
    "from sklearn.metrics import confusion_matrix\n",
    "\n",
    "def eval_metrics(actual, pred):\n",
    "    accuracy = accuracy_score(actual, pred)\n",
    "    conf_matrix = confusion_matrix(actual, pred)\n",
    "    return accuracy, conf_matrix"
   ],
   "execution_count": 8,
   "outputs": []
  },
  {
   "cell_type": "code",
   "metadata": {
    "id": "-YuodLe9qB1Y"
   },
   "source": [
    "import logging\n",
    "\n",
    "logging.basicConfig(level=logging.WARN)\n",
    "logger = logging.getLogger(__name__)\n",
    "\n",
    "with mlflow.start_run():\n",
    "  clf = GradientBoostingClassifier(n_estimators=100, learning_rate=1.0, max_depth=1, random_state=0)\n",
    "  clf = clf.fit(X_train, y_train)\n",
    "  predicted_repayments = clf.predict(X_test)\n",
    "\n",
    "  (accuracy, conf_matrix) = eval_metrics(y_test, predicted_repayments)\n",
    "\n",
    "  clf_params = clf.get_params()\n",
    "\n",
    "  for param in clf_params:\n",
    "    print(param)\n",
    "\n",
    "  mlflow.log_metric('accuracy', accuracy)\n",
    "  mlflow.log_metric('conf_matrix', conf_matrix)\n",
    "\n",
    "  mlflow_tracking_uri = mlflow.get_tracking_uri()\n",
    "  print(mlflow_tracking_uri)\n",
    "\n",
    "  tracking_url_type_store = urlparse(mlflow_tracking_uri).scheme\n",
    "\n",
    "  # Model registry does not work with file store\n",
    "  if tracking_url_type_store != 'file':\n",
    "\n",
    "      # Register the model\n",
    "      # There are other ways to use the Model Registry, which depends on the use case,\n",
    "      # please refer to the doc for more information:\n",
    "      # https://mlflow.org/docs/latest/model-registry.html#api-workflow\n",
    "      mlflow.sklearn.log_model(clf, 'model', registered_model_name='GradientBoostingClassifier')\n",
    "  else:\n",
    "      mlflow.sklearn.log_model(clf, 'model')"
   ],
   "execution_count": null,
   "outputs": []
  }
 ]
}