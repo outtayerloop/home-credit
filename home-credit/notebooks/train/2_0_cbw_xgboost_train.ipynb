{
  "nbformat": 4,
  "nbformat_minor": 0,
  "metadata": {
    "colab": {
      "name": "2.0-cbw-xgboost-train.ipynb",
      "provenance": [],
      "collapsed_sections": []
    },
    "kernelspec": {
      "name": "python3",
      "display_name": "Python 3"
    },
    "language_info": {
      "name": "python"
    }
  },
  "cells": [
    {
      "cell_type": "markdown",
      "metadata": {
        "id": "nGmy25qyVBbi"
      },
      "source": [
        "## Import libraries"
      ]
    },
    {
      "cell_type": "code",
      "metadata": {
        "id": "-thLW351VHst"
      },
      "source": [
        "import pandas as pd\n",
        "import numpy as np\n",
        "import xgboost as xgb\n",
        "from sklearn.metrics import mean_squared_error"
      ],
      "execution_count": 6,
      "outputs": []
    },
    {
      "cell_type": "markdown",
      "metadata": {
        "id": "qEl6yDkOUpGe"
      },
      "source": [
        "## Import preprocessed data training\n",
        "\n",
        "\n"
      ]
    },
    {
      "cell_type": "code",
      "metadata": {
        "id": "zmvdUdkfU4y5"
      },
      "source": [
        "train = pd.read_csv('./preprocessed_application_train.csv')"
      ],
      "execution_count": 3,
      "outputs": []
    },
    {
      "cell_type": "markdown",
      "metadata": {
        "id": "pjYhjduHUu9q"
      },
      "source": [
        "## Data visualization\n"
      ]
    },
    {
      "cell_type": "code",
      "metadata": {
        "id": "oYjemhuSUhj1"
      },
      "source": [
        "train.info()\n"
      ],
      "execution_count": null,
      "outputs": []
    },
    {
      "cell_type": "code",
      "metadata": {
        "id": "Y0_o-OdLW6wa"
      },
      "source": [
        "train.describe()"
      ],
      "execution_count": null,
      "outputs": []
    },
    {
      "cell_type": "markdown",
      "metadata": {
        "id": "mJfuxDLlYPZ9"
      },
      "source": [
        "## Separate target variable from others"
      ]
    },
    {
      "cell_type": "code",
      "metadata": {
        "colab": {
          "base_uri": "https://localhost:8080/"
        },
        "id": "NZqkNMLyX6xZ",
        "outputId": "036d0697-4672-4a0b-bfe9-87edfb567232"
      },
      "source": [
        "X, y = train.iloc[:,:-1],train.iloc[:,-1]"
      ],
      "execution_count": 15,
      "outputs": [
        {
          "output_type": "execute_result",
          "data": {
            "text/plain": [
              "0        1\n",
              "1        0\n",
              "2        0\n",
              "3        0\n",
              "4        0\n",
              "        ..\n",
              "65784    0\n",
              "65785    1\n",
              "65786    0\n",
              "65787    0\n",
              "65788    0\n",
              "Name: TARGET, Length: 65789, dtype: int64"
            ]
          },
          "metadata": {},
          "execution_count": 15
        }
      ]
    },
    {
      "cell_type": "markdown",
      "metadata": {
        "id": "0JUEmEM-Zuxv"
      },
      "source": [
        "## Dataset conversion to Dmatrix "
      ]
    },
    {
      "cell_type": "code",
      "metadata": {
        "id": "-JTFhrcVZuBd"
      },
      "source": [
        "data_dmatrix = xgb.DMatrix(data=X,label=y)"
      ],
      "execution_count": 16,
      "outputs": []
    }
  ]
}