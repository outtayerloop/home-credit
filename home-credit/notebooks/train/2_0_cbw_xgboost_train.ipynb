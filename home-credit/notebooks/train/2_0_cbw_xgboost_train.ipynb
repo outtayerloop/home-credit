{
  "nbformat": 4,
  "nbformat_minor": 0,
  "metadata": {
    "colab": {
      "name": "2.0-cbw-xgboost-train.ipynb",
      "provenance": [],
      "collapsed_sections": []
    },
    "kernelspec": {
      "name": "python3",
      "display_name": "Python 3"
    },
    "language_info": {
      "name": "python"
    }
  },
  "cells": [
    {
      "cell_type": "markdown",
      "metadata": {
        "id": "nGmy25qyVBbi"
      },
      "source": [
        "## Import libraries"
      ]
    },
    {
      "cell_type": "code",
      "metadata": {
        "id": "-thLW351VHst"
      },
      "source": [
        "import pandas as pd\n",
        "import numpy as np\n",
        "import xgboost as xgb\n",
        "from sklearn.metrics import mean_squared_error"
      ],
      "execution_count": 6,
      "outputs": []
    },
    {
      "cell_type": "markdown",
      "metadata": {
        "id": "qEl6yDkOUpGe"
      },
      "source": [
        "## Import preprocessed data training\n",
        "\n",
        "\n"
      ]
    },
    {
      "cell_type": "code",
      "metadata": {
        "id": "zmvdUdkfU4y5"
      },
      "source": [
        "train = pd.read_csv('./preprocessed_application_train.csv')\n",
        "test = pd.read_csv('./preprocessed_application_test.csv')"
      ],
      "execution_count": 3,
      "outputs": []
    },
    {
      "cell_type": "markdown",
      "metadata": {
        "id": "pjYhjduHUu9q"
      },
      "source": [
        "## Data visualization\n"
      ]
    },
    {
      "cell_type": "code",
      "metadata": {
        "id": "oYjemhuSUhj1"
      },
      "source": [
        "train.info()\n"
      ],
      "execution_count": null,
      "outputs": []
    },
    {
      "cell_type": "code",
      "metadata": {
        "id": "Y0_o-OdLW6wa"
      },
      "source": [
        "train.describe()"
      ],
      "execution_count": null,
      "outputs": []
    },
    {
      "cell_type": "markdown",
      "metadata": {
        "id": "mJfuxDLlYPZ9"
      },
      "source": [
        "## Separate target variable from others"
      ]
    },
    {
      "cell_type": "code",
      "metadata": {
        "id": "NZqkNMLyX6xZ"
      },
      "source": [
        "X_train, y_train = train.iloc[:,:-1],train.iloc[:,-1]\n",
        "X_test, y_test = train.iloc[:,:-1],train.iloc[:,-1]"
      ],
      "execution_count": 17,
      "outputs": []
    },
    {
      "cell_type": "markdown",
      "metadata": {
        "id": "0JUEmEM-Zuxv"
      },
      "source": [
        "## Dataset conversion to Dmatrix "
      ]
    },
    {
      "cell_type": "code",
      "metadata": {
        "id": "-JTFhrcVZuBd"
      },
      "source": [
        "data_dmatrix = xgb.DMatrix(data=X,label=y)"
      ],
      "execution_count": 16,
      "outputs": []
    },
    {
      "cell_type": "markdown",
      "metadata": {
        "id": "FvaLoA7mgAfc"
      },
      "source": [
        "## Instanciate XGboost classification object "
      ]
    },
    {
      "cell_type": "code",
      "metadata": {
        "id": "2VBorSyFgF2E"
      },
      "source": [
        "xg_class = xgb.XGBClassifier(objective ='binary:logistic', colsample_bytree = 0.3, learning_rate = 0.1,\n",
        "                max_depth = 5, alpha = 10, n_estimators = 10)"
      ],
      "execution_count": 19,
      "outputs": []
    },
    {
      "cell_type": "markdown",
      "metadata": {
        "id": "WJMwjomkhkD8"
      },
      "source": [
        "## Fit classification object to the training set "
      ]
    },
    {
      "cell_type": "code",
      "metadata": {
        "colab": {
          "base_uri": "https://localhost:8080/"
        },
        "id": "lFYNy3bjhs_L",
        "outputId": "6e418949-2a5e-4dc8-95ba-bf3c6ca9940b"
      },
      "source": [
        "xg_class.fit(X_train,y_train)"
      ],
      "execution_count": 20,
      "outputs": [
        {
          "output_type": "execute_result",
          "data": {
            "text/plain": [
              "XGBClassifier(alpha=10, base_score=0.5, booster='gbtree', colsample_bylevel=1,\n",
              "              colsample_bynode=1, colsample_bytree=0.3, gamma=0,\n",
              "              learning_rate=0.1, max_delta_step=0, max_depth=5,\n",
              "              min_child_weight=1, missing=None, n_estimators=10, n_jobs=1,\n",
              "              nthread=None, objective='binary:logistic', random_state=0,\n",
              "              reg_alpha=0, reg_lambda=1, scale_pos_weight=1, seed=None,\n",
              "              silent=None, subsample=1, verbosity=1)"
            ]
          },
          "metadata": {},
          "execution_count": 20
        }
      ]
    }
  ]
}